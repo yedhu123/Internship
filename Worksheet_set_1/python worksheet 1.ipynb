{
 "cells": [
  {
   "cell_type": "code",
   "execution_count": 2,
   "id": "0a71b813",
   "metadata": {},
   "outputs": [
    {
     "data": {
      "text/plain": [
       "0"
      ]
     },
     "execution_count": 2,
     "metadata": {},
     "output_type": "execute_result"
    }
   ],
   "source": [
    "# 2 )\n",
    "2//3"
   ]
  },
  {
   "cell_type": "code",
   "execution_count": 3,
   "id": "0d450d5e",
   "metadata": {},
   "outputs": [
    {
     "data": {
      "text/plain": [
       "24"
      ]
     },
     "execution_count": 3,
     "metadata": {},
     "output_type": "execute_result"
    }
   ],
   "source": [
    "#3)\n",
    "6<<2"
   ]
  },
  {
   "cell_type": "code",
   "execution_count": 5,
   "id": "46bc03c3",
   "metadata": {},
   "outputs": [
    {
     "data": {
      "text/plain": [
       "2"
      ]
     },
     "execution_count": 5,
     "metadata": {},
     "output_type": "execute_result"
    }
   ],
   "source": [
    "#4)\n",
    "6&2"
   ]
  },
  {
   "cell_type": "code",
   "execution_count": 11,
   "id": "5c7a281d",
   "metadata": {},
   "outputs": [
    {
     "data": {
      "text/plain": [
       "6"
      ]
     },
     "execution_count": 11,
     "metadata": {},
     "output_type": "execute_result"
    }
   ],
   "source": [
    "#5)\n",
    "6|2"
   ]
  },
  {
   "cell_type": "markdown",
   "id": "a148f0fd",
   "metadata": {},
   "source": [
    "# factorial  of a   number "
   ]
  },
  {
   "cell_type": "code",
   "execution_count": 18,
   "id": "3fb0a59d",
   "metadata": {},
   "outputs": [
    {
     "name": "stdout",
     "output_type": "stream",
     "text": [
      "Enter a number x: 5\n",
      "The factorial of 5 is 120\n"
     ]
    }
   ],
   "source": [
    "x = int(input(\"Enter a number x: \"))\n",
    "factorial = 1\n",
    "if x < 0:\n",
    "    print(\" Factorial does not exist for negative numbers\")\n",
    "elif x == 0:\n",
    "    print(\"The factorial of 0 is 1\")\n",
    "else:\n",
    "    for i in range(1,x + 1):\n",
    "        factorial = factorial*i\n",
    "print(\"The factorial of\",x,\"is\",factorial)"
   ]
  },
  {
   "cell_type": "markdown",
   "id": "ec4ef8ee",
   "metadata": {},
   "source": [
    "# prime or composite number \n"
   ]
  },
  {
   "cell_type": "code",
   "execution_count": 21,
   "id": "5ba2e1ba",
   "metadata": {},
   "outputs": [
    {
     "name": "stdout",
     "output_type": "stream",
     "text": [
      "4 is not prime but composite number\n",
      "6 is not prime but composite number\n",
      "8 is not prime but composite number\n",
      "9 is not prime but composite number\n",
      "9 number is prime but not composite number\n"
     ]
    }
   ],
   "source": [
    "for n in range(2,10):\n",
    "    for x in range (2,n):\n",
    "        if n%x==0:\n",
    "            print(n,\"is not prime but composite number\")\n",
    "            break\n",
    "else:\n",
    "    print(n,\"number is prime but not composite number\")"
   ]
  },
  {
   "cell_type": "markdown",
   "id": "cf9bbc71",
   "metadata": {},
   "source": [
    "# to check if the string is palindrome  or   not   "
   ]
  },
  {
   "cell_type": "code",
   "execution_count": 26,
   "id": "861a92cb",
   "metadata": {},
   "outputs": [
    {
     "name": "stdout",
     "output_type": "stream",
     "text": [
      "Please enter your own Text : radar\n",
      "Reverse Order :  radar\n",
      "This is a Palindrome String\n"
     ]
    }
   ],
   "source": [
    "string = input(\"Please enter your own Text : \")\n",
    "str1 = \"\"\n",
    "\n",
    "\n",
    "\n",
    "for i in string:\n",
    "    str1 = i + str1\n",
    "print(\"Reverse Order : \", str1)\n",
    "\n",
    "\n",
    "\n",
    "if(string == str1):\n",
    "    print(\"This is a Palindrome String\")\n",
    "else:\n",
    "    print(\"This is Not\")"
   ]
  },
  {
   "cell_type": "markdown",
   "id": "c97d73dd",
   "metadata": {},
   "source": [
    "# find third side of  triangle "
   ]
  },
  {
   "cell_type": "code",
   "execution_count": 30,
   "id": "fbdfb777",
   "metadata": {},
   "outputs": [
    {
     "name": "stdout",
     "output_type": "stream",
     "text": [
      "Enter base: 5\n",
      "Enter height: 5\n",
      "Enter angle: 30\n",
      "Hypotenuse = 7.0710678118654755\n"
     ]
    }
   ],
   "source": [
    "import math \n",
    "\n",
    "a = float(input(\"Enter base: \"))\n",
    "b = float(input(\"Enter height: \"))\n",
    "x = float(input(\"Enter angle: \"))\n",
    " \n",
    "\n",
    "\n",
    "c = math.sqrt(a ** 2 + b ** 2)\n",
    "\n",
    "\n",
    "\n",
    "print(\"Hypotenuse =\", c)"
   ]
  },
  {
   "cell_type": "markdown",
   "id": "82572db1",
   "metadata": {},
   "source": [
    "## frequency of character in a string\n"
   ]
  },
  {
   "cell_type": "code",
   "execution_count": 28,
   "id": "1e103084",
   "metadata": {},
   "outputs": [
    {
     "name": "stdout",
     "output_type": "stream",
     "text": [
      "Enter the string: india\n",
      "Please enter the char to find frequency of a character\n",
      "i\n",
      "The frequency of the  i in the string is:  2\n"
     ]
    }
   ],
   "source": [
    "string=input(\"Enter the string: \")\n",
    "\n",
    "char=input(\"Please enter the char to find frequency of a character\\n\")\n",
    "\n",
    "count=0\n",
    "\n",
    "for i in range(len(string)):\n",
    "\n",
    "\n",
    "    if(string[i]==char):\n",
    "\n",
    "        count=count+1\n",
    "\n",
    "print(\"The frequency of the \",char,\"in the string is: \",count)"
   ]
  },
  {
   "cell_type": "code",
   "execution_count": null,
   "id": "0fd4b9ca",
   "metadata": {},
   "outputs": [],
   "source": []
  },
  {
   "cell_type": "code",
   "execution_count": null,
   "id": "7b723bc2",
   "metadata": {},
   "outputs": [],
   "source": []
  }
 ],
 "metadata": {
  "kernelspec": {
   "display_name": "Python 3 (ipykernel)",
   "language": "python",
   "name": "python3"
  },
  "language_info": {
   "codemirror_mode": {
    "name": "ipython",
    "version": 3
   },
   "file_extension": ".py",
   "mimetype": "text/x-python",
   "name": "python",
   "nbconvert_exporter": "python",
   "pygments_lexer": "ipython3",
   "version": "3.9.7"
  }
 },
 "nbformat": 4,
 "nbformat_minor": 5
}
