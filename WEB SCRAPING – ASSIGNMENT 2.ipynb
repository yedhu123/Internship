{
 "cells": [
  {
   "cell_type": "markdown",
   "id": "1f053a80",
   "metadata": {},
   "source": [
    "# Q1: Write a python program to scrape data for “Data Analyst” Job position in “Bangalore” location. You\n",
    "## have to scrape the job-title, job-location, company_name,   \n",
    "## experience_required. You have to scrape first 10\n",
    "## jobs data.\n"
   ]
  },
  {
   "cell_type": "code",
   "execution_count": 1,
   "id": "48cecae8",
   "metadata": {},
   "outputs": [],
   "source": [
    "import selenium"
   ]
  },
  {
   "cell_type": "code",
   "execution_count": 2,
   "id": "8adbdccc",
   "metadata": {},
   "outputs": [],
   "source": [
    "import pandas as pd"
   ]
  },
  {
   "cell_type": "code",
   "execution_count": 3,
   "id": "17ec3d75",
   "metadata": {},
   "outputs": [],
   "source": [
    "from selenium import webdriver"
   ]
  },
  {
   "cell_type": "code",
   "execution_count": 4,
   "id": "213dad19",
   "metadata": {},
   "outputs": [],
   "source": [
    "import warnings"
   ]
  },
  {
   "cell_type": "code",
   "execution_count": 5,
   "id": "306f2c0a",
   "metadata": {},
   "outputs": [],
   "source": [
    "warnings.filterwarnings(\"ignore\")"
   ]
  },
  {
   "cell_type": "code",
   "execution_count": 6,
   "id": "5f9cf811",
   "metadata": {},
   "outputs": [],
   "source": [
    "import time"
   ]
  },
  {
   "cell_type": "code",
   "execution_count": 9,
   "id": "8a62a19c",
   "metadata": {},
   "outputs": [],
   "source": [
    "driver   =  webdriver.Chrome(\"chromedriver.exe\")\n",
    "time.sleep(2)"
   ]
  },
  {
   "cell_type": "code",
   "execution_count": 10,
   "id": "567d50ae",
   "metadata": {},
   "outputs": [],
   "source": [
    "driver.get(\"https://naukri.com\")"
   ]
  },
  {
   "cell_type": "code",
   "execution_count": 11,
   "id": "affbe326",
   "metadata": {},
   "outputs": [],
   "source": [
    "location   =     driver.find_element_by_xpath(\"/html/body/div/div[2]/div[3]/div/div/div[3]/div/div/div/input\")"
   ]
  },
  {
   "cell_type": "code",
   "execution_count": 12,
   "id": "ead98a27",
   "metadata": {},
   "outputs": [],
   "source": [
    "location.send_keys(\"Bangalore\")"
   ]
  },
  {
   "cell_type": "code",
   "execution_count": 13,
   "id": "f65e0938",
   "metadata": {},
   "outputs": [],
   "source": [
    "job =  driver.find_element_by_class_name(\"suggestor-input \")"
   ]
  },
  {
   "cell_type": "code",
   "execution_count": 14,
   "id": "0dd3dc0f",
   "metadata": {},
   "outputs": [],
   "source": [
    " job.send_keys(\"Data Analyst\")"
   ]
  },
  {
   "cell_type": "code",
   "execution_count": 15,
   "id": "51f51b76",
   "metadata": {},
   "outputs": [],
   "source": [
    "search = driver.find_element_by_xpath('/html/body/div/div[2]/div[3]/div/div/div[6]')"
   ]
  },
  {
   "cell_type": "code",
   "execution_count": 16,
   "id": "d73361d7",
   "metadata": {},
   "outputs": [],
   "source": [
    "search.click()"
   ]
  },
  {
   "cell_type": "code",
   "execution_count": 19,
   "id": "740a9afd",
   "metadata": {},
   "outputs": [],
   "source": [
    "job_title = []"
   ]
  },
  {
   "cell_type": "code",
   "execution_count": 17,
   "id": "b16f4fc2",
   "metadata": {},
   "outputs": [],
   "source": [
    "titles  = driver.find_elements_by_xpath('//a[@class=\"title fw500 ellipsis\"]')"
   ]
  },
  {
   "cell_type": "code",
   "execution_count": 21,
   "id": "3680c867",
   "metadata": {},
   "outputs": [
    {
     "data": {
      "text/plain": [
       "['Senior Data Analyst',\n",
       " 'Sr Data Analyst II',\n",
       " 'Business analyst + data Analysis',\n",
       " 'Consultant - Data Analyst',\n",
       " 'Hiring For Data Analyst with SAP ABAP & BW - C2H Wipro',\n",
       " 'Senior Business Analyst - Data Sciences and Advanced Analytics',\n",
       " 'Business and Data Analyst',\n",
       " 'Senior Data Analyst | Lululemon',\n",
       " 'Urgent hiring For Senior Data Analyst',\n",
       " 'Senior Data Analyst']"
      ]
     },
     "execution_count": 21,
     "metadata": {},
     "output_type": "execute_result"
    }
   ],
   "source": [
    "for i in titles:\n",
    "    title_1=i.text\n",
    "    job_title.append(title_1)\n",
    "job_title [0:10]"
   ]
  },
  {
   "cell_type": "code",
   "execution_count": 22,
   "id": "1e565f7b",
   "metadata": {},
   "outputs": [],
   "source": [
    "title = job_title [0:10]"
   ]
  },
  {
   "cell_type": "code",
   "execution_count": 23,
   "id": "05c21ac3",
   "metadata": {},
   "outputs": [
    {
     "data": {
      "text/plain": [
       "['Senior Data Analyst',\n",
       " 'Sr Data Analyst II',\n",
       " 'Business analyst + data Analysis',\n",
       " 'Consultant - Data Analyst',\n",
       " 'Hiring For Data Analyst with SAP ABAP & BW - C2H Wipro',\n",
       " 'Senior Business Analyst - Data Sciences and Advanced Analytics',\n",
       " 'Business and Data Analyst',\n",
       " 'Senior Data Analyst | Lululemon',\n",
       " 'Urgent hiring For Senior Data Analyst',\n",
       " 'Senior Data Analyst']"
      ]
     },
     "execution_count": 23,
     "metadata": {},
     "output_type": "execute_result"
    }
   ],
   "source": [
    "title"
   ]
  },
  {
   "cell_type": "code",
   "execution_count": 24,
   "id": "ff312a4a",
   "metadata": {},
   "outputs": [],
   "source": [
    "job_location = []"
   ]
  },
  {
   "cell_type": "code",
   "execution_count": 26,
   "id": "b1011ff0",
   "metadata": {},
   "outputs": [],
   "source": [
    "loc  =   driver.find_elements_by_xpath('//li[@class=\"fleft grey-text br2 placeHolderLi location\"]/span')"
   ]
  },
  {
   "cell_type": "code",
   "execution_count": 27,
   "id": "12a27fc2",
   "metadata": {},
   "outputs": [],
   "source": [
    "for i in loc:\n",
    "    text = i.text\n",
    "    job_location.append(text)"
   ]
  },
  {
   "cell_type": "code",
   "execution_count": 29,
   "id": "652174d4",
   "metadata": {},
   "outputs": [],
   "source": [
    "location = job_location[:10]"
   ]
  },
  {
   "cell_type": "code",
   "execution_count": 30,
   "id": "b057bf52",
   "metadata": {},
   "outputs": [
    {
     "data": {
      "text/plain": [
       "['Bangalore/Bengaluru',\n",
       " 'Gurgaon/Gurugram, Bangalore/Bengaluru',\n",
       " 'Hyderabad/Secunderabad, Bangalore/Bengaluru',\n",
       " 'Bangalore/Bengaluru',\n",
       " 'Bangalore/Bengaluru',\n",
       " '(WFH during Covid)',\n",
       " 'Bangalore/Bengaluru',\n",
       " 'Bangalore/Bengaluru',\n",
       " '(WFH during Covid)',\n",
       " 'Bangalore/Bengaluru']"
      ]
     },
     "execution_count": 30,
     "metadata": {},
     "output_type": "execute_result"
    }
   ],
   "source": [
    "location"
   ]
  },
  {
   "cell_type": "code",
   "execution_count": 31,
   "id": "97a14490",
   "metadata": {},
   "outputs": [],
   "source": [
    "company_name = []"
   ]
  },
  {
   "cell_type": "code",
   "execution_count": 32,
   "id": "58172441",
   "metadata": {},
   "outputs": [],
   "source": [
    "comp =  driver.find_elements_by_xpath('//a[@class=\"subTitle ellipsis fleft\"]')"
   ]
  },
  {
   "cell_type": "code",
   "execution_count": 33,
   "id": "fd730638",
   "metadata": {},
   "outputs": [],
   "source": [
    "for i in comp:\n",
    "    text = i.text\n",
    "    company_name.append(text)"
   ]
  },
  {
   "cell_type": "code",
   "execution_count": 34,
   "id": "901138ae",
   "metadata": {},
   "outputs": [],
   "source": [
    "company = company_name[:10]"
   ]
  },
  {
   "cell_type": "code",
   "execution_count": 35,
   "id": "14900837",
   "metadata": {},
   "outputs": [
    {
     "data": {
      "text/plain": [
       "['Flipkart',\n",
       " 'IHS Markit',\n",
       " 'Anlage Infotech (I) Pvt. Ltd.',\n",
       " 'Flipkart',\n",
       " 'MILLION MINDS INFOTECH PRIVATE LIMITED',\n",
       " 'Vmware',\n",
       " 'CAREERDOST ENTERPRISE',\n",
       " 'TALENT500 TECH (INDIA) PRIVATE LIMITED',\n",
       " 'upGrad',\n",
       " 'Thomson Reuters']"
      ]
     },
     "execution_count": 35,
     "metadata": {},
     "output_type": "execute_result"
    }
   ],
   "source": [
    "company"
   ]
  },
  {
   "cell_type": "code",
   "execution_count": 37,
   "id": "bd1b2448",
   "metadata": {},
   "outputs": [],
   "source": [
    "experience_required =   []"
   ]
  },
  {
   "cell_type": "code",
   "execution_count": 38,
   "id": "0afcdc61",
   "metadata": {},
   "outputs": [],
   "source": [
    "exp =  driver.find_elements_by_xpath('//li[@class=\"fleft grey-text br2 placeHolderLi experience\"]/span')"
   ]
  },
  {
   "cell_type": "code",
   "execution_count": 39,
   "id": "4add0347",
   "metadata": {},
   "outputs": [],
   "source": [
    "for i in exp:\n",
    "    text = i.text\n",
    "    experience_required.append(text)"
   ]
  },
  {
   "cell_type": "code",
   "execution_count": 42,
   "id": "781c763a",
   "metadata": {},
   "outputs": [],
   "source": [
    "experience = experience_required[:10]"
   ]
  },
  {
   "cell_type": "code",
   "execution_count": 43,
   "id": "d458adc4",
   "metadata": {},
   "outputs": [
    {
     "data": {
      "text/plain": [
       "['3-7 Yrs',\n",
       " '3-6 Yrs',\n",
       " '5-10 Yrs',\n",
       " '1-3 Yrs',\n",
       " '7-10 Yrs',\n",
       " '3-7 Yrs',\n",
       " '0-5 Yrs',\n",
       " '5-8 Yrs',\n",
       " '2-7 Yrs',\n",
       " '2-4 Yrs']"
      ]
     },
     "execution_count": 43,
     "metadata": {},
     "output_type": "execute_result"
    }
   ],
   "source": [
    "experience"
   ]
  },
  {
   "cell_type": "code",
   "execution_count": 44,
   "id": "c9c1d256",
   "metadata": {},
   "outputs": [],
   "source": [
    "job = pd.DataFrame({})"
   ]
  },
  {
   "cell_type": "code",
   "execution_count": 45,
   "id": "173a12e5",
   "metadata": {},
   "outputs": [],
   "source": [
    "job[\"Title\"] = title"
   ]
  },
  {
   "cell_type": "code",
   "execution_count": 46,
   "id": "e841eabc",
   "metadata": {},
   "outputs": [],
   "source": [
    "job[\"company\"] = company"
   ]
  },
  {
   "cell_type": "code",
   "execution_count": 47,
   "id": "22416f66",
   "metadata": {},
   "outputs": [],
   "source": [
    "job[\"location\"] = location "
   ]
  },
  {
   "cell_type": "code",
   "execution_count": 48,
   "id": "f29ff595",
   "metadata": {},
   "outputs": [],
   "source": [
    "job [ \"experience\"] = experience"
   ]
  },
  {
   "cell_type": "code",
   "execution_count": 49,
   "id": "00a51a2d",
   "metadata": {},
   "outputs": [
    {
     "data": {
      "text/html": [
       "<div>\n",
       "<style scoped>\n",
       "    .dataframe tbody tr th:only-of-type {\n",
       "        vertical-align: middle;\n",
       "    }\n",
       "\n",
       "    .dataframe tbody tr th {\n",
       "        vertical-align: top;\n",
       "    }\n",
       "\n",
       "    .dataframe thead th {\n",
       "        text-align: right;\n",
       "    }\n",
       "</style>\n",
       "<table border=\"1\" class=\"dataframe\">\n",
       "  <thead>\n",
       "    <tr style=\"text-align: right;\">\n",
       "      <th></th>\n",
       "      <th>Title</th>\n",
       "      <th>company</th>\n",
       "      <th>location</th>\n",
       "      <th>experience</th>\n",
       "    </tr>\n",
       "  </thead>\n",
       "  <tbody>\n",
       "    <tr>\n",
       "      <th>0</th>\n",
       "      <td>Senior Data Analyst</td>\n",
       "      <td>Flipkart</td>\n",
       "      <td>Bangalore/Bengaluru</td>\n",
       "      <td>3-7 Yrs</td>\n",
       "    </tr>\n",
       "    <tr>\n",
       "      <th>1</th>\n",
       "      <td>Sr Data Analyst II</td>\n",
       "      <td>IHS Markit</td>\n",
       "      <td>Gurgaon/Gurugram, Bangalore/Bengaluru</td>\n",
       "      <td>3-6 Yrs</td>\n",
       "    </tr>\n",
       "    <tr>\n",
       "      <th>2</th>\n",
       "      <td>Business analyst + data Analysis</td>\n",
       "      <td>Anlage Infotech (I) Pvt. Ltd.</td>\n",
       "      <td>Hyderabad/Secunderabad, Bangalore/Bengaluru</td>\n",
       "      <td>5-10 Yrs</td>\n",
       "    </tr>\n",
       "    <tr>\n",
       "      <th>3</th>\n",
       "      <td>Consultant - Data Analyst</td>\n",
       "      <td>Flipkart</td>\n",
       "      <td>Bangalore/Bengaluru</td>\n",
       "      <td>1-3 Yrs</td>\n",
       "    </tr>\n",
       "    <tr>\n",
       "      <th>4</th>\n",
       "      <td>Hiring For Data Analyst with SAP ABAP &amp; BW - C...</td>\n",
       "      <td>MILLION MINDS INFOTECH PRIVATE LIMITED</td>\n",
       "      <td>Bangalore/Bengaluru</td>\n",
       "      <td>7-10 Yrs</td>\n",
       "    </tr>\n",
       "    <tr>\n",
       "      <th>5</th>\n",
       "      <td>Senior Business Analyst - Data Sciences and Ad...</td>\n",
       "      <td>Vmware</td>\n",
       "      <td>(WFH during Covid)</td>\n",
       "      <td>3-7 Yrs</td>\n",
       "    </tr>\n",
       "    <tr>\n",
       "      <th>6</th>\n",
       "      <td>Business and Data Analyst</td>\n",
       "      <td>CAREERDOST ENTERPRISE</td>\n",
       "      <td>Bangalore/Bengaluru</td>\n",
       "      <td>0-5 Yrs</td>\n",
       "    </tr>\n",
       "    <tr>\n",
       "      <th>7</th>\n",
       "      <td>Senior Data Analyst | Lululemon</td>\n",
       "      <td>TALENT500 TECH (INDIA) PRIVATE LIMITED</td>\n",
       "      <td>Bangalore/Bengaluru</td>\n",
       "      <td>5-8 Yrs</td>\n",
       "    </tr>\n",
       "    <tr>\n",
       "      <th>8</th>\n",
       "      <td>Urgent hiring For Senior Data Analyst</td>\n",
       "      <td>upGrad</td>\n",
       "      <td>(WFH during Covid)</td>\n",
       "      <td>2-7 Yrs</td>\n",
       "    </tr>\n",
       "    <tr>\n",
       "      <th>9</th>\n",
       "      <td>Senior Data Analyst</td>\n",
       "      <td>Thomson Reuters</td>\n",
       "      <td>Bangalore/Bengaluru</td>\n",
       "      <td>2-4 Yrs</td>\n",
       "    </tr>\n",
       "  </tbody>\n",
       "</table>\n",
       "</div>"
      ],
      "text/plain": [
       "                                               Title  \\\n",
       "0                                Senior Data Analyst   \n",
       "1                                 Sr Data Analyst II   \n",
       "2                   Business analyst + data Analysis   \n",
       "3                          Consultant - Data Analyst   \n",
       "4  Hiring For Data Analyst with SAP ABAP & BW - C...   \n",
       "5  Senior Business Analyst - Data Sciences and Ad...   \n",
       "6                          Business and Data Analyst   \n",
       "7                    Senior Data Analyst | Lululemon   \n",
       "8              Urgent hiring For Senior Data Analyst   \n",
       "9                                Senior Data Analyst   \n",
       "\n",
       "                                  company  \\\n",
       "0                                Flipkart   \n",
       "1                              IHS Markit   \n",
       "2           Anlage Infotech (I) Pvt. Ltd.   \n",
       "3                                Flipkart   \n",
       "4  MILLION MINDS INFOTECH PRIVATE LIMITED   \n",
       "5                                  Vmware   \n",
       "6                   CAREERDOST ENTERPRISE   \n",
       "7  TALENT500 TECH (INDIA) PRIVATE LIMITED   \n",
       "8                                  upGrad   \n",
       "9                         Thomson Reuters   \n",
       "\n",
       "                                      location experience  \n",
       "0                          Bangalore/Bengaluru    3-7 Yrs  \n",
       "1        Gurgaon/Gurugram, Bangalore/Bengaluru    3-6 Yrs  \n",
       "2  Hyderabad/Secunderabad, Bangalore/Bengaluru   5-10 Yrs  \n",
       "3                          Bangalore/Bengaluru    1-3 Yrs  \n",
       "4                          Bangalore/Bengaluru   7-10 Yrs  \n",
       "5                           (WFH during Covid)    3-7 Yrs  \n",
       "6                          Bangalore/Bengaluru    0-5 Yrs  \n",
       "7                          Bangalore/Bengaluru    5-8 Yrs  \n",
       "8                           (WFH during Covid)    2-7 Yrs  \n",
       "9                          Bangalore/Bengaluru    2-4 Yrs  "
      ]
     },
     "execution_count": 49,
     "metadata": {},
     "output_type": "execute_result"
    }
   ],
   "source": [
    "job"
   ]
  },
  {
   "cell_type": "code",
   "execution_count": 52,
   "id": "308b5fef",
   "metadata": {},
   "outputs": [],
   "source": [
    "driver.close()"
   ]
  },
  {
   "cell_type": "markdown",
   "id": "fc12f45d",
   "metadata": {},
   "source": [
    "# Q2: Write a python program to scrape data for “Data Scientist” Job position in “Bangalore” location."
   ]
  },
  {
   "cell_type": "code",
   "execution_count": null,
   "id": "4d443d44",
   "metadata": {},
   "outputs": [],
   "source": []
  },
  {
   "cell_type": "code",
   "execution_count": 373,
   "id": "871c77e8",
   "metadata": {},
   "outputs": [],
   "source": [
    "import selenium"
   ]
  },
  {
   "cell_type": "code",
   "execution_count": 374,
   "id": "5f798ec0",
   "metadata": {},
   "outputs": [],
   "source": [
    "import pandas as pd"
   ]
  },
  {
   "cell_type": "code",
   "execution_count": 375,
   "id": "268023ac",
   "metadata": {},
   "outputs": [],
   "source": [
    "from selenium import webdriver"
   ]
  },
  {
   "cell_type": "code",
   "execution_count": 376,
   "id": "170e93f8",
   "metadata": {},
   "outputs": [],
   "source": [
    "import warnings"
   ]
  },
  {
   "cell_type": "code",
   "execution_count": 377,
   "id": "8992c9e8",
   "metadata": {},
   "outputs": [],
   "source": [
    "warnings.filterwarnings(\"ignore\")"
   ]
  },
  {
   "cell_type": "code",
   "execution_count": 378,
   "id": "ddfbb918",
   "metadata": {},
   "outputs": [],
   "source": [
    "import time"
   ]
  },
  {
   "cell_type": "code",
   "execution_count": null,
   "id": "addb528d",
   "metadata": {},
   "outputs": [],
   "source": []
  },
  {
   "cell_type": "code",
   "execution_count": null,
   "id": "6b707e3d",
   "metadata": {},
   "outputs": [],
   "source": []
  },
  {
   "cell_type": "code",
   "execution_count": 379,
   "id": "22a5bc32",
   "metadata": {},
   "outputs": [],
   "source": [
    "driver   =  webdriver.Chrome(\"chromedriver.exe\")\n",
    "time.sleep(2)"
   ]
  },
  {
   "cell_type": "code",
   "execution_count": 380,
   "id": "84debd8c",
   "metadata": {},
   "outputs": [],
   "source": [
    "driver.get(\"https://naukri.com\")"
   ]
  },
  {
   "cell_type": "code",
   "execution_count": 381,
   "id": "8de78f81",
   "metadata": {},
   "outputs": [],
   "source": [
    "location   =     driver.find_element_by_xpath(\"/html/body/div/div[2]/div[3]/div/div/div[3]/div/div/div/input\")"
   ]
  },
  {
   "cell_type": "code",
   "execution_count": 382,
   "id": "3037fbcf",
   "metadata": {},
   "outputs": [],
   "source": [
    "location.send_keys(\"Bangalore\")"
   ]
  },
  {
   "cell_type": "code",
   "execution_count": 383,
   "id": "786c207b",
   "metadata": {},
   "outputs": [],
   "source": [
    "job =  driver.find_element_by_class_name(\"suggestor-input \")"
   ]
  },
  {
   "cell_type": "code",
   "execution_count": 384,
   "id": "6e01786a",
   "metadata": {},
   "outputs": [],
   "source": [
    " job.send_keys(\"Data scientist\")"
   ]
  },
  {
   "cell_type": "code",
   "execution_count": 385,
   "id": "d803151b",
   "metadata": {},
   "outputs": [],
   "source": [
    "search = driver.find_element_by_xpath('/html/body/div/div[2]/div[3]/div/div/div[6]')"
   ]
  },
  {
   "cell_type": "code",
   "execution_count": 386,
   "id": "9d547ee1",
   "metadata": {},
   "outputs": [],
   "source": [
    "search.click()"
   ]
  },
  {
   "cell_type": "code",
   "execution_count": 387,
   "id": "26b6c171",
   "metadata": {},
   "outputs": [],
   "source": [
    "job_title = []"
   ]
  },
  {
   "cell_type": "code",
   "execution_count": 388,
   "id": "f4da0eb8",
   "metadata": {},
   "outputs": [],
   "source": [
    "titles  = driver.find_elements_by_xpath('//a[@class=\"title fw500 ellipsis\"]')"
   ]
  },
  {
   "cell_type": "code",
   "execution_count": 389,
   "id": "c3a8d817",
   "metadata": {
    "scrolled": true
   },
   "outputs": [
    {
     "data": {
      "text/plain": [
       "[<selenium.webdriver.remote.webelement.WebElement (session=\"c003d19abc209ff5d6a9d148fd437acc\", element=\"be6d0fdd-13e2-4b49-a4c7-d329b04352ce\")>,\n",
       " <selenium.webdriver.remote.webelement.WebElement (session=\"c003d19abc209ff5d6a9d148fd437acc\", element=\"dfc3a4ab-82e2-4282-8e8f-4426acb22856\")>,\n",
       " <selenium.webdriver.remote.webelement.WebElement (session=\"c003d19abc209ff5d6a9d148fd437acc\", element=\"d4eed0ae-4697-46f6-8a6e-e50c2ba2c842\")>,\n",
       " <selenium.webdriver.remote.webelement.WebElement (session=\"c003d19abc209ff5d6a9d148fd437acc\", element=\"2fa974e9-addf-455e-941d-68e006d9dbff\")>]"
      ]
     },
     "execution_count": 389,
     "metadata": {},
     "output_type": "execute_result"
    }
   ],
   "source": [
    "titles [0:4]"
   ]
  },
  {
   "cell_type": "code",
   "execution_count": 390,
   "id": "549236d3",
   "metadata": {},
   "outputs": [
    {
     "name": "stdout",
     "output_type": "stream",
     "text": [
      "['Senior Data Scientist', 'Data Scientist: Advanced Analytics', 'Data Scientist', 'Data Scientist: Artificial Intelligence', 'Data Scientist: Artificial Intelligence', 'Data Scientist: Artificial Intelligence', 'Data Scientist: Artificial Intelligence', 'Data Scientist, Machine Learning (AIML)', 'Sr. Data Scientist', 'Lead Data Scientist']\n"
     ]
    }
   ],
   "source": [
    "for i in titles:\n",
    "    title_1=i.text\n",
    "    job_title.append(title_1)\n",
    "print(job_title [0:10])"
   ]
  },
  {
   "cell_type": "code",
   "execution_count": 412,
   "id": "87058b2d",
   "metadata": {},
   "outputs": [],
   "source": [
    "#or\n",
    "\n",
    "\n",
    "job_title = job_title [0:10]"
   ]
  },
  {
   "cell_type": "code",
   "execution_count": 413,
   "id": "f067e145",
   "metadata": {},
   "outputs": [
    {
     "data": {
      "text/plain": [
       "['Senior Data Scientist',\n",
       " 'Data Scientist: Advanced Analytics',\n",
       " 'Data Scientist',\n",
       " 'Data Scientist: Artificial Intelligence',\n",
       " 'Data Scientist: Artificial Intelligence',\n",
       " 'Data Scientist: Artificial Intelligence',\n",
       " 'Data Scientist: Artificial Intelligence',\n",
       " 'Data Scientist, Machine Learning (AIML)',\n",
       " 'Sr. Data Scientist',\n",
       " 'Lead Data Scientist']"
      ]
     },
     "execution_count": 413,
     "metadata": {},
     "output_type": "execute_result"
    }
   ],
   "source": [
    "job_title"
   ]
  },
  {
   "cell_type": "code",
   "execution_count": 392,
   "id": "4ba04b99",
   "metadata": {},
   "outputs": [],
   "source": [
    "job_loc = driver.find_elements_by_xpath('//span[@title=\"Bangalore/Bengaluru \"]')"
   ]
  },
  {
   "cell_type": "code",
   "execution_count": 138,
   "id": "75ac295d",
   "metadata": {},
   "outputs": [
    {
     "data": {
      "text/plain": [
       "[<selenium.webdriver.remote.webelement.WebElement (session=\"16d811f7b54c440a2eac342569fb9f5a\", element=\"ba309691-0af4-4e6c-8ac1-bde121993742\")>,\n",
       " <selenium.webdriver.remote.webelement.WebElement (session=\"16d811f7b54c440a2eac342569fb9f5a\", element=\"4ca1acff-df53-4aee-84ab-87ee9919755e\")>,\n",
       " <selenium.webdriver.remote.webelement.WebElement (session=\"16d811f7b54c440a2eac342569fb9f5a\", element=\"2e44e951-9b58-4762-a00a-94def74ab903\")>,\n",
       " <selenium.webdriver.remote.webelement.WebElement (session=\"16d811f7b54c440a2eac342569fb9f5a\", element=\"12a049b8-ee37-4e4c-a784-6abac56ce81e\")>,\n",
       " <selenium.webdriver.remote.webelement.WebElement (session=\"16d811f7b54c440a2eac342569fb9f5a\", element=\"6858ec04-1ea8-42ab-8cf0-aadd4b8ffbdb\")>,\n",
       " <selenium.webdriver.remote.webelement.WebElement (session=\"16d811f7b54c440a2eac342569fb9f5a\", element=\"cf78a28e-f791-4fe2-8957-98822896a681\")>,\n",
       " <selenium.webdriver.remote.webelement.WebElement (session=\"16d811f7b54c440a2eac342569fb9f5a\", element=\"28c5ead2-e720-47a3-8c71-02dc1e333304\")>,\n",
       " <selenium.webdriver.remote.webelement.WebElement (session=\"16d811f7b54c440a2eac342569fb9f5a\", element=\"9499232a-061d-4ef1-9122-126f36931966\")>,\n",
       " <selenium.webdriver.remote.webelement.WebElement (session=\"16d811f7b54c440a2eac342569fb9f5a\", element=\"af3f8f12-c5ff-465d-92ed-847c3aa89497\")>,\n",
       " <selenium.webdriver.remote.webelement.WebElement (session=\"16d811f7b54c440a2eac342569fb9f5a\", element=\"7773e5ab-723b-4416-a0a8-d8cdd4220251\")>]"
      ]
     },
     "execution_count": 138,
     "metadata": {},
     "output_type": "execute_result"
    }
   ],
   "source": [
    "job_loc[0:10]"
   ]
  },
  {
   "cell_type": "code",
   "execution_count": 393,
   "id": "bb769cd7",
   "metadata": {},
   "outputs": [],
   "source": [
    "job_location = []"
   ]
  },
  {
   "cell_type": "code",
   "execution_count": 394,
   "id": "5005fc47",
   "metadata": {},
   "outputs": [],
   "source": [
    "for i in job_loc:\n",
    "    loc = i.text\n",
    "    job_location.append(loc)"
   ]
  },
  {
   "cell_type": "code",
   "execution_count": 415,
   "id": "6349aabb",
   "metadata": {},
   "outputs": [],
   "source": [
    "job_location= job_location[0:10]"
   ]
  },
  {
   "cell_type": "code",
   "execution_count": 416,
   "id": "2c3315c6",
   "metadata": {},
   "outputs": [
    {
     "data": {
      "text/plain": [
       "['Bangalore/Bengaluru',\n",
       " 'Bangalore/Bengaluru',\n",
       " 'Bangalore/Bengaluru',\n",
       " 'Bangalore/Bengaluru',\n",
       " 'Bangalore/Bengaluru',\n",
       " 'Bangalore/Bengaluru',\n",
       " 'Bangalore/Bengaluru',\n",
       " 'Bangalore/Bengaluru',\n",
       " 'Bangalore/Bengaluru',\n",
       " 'Bangalore/Bengaluru']"
      ]
     },
     "execution_count": 416,
     "metadata": {},
     "output_type": "execute_result"
    }
   ],
   "source": [
    "job_location"
   ]
  },
  {
   "cell_type": "code",
   "execution_count": 396,
   "id": "f1849210",
   "metadata": {},
   "outputs": [],
   "source": [
    "company_name = []"
   ]
  },
  {
   "cell_type": "code",
   "execution_count": 397,
   "id": "17339d05",
   "metadata": {},
   "outputs": [],
   "source": [
    "comp = driver.find_elements_by_xpath('//a[@class=\"subTitle ellipsis fleft\"]')"
   ]
  },
  {
   "cell_type": "code",
   "execution_count": null,
   "id": "002d9bc9",
   "metadata": {},
   "outputs": [],
   "source": []
  },
  {
   "cell_type": "code",
   "execution_count": 398,
   "id": "4278c754",
   "metadata": {},
   "outputs": [],
   "source": [
    "comp_1 = comp[0:10]"
   ]
  },
  {
   "cell_type": "code",
   "execution_count": 399,
   "id": "00dc31aa",
   "metadata": {
    "scrolled": true
   },
   "outputs": [
    {
     "data": {
      "text/plain": [
       "[<selenium.webdriver.remote.webelement.WebElement (session=\"c003d19abc209ff5d6a9d148fd437acc\", element=\"e1d1e5d1-9cd6-40c7-93ff-971ad0e56619\")>,\n",
       " <selenium.webdriver.remote.webelement.WebElement (session=\"c003d19abc209ff5d6a9d148fd437acc\", element=\"40ffd186-f006-44e2-8a22-253e41abf9f8\")>,\n",
       " <selenium.webdriver.remote.webelement.WebElement (session=\"c003d19abc209ff5d6a9d148fd437acc\", element=\"2d669627-5510-4ac8-a1c3-93492a485215\")>,\n",
       " <selenium.webdriver.remote.webelement.WebElement (session=\"c003d19abc209ff5d6a9d148fd437acc\", element=\"d90da22f-9d05-4af4-a2e9-044f0b49d7bf\")>,\n",
       " <selenium.webdriver.remote.webelement.WebElement (session=\"c003d19abc209ff5d6a9d148fd437acc\", element=\"00d05d68-e308-401d-bb50-36e44eee468b\")>,\n",
       " <selenium.webdriver.remote.webelement.WebElement (session=\"c003d19abc209ff5d6a9d148fd437acc\", element=\"3202dde2-8a60-41b8-84d3-6120e4be19f0\")>,\n",
       " <selenium.webdriver.remote.webelement.WebElement (session=\"c003d19abc209ff5d6a9d148fd437acc\", element=\"a2a42154-ca52-427a-97c1-f2e61fa18853\")>,\n",
       " <selenium.webdriver.remote.webelement.WebElement (session=\"c003d19abc209ff5d6a9d148fd437acc\", element=\"4b320159-9fb2-4b27-bd8e-8fd8439db7fd\")>,\n",
       " <selenium.webdriver.remote.webelement.WebElement (session=\"c003d19abc209ff5d6a9d148fd437acc\", element=\"73e8be8a-d8b5-4f2f-85d8-400a89294490\")>,\n",
       " <selenium.webdriver.remote.webelement.WebElement (session=\"c003d19abc209ff5d6a9d148fd437acc\", element=\"5fdbfaff-4f1d-4d0b-8f3d-0338d6b6b35c\")>]"
      ]
     },
     "execution_count": 399,
     "metadata": {},
     "output_type": "execute_result"
    }
   ],
   "source": [
    "comp_1"
   ]
  },
  {
   "cell_type": "code",
   "execution_count": 400,
   "id": "2ed7ce71",
   "metadata": {},
   "outputs": [
    {
     "data": {
      "text/plain": [
       "['Fractal Analytics',\n",
       " 'IBM',\n",
       " 'VISA',\n",
       " 'IBM',\n",
       " 'IBM',\n",
       " 'IBM',\n",
       " 'IBM',\n",
       " 'Fractal Analytics',\n",
       " \"HUDSON'S BAY SERVICES PRIVATE LIMITED\",\n",
       " 'TransOrg Solutions Services (P) Ltd.']"
      ]
     },
     "execution_count": 400,
     "metadata": {},
     "output_type": "execute_result"
    }
   ],
   "source": [
    "for i in comp_1:\n",
    "    text=i.text\n",
    "    company_name.append(text.replace(\"\\n\",\"\"))\n",
    "company_name"
   ]
  },
  {
   "cell_type": "code",
   "execution_count": 417,
   "id": "c0869062",
   "metadata": {},
   "outputs": [
    {
     "data": {
      "text/plain": [
       "['Fractal Analytics',\n",
       " 'IBM',\n",
       " 'VISA',\n",
       " 'IBM',\n",
       " 'IBM',\n",
       " 'IBM',\n",
       " 'IBM',\n",
       " 'Fractal Analytics',\n",
       " \"HUDSON'S BAY SERVICES PRIVATE LIMITED\",\n",
       " 'TransOrg Solutions Services (P) Ltd.']"
      ]
     },
     "execution_count": 417,
     "metadata": {},
     "output_type": "execute_result"
    }
   ],
   "source": [
    "company_name "
   ]
  },
  {
   "cell_type": "code",
   "execution_count": null,
   "id": "703ed931",
   "metadata": {},
   "outputs": [],
   "source": []
  },
  {
   "cell_type": "code",
   "execution_count": 401,
   "id": "1ce31631",
   "metadata": {},
   "outputs": [],
   "source": [
    "experience_required = driver.find_elements_by_xpath('//span[contains(@title ,\"Yrs\")]')"
   ]
  },
  {
   "cell_type": "code",
   "execution_count": 402,
   "id": "1b5e546b",
   "metadata": {
    "scrolled": true
   },
   "outputs": [
    {
     "data": {
      "text/plain": [
       "[<selenium.webdriver.remote.webelement.WebElement (session=\"c003d19abc209ff5d6a9d148fd437acc\", element=\"e236925b-7574-4e2b-af0b-666e0c550fbe\")>,\n",
       " <selenium.webdriver.remote.webelement.WebElement (session=\"c003d19abc209ff5d6a9d148fd437acc\", element=\"e1d4c5ae-c22d-4558-8637-309b35a7bf8b\")>,\n",
       " <selenium.webdriver.remote.webelement.WebElement (session=\"c003d19abc209ff5d6a9d148fd437acc\", element=\"5f142227-5749-4893-981a-cc32b5db2fff\")>,\n",
       " <selenium.webdriver.remote.webelement.WebElement (session=\"c003d19abc209ff5d6a9d148fd437acc\", element=\"64641426-10b0-4bbf-897b-0ef1c7b51a54\")>,\n",
       " <selenium.webdriver.remote.webelement.WebElement (session=\"c003d19abc209ff5d6a9d148fd437acc\", element=\"b5204935-d2fa-4bf4-a918-5c0cee8c9ef7\")>,\n",
       " <selenium.webdriver.remote.webelement.WebElement (session=\"c003d19abc209ff5d6a9d148fd437acc\", element=\"1ab76aa5-2ca8-4fd7-b6a9-fd517ac0d3ce\")>,\n",
       " <selenium.webdriver.remote.webelement.WebElement (session=\"c003d19abc209ff5d6a9d148fd437acc\", element=\"806f7180-7a53-4f55-ab63-62fd5f97ee38\")>,\n",
       " <selenium.webdriver.remote.webelement.WebElement (session=\"c003d19abc209ff5d6a9d148fd437acc\", element=\"7e44a8b5-84c4-42fb-b012-8bb115a9d34a\")>,\n",
       " <selenium.webdriver.remote.webelement.WebElement (session=\"c003d19abc209ff5d6a9d148fd437acc\", element=\"5bf5fd51-a5b5-4900-8d42-c8090ff921d0\")>,\n",
       " <selenium.webdriver.remote.webelement.WebElement (session=\"c003d19abc209ff5d6a9d148fd437acc\", element=\"5bdae9ce-6e2b-416a-89c6-82855588e4f6\")>,\n",
       " <selenium.webdriver.remote.webelement.WebElement (session=\"c003d19abc209ff5d6a9d148fd437acc\", element=\"b9de4d91-4505-49ed-936d-3d640fc8d614\")>,\n",
       " <selenium.webdriver.remote.webelement.WebElement (session=\"c003d19abc209ff5d6a9d148fd437acc\", element=\"e8663849-0e8a-483d-853b-327f522fd07f\")>,\n",
       " <selenium.webdriver.remote.webelement.WebElement (session=\"c003d19abc209ff5d6a9d148fd437acc\", element=\"b2ff7a63-5977-4086-bc10-4ca44edf2bfd\")>,\n",
       " <selenium.webdriver.remote.webelement.WebElement (session=\"c003d19abc209ff5d6a9d148fd437acc\", element=\"ba46e4bf-5dfe-4563-a4bb-1290e8cc83ea\")>,\n",
       " <selenium.webdriver.remote.webelement.WebElement (session=\"c003d19abc209ff5d6a9d148fd437acc\", element=\"b847d6d6-5d95-4a2a-ae6c-613c16f748e6\")>,\n",
       " <selenium.webdriver.remote.webelement.WebElement (session=\"c003d19abc209ff5d6a9d148fd437acc\", element=\"775e6590-3c30-4119-a68b-0eb78f8f8221\")>,\n",
       " <selenium.webdriver.remote.webelement.WebElement (session=\"c003d19abc209ff5d6a9d148fd437acc\", element=\"f9994141-099b-4c0b-8c91-766da716158c\")>,\n",
       " <selenium.webdriver.remote.webelement.WebElement (session=\"c003d19abc209ff5d6a9d148fd437acc\", element=\"0144f94e-6f1e-4d24-a90f-4a2f40b526b4\")>,\n",
       " <selenium.webdriver.remote.webelement.WebElement (session=\"c003d19abc209ff5d6a9d148fd437acc\", element=\"9f2bf4da-9ca9-4e10-bb4b-6813cf4f9479\")>,\n",
       " <selenium.webdriver.remote.webelement.WebElement (session=\"c003d19abc209ff5d6a9d148fd437acc\", element=\"03a87531-b426-40b0-b4f6-ee8b6a0516a4\")>]"
      ]
     },
     "execution_count": 402,
     "metadata": {},
     "output_type": "execute_result"
    }
   ],
   "source": [
    "experience_required\n"
   ]
  },
  {
   "cell_type": "code",
   "execution_count": 403,
   "id": "cabdc641",
   "metadata": {},
   "outputs": [],
   "source": [
    "experience = []"
   ]
  },
  {
   "cell_type": "code",
   "execution_count": 418,
   "id": "260c1a2d",
   "metadata": {},
   "outputs": [],
   "source": [
    "for i in experience_required:\n",
    "    text=i.text\n",
    "    experience.append(text.replace(\"\\n\",\"\"))\n",
    "experience= experience[:10]"
   ]
  },
  {
   "cell_type": "code",
   "execution_count": 419,
   "id": "9db051d6",
   "metadata": {},
   "outputs": [
    {
     "data": {
      "text/plain": [
       "['5-10 Yrs',\n",
       " '5-7 Yrs',\n",
       " '3-7 Yrs',\n",
       " '10-12 Yrs',\n",
       " '11-12 Yrs',\n",
       " '11-12 Yrs',\n",
       " '11-12 Yrs',\n",
       " '3-7 Yrs',\n",
       " '4-9 Yrs',\n",
       " '4-9 Yrs']"
      ]
     },
     "execution_count": 419,
     "metadata": {},
     "output_type": "execute_result"
    }
   ],
   "source": [
    "experience"
   ]
  },
  {
   "cell_type": "code",
   "execution_count": 405,
   "id": "7434eee2",
   "metadata": {},
   "outputs": [],
   "source": []
  },
  {
   "cell_type": "code",
   "execution_count": 326,
   "id": "bcbe0918",
   "metadata": {},
   "outputs": [],
   "source": []
  },
  {
   "cell_type": "code",
   "execution_count": null,
   "id": "30b56151",
   "metadata": {},
   "outputs": [],
   "source": []
  },
  {
   "cell_type": "code",
   "execution_count": 281,
   "id": "a8215d53",
   "metadata": {},
   "outputs": [],
   "source": []
  },
  {
   "cell_type": "code",
   "execution_count": 420,
   "id": "ae239758",
   "metadata": {},
   "outputs": [],
   "source": [
    "job = pd.DataFrame ({})"
   ]
  },
  {
   "cell_type": "code",
   "execution_count": 421,
   "id": "0b4d9e4a",
   "metadata": {},
   "outputs": [],
   "source": [
    "job[\"job title\"] = job_title"
   ]
  },
  {
   "cell_type": "code",
   "execution_count": 423,
   "id": "22af5654",
   "metadata": {},
   "outputs": [],
   "source": [
    "job['location'] = job_location"
   ]
  },
  {
   "cell_type": "code",
   "execution_count": 425,
   "id": "b135b77b",
   "metadata": {},
   "outputs": [],
   "source": [
    "job[\"company\"] = company_name"
   ]
  },
  {
   "cell_type": "code",
   "execution_count": 426,
   "id": "6169deff",
   "metadata": {},
   "outputs": [],
   "source": [
    "job[\"experience\"] = experience"
   ]
  },
  {
   "cell_type": "code",
   "execution_count": 427,
   "id": "6d68f7bd",
   "metadata": {},
   "outputs": [
    {
     "data": {
      "text/html": [
       "<div>\n",
       "<style scoped>\n",
       "    .dataframe tbody tr th:only-of-type {\n",
       "        vertical-align: middle;\n",
       "    }\n",
       "\n",
       "    .dataframe tbody tr th {\n",
       "        vertical-align: top;\n",
       "    }\n",
       "\n",
       "    .dataframe thead th {\n",
       "        text-align: right;\n",
       "    }\n",
       "</style>\n",
       "<table border=\"1\" class=\"dataframe\">\n",
       "  <thead>\n",
       "    <tr style=\"text-align: right;\">\n",
       "      <th></th>\n",
       "      <th>job title</th>\n",
       "      <th>location</th>\n",
       "      <th>company</th>\n",
       "      <th>experience</th>\n",
       "    </tr>\n",
       "  </thead>\n",
       "  <tbody>\n",
       "    <tr>\n",
       "      <th>0</th>\n",
       "      <td>Senior Data Scientist</td>\n",
       "      <td>Bangalore/Bengaluru</td>\n",
       "      <td>Fractal Analytics</td>\n",
       "      <td>5-10 Yrs</td>\n",
       "    </tr>\n",
       "    <tr>\n",
       "      <th>1</th>\n",
       "      <td>Data Scientist: Advanced Analytics</td>\n",
       "      <td>Bangalore/Bengaluru</td>\n",
       "      <td>IBM</td>\n",
       "      <td>5-7 Yrs</td>\n",
       "    </tr>\n",
       "    <tr>\n",
       "      <th>2</th>\n",
       "      <td>Data Scientist</td>\n",
       "      <td>Bangalore/Bengaluru</td>\n",
       "      <td>VISA</td>\n",
       "      <td>3-7 Yrs</td>\n",
       "    </tr>\n",
       "    <tr>\n",
       "      <th>3</th>\n",
       "      <td>Data Scientist: Artificial Intelligence</td>\n",
       "      <td>Bangalore/Bengaluru</td>\n",
       "      <td>IBM</td>\n",
       "      <td>10-12 Yrs</td>\n",
       "    </tr>\n",
       "    <tr>\n",
       "      <th>4</th>\n",
       "      <td>Data Scientist: Artificial Intelligence</td>\n",
       "      <td>Bangalore/Bengaluru</td>\n",
       "      <td>IBM</td>\n",
       "      <td>11-12 Yrs</td>\n",
       "    </tr>\n",
       "    <tr>\n",
       "      <th>5</th>\n",
       "      <td>Data Scientist: Artificial Intelligence</td>\n",
       "      <td>Bangalore/Bengaluru</td>\n",
       "      <td>IBM</td>\n",
       "      <td>11-12 Yrs</td>\n",
       "    </tr>\n",
       "    <tr>\n",
       "      <th>6</th>\n",
       "      <td>Data Scientist: Artificial Intelligence</td>\n",
       "      <td>Bangalore/Bengaluru</td>\n",
       "      <td>IBM</td>\n",
       "      <td>11-12 Yrs</td>\n",
       "    </tr>\n",
       "    <tr>\n",
       "      <th>7</th>\n",
       "      <td>Data Scientist, Machine Learning (AIML)</td>\n",
       "      <td>Bangalore/Bengaluru</td>\n",
       "      <td>Fractal Analytics</td>\n",
       "      <td>3-7 Yrs</td>\n",
       "    </tr>\n",
       "    <tr>\n",
       "      <th>8</th>\n",
       "      <td>Sr. Data Scientist</td>\n",
       "      <td>Bangalore/Bengaluru</td>\n",
       "      <td>HUDSON'S BAY SERVICES PRIVATE LIMITED</td>\n",
       "      <td>4-9 Yrs</td>\n",
       "    </tr>\n",
       "    <tr>\n",
       "      <th>9</th>\n",
       "      <td>Lead Data Scientist</td>\n",
       "      <td>Bangalore/Bengaluru</td>\n",
       "      <td>TransOrg Solutions Services (P) Ltd.</td>\n",
       "      <td>4-9 Yrs</td>\n",
       "    </tr>\n",
       "  </tbody>\n",
       "</table>\n",
       "</div>"
      ],
      "text/plain": [
       "                                 job title             location  \\\n",
       "0                    Senior Data Scientist  Bangalore/Bengaluru   \n",
       "1       Data Scientist: Advanced Analytics  Bangalore/Bengaluru   \n",
       "2                           Data Scientist  Bangalore/Bengaluru   \n",
       "3  Data Scientist: Artificial Intelligence  Bangalore/Bengaluru   \n",
       "4  Data Scientist: Artificial Intelligence  Bangalore/Bengaluru   \n",
       "5  Data Scientist: Artificial Intelligence  Bangalore/Bengaluru   \n",
       "6  Data Scientist: Artificial Intelligence  Bangalore/Bengaluru   \n",
       "7  Data Scientist, Machine Learning (AIML)  Bangalore/Bengaluru   \n",
       "8                       Sr. Data Scientist  Bangalore/Bengaluru   \n",
       "9                      Lead Data Scientist  Bangalore/Bengaluru   \n",
       "\n",
       "                                 company experience  \n",
       "0                      Fractal Analytics   5-10 Yrs  \n",
       "1                                    IBM    5-7 Yrs  \n",
       "2                                   VISA    3-7 Yrs  \n",
       "3                                    IBM  10-12 Yrs  \n",
       "4                                    IBM  11-12 Yrs  \n",
       "5                                    IBM  11-12 Yrs  \n",
       "6                                    IBM  11-12 Yrs  \n",
       "7                      Fractal Analytics    3-7 Yrs  \n",
       "8  HUDSON'S BAY SERVICES PRIVATE LIMITED    4-9 Yrs  \n",
       "9   TransOrg Solutions Services (P) Ltd.    4-9 Yrs  "
      ]
     },
     "execution_count": 427,
     "metadata": {},
     "output_type": "execute_result"
    }
   ],
   "source": [
    "job"
   ]
  },
  {
   "cell_type": "code",
   "execution_count": 435,
   "id": "7e1b33f4",
   "metadata": {},
   "outputs": [],
   "source": [
    "driver.close()"
   ]
  },
  {
   "cell_type": "code",
   "execution_count": null,
   "id": "48b37f27",
   "metadata": {},
   "outputs": [],
   "source": []
  },
  {
   "cell_type": "markdown",
   "id": "03b04c36",
   "metadata": {},
   "source": [
    "# Q3  scrape data using the filters available on the webpage as shown below:\n"
   ]
  },
  {
   "cell_type": "code",
   "execution_count": 481,
   "id": "a99d09bb",
   "metadata": {},
   "outputs": [],
   "source": [
    "import selenium"
   ]
  },
  {
   "cell_type": "code",
   "execution_count": 482,
   "id": "bd803593",
   "metadata": {},
   "outputs": [],
   "source": [
    "import pandas as pd"
   ]
  },
  {
   "cell_type": "code",
   "execution_count": 483,
   "id": "3016fed1",
   "metadata": {},
   "outputs": [],
   "source": [
    "from selenium import webdriver"
   ]
  },
  {
   "cell_type": "code",
   "execution_count": 484,
   "id": "d9885e0c",
   "metadata": {},
   "outputs": [],
   "source": [
    "import warnings"
   ]
  },
  {
   "cell_type": "code",
   "execution_count": 485,
   "id": "a876b299",
   "metadata": {},
   "outputs": [],
   "source": [
    "warnings.filterwarnings(\"ignore\")"
   ]
  },
  {
   "cell_type": "code",
   "execution_count": 486,
   "id": "f254f836",
   "metadata": {},
   "outputs": [],
   "source": [
    "import time"
   ]
  },
  {
   "cell_type": "code",
   "execution_count": 487,
   "id": "873e7c59",
   "metadata": {},
   "outputs": [],
   "source": [
    "driver   =  webdriver.Chrome(\"chromedriver.exe\")\n",
    "time.sleep(2)"
   ]
  },
  {
   "cell_type": "code",
   "execution_count": 488,
   "id": "716a95c0",
   "metadata": {},
   "outputs": [],
   "source": [
    "driver.get(\"https://naukri.com\")"
   ]
  },
  {
   "cell_type": "code",
   "execution_count": 490,
   "id": "41cdab4d",
   "metadata": {},
   "outputs": [],
   "source": [
    "job =  driver.find_element_by_class_name(\"suggestor-input \")"
   ]
  },
  {
   "cell_type": "code",
   "execution_count": 491,
   "id": "9b662bba",
   "metadata": {},
   "outputs": [],
   "source": [
    " job.send_keys(\"Data scientist\")"
   ]
  },
  {
   "cell_type": "code",
   "execution_count": 492,
   "id": "ec5a76c9",
   "metadata": {},
   "outputs": [],
   "source": [
    "search = driver.find_element_by_xpath('/html/body/div/div[2]/div[3]/div/div/div[6]')"
   ]
  },
  {
   "cell_type": "code",
   "execution_count": 493,
   "id": "d74a0fe4",
   "metadata": {},
   "outputs": [],
   "source": [
    "search.click()"
   ]
  },
  {
   "cell_type": "code",
   "execution_count": 494,
   "id": "2b55362f",
   "metadata": {},
   "outputs": [],
   "source": [
    "location =  driver.find_element_by_xpath(\"/html/body/div[1]/div[3]/div[2]/section[1]/div[2]/div[4]/div[2]/div[3]/label/p\")"
   ]
  },
  {
   "cell_type": "code",
   "execution_count": 495,
   "id": "36664662",
   "metadata": {},
   "outputs": [],
   "source": [
    "location.click()"
   ]
  },
  {
   "cell_type": "code",
   "execution_count": null,
   "id": "2bda9967",
   "metadata": {},
   "outputs": [],
   "source": []
  },
  {
   "cell_type": "code",
   "execution_count": 497,
   "id": "9362f107",
   "metadata": {},
   "outputs": [],
   "source": [
    " salary =  driver.find_element_by_xpath(\"/html/body/div[1]/div[3]/div[2]/section[1]/div[2]/div[5]/div[2]/div[2]/label/i\")"
   ]
  },
  {
   "cell_type": "code",
   "execution_count": 498,
   "id": "6a9add03",
   "metadata": {},
   "outputs": [],
   "source": [
    "salary.click()"
   ]
  },
  {
   "cell_type": "code",
   "execution_count": 499,
   "id": "6c13fd94",
   "metadata": {},
   "outputs": [],
   "source": [
    "job_title = []"
   ]
  },
  {
   "cell_type": "code",
   "execution_count": 500,
   "id": "a70d049c",
   "metadata": {},
   "outputs": [],
   "source": [
    "title  =   driver.find_elements_by_xpath('//a[@class=\"title fw500 ellipsis\"]')"
   ]
  },
  {
   "cell_type": "code",
   "execution_count": 501,
   "id": "dd7e7334",
   "metadata": {},
   "outputs": [],
   "source": [
    "title = title[0:10]"
   ]
  },
  {
   "cell_type": "code",
   "execution_count": 505,
   "id": "7a21b07c",
   "metadata": {
    "scrolled": true
   },
   "outputs": [
    {
     "data": {
      "text/plain": [
       "[<selenium.webdriver.remote.webelement.WebElement (session=\"4773b70e37c74872f47bb8a28223a8a3\", element=\"19d00fe9-5d0d-42df-9f1d-2e1786d86a55\")>,\n",
       " <selenium.webdriver.remote.webelement.WebElement (session=\"4773b70e37c74872f47bb8a28223a8a3\", element=\"5e0acf3d-1fdd-46db-b2d0-5e4841fd4b67\")>,\n",
       " <selenium.webdriver.remote.webelement.WebElement (session=\"4773b70e37c74872f47bb8a28223a8a3\", element=\"0bed1a54-cf13-4553-bd32-c3076db64f15\")>,\n",
       " <selenium.webdriver.remote.webelement.WebElement (session=\"4773b70e37c74872f47bb8a28223a8a3\", element=\"5ba03193-d0b0-4c8a-81cf-f1984e30cc4a\")>,\n",
       " <selenium.webdriver.remote.webelement.WebElement (session=\"4773b70e37c74872f47bb8a28223a8a3\", element=\"e9e399a1-8908-43bd-89f3-1c0abe59c7c6\")>,\n",
       " <selenium.webdriver.remote.webelement.WebElement (session=\"4773b70e37c74872f47bb8a28223a8a3\", element=\"95c8c0a4-7542-4863-ad49-9bd3c157f08b\")>,\n",
       " <selenium.webdriver.remote.webelement.WebElement (session=\"4773b70e37c74872f47bb8a28223a8a3\", element=\"bc4ed705-6865-4984-a535-400e686c5e4d\")>,\n",
       " <selenium.webdriver.remote.webelement.WebElement (session=\"4773b70e37c74872f47bb8a28223a8a3\", element=\"f26714ef-15c6-4ed8-8795-e27b4d03b880\")>,\n",
       " <selenium.webdriver.remote.webelement.WebElement (session=\"4773b70e37c74872f47bb8a28223a8a3\", element=\"fccc26bf-b7ba-4052-9966-0360e5c9a309\")>,\n",
       " <selenium.webdriver.remote.webelement.WebElement (session=\"4773b70e37c74872f47bb8a28223a8a3\", element=\"beac3efa-21c4-4c72-84d0-94cb5402c4c5\")>]"
      ]
     },
     "execution_count": 505,
     "metadata": {},
     "output_type": "execute_result"
    }
   ],
   "source": [
    "title"
   ]
  },
  {
   "cell_type": "code",
   "execution_count": 506,
   "id": "f40470bb",
   "metadata": {},
   "outputs": [],
   "source": [
    "for i in title:\n",
    "    text = i.text\n",
    "    job_title.append(text)"
   ]
  },
  {
   "cell_type": "code",
   "execution_count": 509,
   "id": "586c38c7",
   "metadata": {},
   "outputs": [
    {
     "data": {
      "text/plain": [
       "['Data Scientist',\n",
       " 'Data Scientist || Software Company || Immediate Joiners To max 30 Days',\n",
       " 'Associate Data Scientist',\n",
       " 'Associate Scientist - Data Engineering',\n",
       " 'Data Scientist',\n",
       " 'Hiring For Data Analyst and Data Scientist For Gurgaon Location',\n",
       " 'Data Scientist (freelance)',\n",
       " 'Data Scientist',\n",
       " 'Data Scientist/ Machine Learning, 2022 Passout Can also apply',\n",
       " 'Data Scientists']"
      ]
     },
     "execution_count": 509,
     "metadata": {},
     "output_type": "execute_result"
    }
   ],
   "source": [
    "(job_title)"
   ]
  },
  {
   "cell_type": "code",
   "execution_count": 512,
   "id": "44292539",
   "metadata": {},
   "outputs": [],
   "source": [
    "location =   driver.find_elements_by_xpath('//li[@class=\"fleft grey-text br2 placeHolderLi location\"]/span')"
   ]
  },
  {
   "cell_type": "code",
   "execution_count": null,
   "id": "79b257ab",
   "metadata": {},
   "outputs": [],
   "source": [
    "  "
   ]
  },
  {
   "cell_type": "code",
   "execution_count": 514,
   "id": "e1f4c6f5",
   "metadata": {},
   "outputs": [],
   "source": [
    "location  =  location[:10]"
   ]
  },
  {
   "cell_type": "code",
   "execution_count": 515,
   "id": "570488cc",
   "metadata": {},
   "outputs": [
    {
     "data": {
      "text/plain": [
       "[<selenium.webdriver.remote.webelement.WebElement (session=\"4773b70e37c74872f47bb8a28223a8a3\", element=\"fea0cf94-d145-47df-9739-17c83e34e1a0\")>,\n",
       " <selenium.webdriver.remote.webelement.WebElement (session=\"4773b70e37c74872f47bb8a28223a8a3\", element=\"0d653fe5-e925-4cec-8bc4-f2eec03598c8\")>,\n",
       " <selenium.webdriver.remote.webelement.WebElement (session=\"4773b70e37c74872f47bb8a28223a8a3\", element=\"43d9b8ca-a3f2-4745-831b-a06ab560faa7\")>,\n",
       " <selenium.webdriver.remote.webelement.WebElement (session=\"4773b70e37c74872f47bb8a28223a8a3\", element=\"db9b960d-ba6a-4b4c-a53e-7be41cdbf44a\")>,\n",
       " <selenium.webdriver.remote.webelement.WebElement (session=\"4773b70e37c74872f47bb8a28223a8a3\", element=\"18c16f7c-ee81-4598-b6a9-96c1ddf46130\")>,\n",
       " <selenium.webdriver.remote.webelement.WebElement (session=\"4773b70e37c74872f47bb8a28223a8a3\", element=\"bbce3b88-e5a0-406a-81dd-880c4c8bb347\")>,\n",
       " <selenium.webdriver.remote.webelement.WebElement (session=\"4773b70e37c74872f47bb8a28223a8a3\", element=\"1f1ca2ad-98a5-46b3-9fec-02ad22eaf969\")>,\n",
       " <selenium.webdriver.remote.webelement.WebElement (session=\"4773b70e37c74872f47bb8a28223a8a3\", element=\"41cddfbf-b1e4-485d-a72f-afc242ca39cf\")>,\n",
       " <selenium.webdriver.remote.webelement.WebElement (session=\"4773b70e37c74872f47bb8a28223a8a3\", element=\"bddb0e20-14a5-48d7-bcc3-b97057926027\")>,\n",
       " <selenium.webdriver.remote.webelement.WebElement (session=\"4773b70e37c74872f47bb8a28223a8a3\", element=\"e8410959-41db-44a2-afa3-48f208756bc1\")>]"
      ]
     },
     "execution_count": 515,
     "metadata": {},
     "output_type": "execute_result"
    }
   ],
   "source": [
    "location"
   ]
  },
  {
   "cell_type": "code",
   "execution_count": 522,
   "id": "9a0e84d4",
   "metadata": {},
   "outputs": [],
   "source": [
    "locations  =  []"
   ]
  },
  {
   "cell_type": "code",
   "execution_count": 523,
   "id": "76b7acce",
   "metadata": {},
   "outputs": [],
   "source": [
    "for i in location:\n",
    "    text = i.text\n",
    "    locations.append(text)"
   ]
  },
  {
   "cell_type": "code",
   "execution_count": 524,
   "id": "be48c1c7",
   "metadata": {},
   "outputs": [
    {
     "data": {
      "text/plain": [
       "['Noida, Bangalore/Bengaluru',\n",
       " 'Gurgaon/Gurugram, Bangalore/Bengaluru',\n",
       " 'Gurgaon/Gurugram',\n",
       " 'Gurgaon/Gurugram',\n",
       " 'Gurgaon, Bengaluru',\n",
       " 'Noida, Gurgaon/Gurugram, Delhi / NCR',\n",
       " 'New Delhi, Delhi',\n",
       " 'Bharuch, Jaipur, Bhopal, Mumbai, Jhansi, Nagpur, Ghaziabad, Jaunpur, Kanpur, Delhi, Lucknow, Agra, Gurgaon, Rajkot, Bengaluru',\n",
       " 'Hyderabad/Secunderabad, Pune, Chennai, Delhi / NCR, Vadodara, Mumbai (All Areas)',\n",
       " 'Gurgaon/Gurugram']"
      ]
     },
     "execution_count": 524,
     "metadata": {},
     "output_type": "execute_result"
    }
   ],
   "source": [
    "locations"
   ]
  },
  {
   "cell_type": "code",
   "execution_count": null,
   "id": "f6ed2cbe",
   "metadata": {},
   "outputs": [],
   "source": []
  },
  {
   "cell_type": "code",
   "execution_count": 526,
   "id": "8dc9f536",
   "metadata": {},
   "outputs": [],
   "source": [
    "company = []"
   ]
  },
  {
   "cell_type": "code",
   "execution_count": 527,
   "id": "676ff31b",
   "metadata": {},
   "outputs": [],
   "source": [
    "comp =  driver.find_elements_by_xpath('//a[@class=\"subTitle ellipsis fleft\"]')"
   ]
  },
  {
   "cell_type": "code",
   "execution_count": 529,
   "id": "adf7f142",
   "metadata": {},
   "outputs": [],
   "source": [
    "compy = comp[:10]"
   ]
  },
  {
   "cell_type": "code",
   "execution_count": 530,
   "id": "829ef0d4",
   "metadata": {},
   "outputs": [
    {
     "data": {
      "text/plain": [
       "[<selenium.webdriver.remote.webelement.WebElement (session=\"4773b70e37c74872f47bb8a28223a8a3\", element=\"23159e38-c5fa-4830-894c-52e7a35db118\")>,\n",
       " <selenium.webdriver.remote.webelement.WebElement (session=\"4773b70e37c74872f47bb8a28223a8a3\", element=\"534b0a89-783c-446b-ad91-a1a45c14ff52\")>,\n",
       " <selenium.webdriver.remote.webelement.WebElement (session=\"4773b70e37c74872f47bb8a28223a8a3\", element=\"91b0b6a0-1510-4f55-971f-4134ad4b1aff\")>,\n",
       " <selenium.webdriver.remote.webelement.WebElement (session=\"4773b70e37c74872f47bb8a28223a8a3\", element=\"5fa8b846-cf39-48f1-99c8-21f8708d188f\")>,\n",
       " <selenium.webdriver.remote.webelement.WebElement (session=\"4773b70e37c74872f47bb8a28223a8a3\", element=\"b98adf05-1c82-4ccf-9505-6e9a16e4eef6\")>,\n",
       " <selenium.webdriver.remote.webelement.WebElement (session=\"4773b70e37c74872f47bb8a28223a8a3\", element=\"96aeb323-efe7-4294-81c6-1195e78e0c2c\")>,\n",
       " <selenium.webdriver.remote.webelement.WebElement (session=\"4773b70e37c74872f47bb8a28223a8a3\", element=\"003f2f1e-83a2-43ea-831b-15eecc123d71\")>,\n",
       " <selenium.webdriver.remote.webelement.WebElement (session=\"4773b70e37c74872f47bb8a28223a8a3\", element=\"8f151c58-2d2d-45e0-8d5b-9248db6b9eed\")>,\n",
       " <selenium.webdriver.remote.webelement.WebElement (session=\"4773b70e37c74872f47bb8a28223a8a3\", element=\"21173fdf-a324-4657-b773-b598c45ef57a\")>,\n",
       " <selenium.webdriver.remote.webelement.WebElement (session=\"4773b70e37c74872f47bb8a28223a8a3\", element=\"38ed54aa-1d42-4e67-9ed4-5b7be642a87b\")>]"
      ]
     },
     "execution_count": 530,
     "metadata": {},
     "output_type": "execute_result"
    }
   ],
   "source": [
    "compy"
   ]
  },
  {
   "cell_type": "code",
   "execution_count": 531,
   "id": "7df0392c",
   "metadata": {},
   "outputs": [],
   "source": [
    "for i in compy:\n",
    "    text = i.text\n",
    "    company.append(text)"
   ]
  },
  {
   "cell_type": "code",
   "execution_count": 532,
   "id": "7a0e5ade",
   "metadata": {},
   "outputs": [
    {
     "data": {
      "text/plain": [
       "['Ashkom Media India Private Limited',\n",
       " 'Skyleaf Consultants',\n",
       " 'Optum',\n",
       " 'AXA Technology Services India Pvt. Ltd',\n",
       " 'BlackBuck',\n",
       " 'Shadow Placements',\n",
       " '2Coms',\n",
       " 'Country Veggie',\n",
       " 'Creative Hands HR Consultancy',\n",
       " 'Nibha Infotech Private Limited']"
      ]
     },
     "execution_count": 532,
     "metadata": {},
     "output_type": "execute_result"
    }
   ],
   "source": [
    "company"
   ]
  },
  {
   "cell_type": "code",
   "execution_count": 555,
   "id": "5a0f97b1",
   "metadata": {},
   "outputs": [],
   "source": [
    "experience = []"
   ]
  },
  {
   "cell_type": "code",
   "execution_count": 556,
   "id": "e1fb8102",
   "metadata": {},
   "outputs": [],
   "source": [
    "exp =  driver.find_elements_by_xpath('//li[@class=\"fleft grey-text br2 placeHolderLi experience\"]/span')"
   ]
  },
  {
   "cell_type": "code",
   "execution_count": 557,
   "id": "30770a31",
   "metadata": {},
   "outputs": [],
   "source": [
    "ex = exp[:10]"
   ]
  },
  {
   "cell_type": "code",
   "execution_count": 558,
   "id": "2b8253e6",
   "metadata": {},
   "outputs": [],
   "source": [
    "for i in ex:\n",
    "    text = i.text\n",
    "    experience.append(text)"
   ]
  },
  {
   "cell_type": "code",
   "execution_count": 559,
   "id": "0486843f",
   "metadata": {},
   "outputs": [
    {
     "data": {
      "text/plain": [
       "['3-6 Yrs',\n",
       " '3-8 Yrs',\n",
       " '1-5 Yrs',\n",
       " '2-5 Yrs',\n",
       " '3-7 Yrs',\n",
       " '3-7 Yrs',\n",
       " '2-7 Yrs',\n",
       " '1-3 Yrs',\n",
       " '0-4 Yrs',\n",
       " '5-8 Yrs']"
      ]
     },
     "execution_count": 559,
     "metadata": {},
     "output_type": "execute_result"
    }
   ],
   "source": [
    "experience"
   ]
  },
  {
   "cell_type": "code",
   "execution_count": null,
   "id": "f7d9ef7f",
   "metadata": {},
   "outputs": [],
   "source": []
  },
  {
   "cell_type": "code",
   "execution_count": 561,
   "id": "c5d7979d",
   "metadata": {},
   "outputs": [],
   "source": [
    "job = pd.DataFrame({})"
   ]
  },
  {
   "cell_type": "code",
   "execution_count": 564,
   "id": "3c39e61c",
   "metadata": {},
   "outputs": [],
   "source": [
    "job[\" Title \"] = (job_title)"
   ]
  },
  {
   "cell_type": "code",
   "execution_count": null,
   "id": "84742faf",
   "metadata": {},
   "outputs": [],
   "source": []
  },
  {
   "cell_type": "code",
   "execution_count": 566,
   "id": "f672de30",
   "metadata": {},
   "outputs": [],
   "source": [
    "job[ \" Location \"] = locations"
   ]
  },
  {
   "cell_type": "code",
   "execution_count": null,
   "id": "97b1c6d2",
   "metadata": {},
   "outputs": [],
   "source": []
  },
  {
   "cell_type": "code",
   "execution_count": 568,
   "id": "c6b4be29",
   "metadata": {},
   "outputs": [],
   "source": [
    "job[\" company \" ] = company"
   ]
  },
  {
   "cell_type": "code",
   "execution_count": null,
   "id": "26379609",
   "metadata": {},
   "outputs": [],
   "source": []
  },
  {
   "cell_type": "code",
   "execution_count": 569,
   "id": "87e585d7",
   "metadata": {},
   "outputs": [],
   "source": [
    "job [ \" Experience \" ] = experience"
   ]
  },
  {
   "cell_type": "code",
   "execution_count": 570,
   "id": "305c464d",
   "metadata": {
    "scrolled": false
   },
   "outputs": [
    {
     "data": {
      "text/html": [
       "<div>\n",
       "<style scoped>\n",
       "    .dataframe tbody tr th:only-of-type {\n",
       "        vertical-align: middle;\n",
       "    }\n",
       "\n",
       "    .dataframe tbody tr th {\n",
       "        vertical-align: top;\n",
       "    }\n",
       "\n",
       "    .dataframe thead th {\n",
       "        text-align: right;\n",
       "    }\n",
       "</style>\n",
       "<table border=\"1\" class=\"dataframe\">\n",
       "  <thead>\n",
       "    <tr style=\"text-align: right;\">\n",
       "      <th></th>\n",
       "      <th>Title</th>\n",
       "      <th>Location</th>\n",
       "      <th>company</th>\n",
       "      <th>Experience</th>\n",
       "    </tr>\n",
       "  </thead>\n",
       "  <tbody>\n",
       "    <tr>\n",
       "      <th>0</th>\n",
       "      <td>Data Scientist</td>\n",
       "      <td>Noida, Bangalore/Bengaluru</td>\n",
       "      <td>Ashkom Media India Private Limited</td>\n",
       "      <td>3-6 Yrs</td>\n",
       "    </tr>\n",
       "    <tr>\n",
       "      <th>1</th>\n",
       "      <td>Data Scientist || Software Company || Immediate Joiners To max 30 Days</td>\n",
       "      <td>Gurgaon/Gurugram, Bangalore/Bengaluru</td>\n",
       "      <td>Skyleaf Consultants</td>\n",
       "      <td>3-8 Yrs</td>\n",
       "    </tr>\n",
       "    <tr>\n",
       "      <th>2</th>\n",
       "      <td>Associate Data Scientist</td>\n",
       "      <td>Gurgaon/Gurugram</td>\n",
       "      <td>Optum</td>\n",
       "      <td>1-5 Yrs</td>\n",
       "    </tr>\n",
       "    <tr>\n",
       "      <th>3</th>\n",
       "      <td>Associate Scientist - Data Engineering</td>\n",
       "      <td>Gurgaon/Gurugram</td>\n",
       "      <td>AXA Technology Services India Pvt. Ltd</td>\n",
       "      <td>2-5 Yrs</td>\n",
       "    </tr>\n",
       "    <tr>\n",
       "      <th>4</th>\n",
       "      <td>Data Scientist</td>\n",
       "      <td>Gurgaon, Bengaluru</td>\n",
       "      <td>BlackBuck</td>\n",
       "      <td>3-7 Yrs</td>\n",
       "    </tr>\n",
       "    <tr>\n",
       "      <th>5</th>\n",
       "      <td>Hiring For Data Analyst and Data Scientist For Gurgaon Location</td>\n",
       "      <td>Noida, Gurgaon/Gurugram, Delhi / NCR</td>\n",
       "      <td>Shadow Placements</td>\n",
       "      <td>3-7 Yrs</td>\n",
       "    </tr>\n",
       "    <tr>\n",
       "      <th>6</th>\n",
       "      <td>Data Scientist (freelance)</td>\n",
       "      <td>New Delhi, Delhi</td>\n",
       "      <td>2Coms</td>\n",
       "      <td>2-7 Yrs</td>\n",
       "    </tr>\n",
       "    <tr>\n",
       "      <th>7</th>\n",
       "      <td>Data Scientist</td>\n",
       "      <td>Bharuch, Jaipur, Bhopal, Mumbai, Jhansi, Nagpur, Ghaziabad, Jaunpur, Kanpur, Delhi, Lucknow, Agra, Gurgaon, Rajkot, Bengaluru</td>\n",
       "      <td>Country Veggie</td>\n",
       "      <td>1-3 Yrs</td>\n",
       "    </tr>\n",
       "    <tr>\n",
       "      <th>8</th>\n",
       "      <td>Data Scientist/ Machine Learning, 2022 Passout Can also apply</td>\n",
       "      <td>Hyderabad/Secunderabad, Pune, Chennai, Delhi / NCR, Vadodara, Mumbai (All Areas)</td>\n",
       "      <td>Creative Hands HR Consultancy</td>\n",
       "      <td>0-4 Yrs</td>\n",
       "    </tr>\n",
       "    <tr>\n",
       "      <th>9</th>\n",
       "      <td>Data Scientists</td>\n",
       "      <td>Gurgaon/Gurugram</td>\n",
       "      <td>Nibha Infotech Private Limited</td>\n",
       "      <td>5-8 Yrs</td>\n",
       "    </tr>\n",
       "  </tbody>\n",
       "</table>\n",
       "</div>"
      ],
      "text/plain": [
       "                                                                   Title   \\\n",
       "0                                                          Data Scientist   \n",
       "1  Data Scientist || Software Company || Immediate Joiners To max 30 Days   \n",
       "2                                                Associate Data Scientist   \n",
       "3                                  Associate Scientist - Data Engineering   \n",
       "4                                                          Data Scientist   \n",
       "5         Hiring For Data Analyst and Data Scientist For Gurgaon Location   \n",
       "6                                              Data Scientist (freelance)   \n",
       "7                                                          Data Scientist   \n",
       "8           Data Scientist/ Machine Learning, 2022 Passout Can also apply   \n",
       "9                                                         Data Scientists   \n",
       "\n",
       "                                                                                                                       Location   \\\n",
       "0                                                                                                     Noida, Bangalore/Bengaluru   \n",
       "1                                                                                          Gurgaon/Gurugram, Bangalore/Bengaluru   \n",
       "2                                                                                                               Gurgaon/Gurugram   \n",
       "3                                                                                                               Gurgaon/Gurugram   \n",
       "4                                                                                                             Gurgaon, Bengaluru   \n",
       "5                                                                                           Noida, Gurgaon/Gurugram, Delhi / NCR   \n",
       "6                                                                                                               New Delhi, Delhi   \n",
       "7  Bharuch, Jaipur, Bhopal, Mumbai, Jhansi, Nagpur, Ghaziabad, Jaunpur, Kanpur, Delhi, Lucknow, Agra, Gurgaon, Rajkot, Bengaluru   \n",
       "8                                               Hyderabad/Secunderabad, Pune, Chennai, Delhi / NCR, Vadodara, Mumbai (All Areas)   \n",
       "9                                                                                                               Gurgaon/Gurugram   \n",
       "\n",
       "                                 company   Experience   \n",
       "0      Ashkom Media India Private Limited      3-6 Yrs  \n",
       "1                     Skyleaf Consultants      3-8 Yrs  \n",
       "2                                   Optum      1-5 Yrs  \n",
       "3  AXA Technology Services India Pvt. Ltd      2-5 Yrs  \n",
       "4                               BlackBuck      3-7 Yrs  \n",
       "5                       Shadow Placements      3-7 Yrs  \n",
       "6                                   2Coms      2-7 Yrs  \n",
       "7                          Country Veggie      1-3 Yrs  \n",
       "8           Creative Hands HR Consultancy      0-4 Yrs  \n",
       "9          Nibha Infotech Private Limited      5-8 Yrs  "
      ]
     },
     "execution_count": 570,
     "metadata": {},
     "output_type": "execute_result"
    }
   ],
   "source": [
    "job"
   ]
  },
  {
   "cell_type": "code",
   "execution_count": null,
   "id": "f78dbf0b",
   "metadata": {},
   "outputs": [],
   "source": []
  },
  {
   "cell_type": "code",
   "execution_count": null,
   "id": "6c4b8d47",
   "metadata": {},
   "outputs": [],
   "source": []
  },
  {
   "cell_type": "code",
   "execution_count": 572,
   "id": "c6d0a9da",
   "metadata": {},
   "outputs": [],
   "source": [
    "driver.close()"
   ]
  },
  {
   "cell_type": "code",
   "execution_count": null,
   "id": "72f33f33",
   "metadata": {},
   "outputs": [],
   "source": []
  },
  {
   "cell_type": "markdown",
   "id": "53ad94ac",
   "metadata": {},
   "source": [
    "# Q4: Scrape data of first 100 sunglasses listings on flipkart.com."
   ]
  },
  {
   "cell_type": "code",
   "execution_count": null,
   "id": "409fc2a4",
   "metadata": {},
   "outputs": [],
   "source": []
  },
  {
   "cell_type": "code",
   "execution_count": null,
   "id": "da00faaa",
   "metadata": {},
   "outputs": [],
   "source": []
  },
  {
   "cell_type": "code",
   "execution_count": null,
   "id": "dbedac22",
   "metadata": {},
   "outputs": [],
   "source": []
  },
  {
   "cell_type": "code",
   "execution_count": 185,
   "id": "17c2562c",
   "metadata": {},
   "outputs": [],
   "source": [
    "\n",
    "from selenium import webdriver\n",
    "\n",
    "import warnings\n",
    "\n",
    "warnings.filterwarnings(\"ignore\")\n",
    "\n",
    "import time\n",
    "\n",
    "driver   =  webdriver.Chrome(\"chromedriver.exe\")\n",
    "time.sleep(2)"
   ]
  },
  {
   "cell_type": "code",
   "execution_count": 186,
   "id": "18b33544",
   "metadata": {},
   "outputs": [],
   "source": [
    "driver.get(\"http://www.flipkart.com/\")"
   ]
  },
  {
   "cell_type": "code",
   "execution_count": 187,
   "id": "a7f03ead",
   "metadata": {},
   "outputs": [],
   "source": [
    "search = driver.find_element_by_xpath(\"/html/body/div/div/div[1]/div[1]/div[2]/div[2]/form/div/div/input\")"
   ]
  },
  {
   "cell_type": "code",
   "execution_count": 188,
   "id": "ab1bb422",
   "metadata": {},
   "outputs": [],
   "source": [
    " search.send_keys(\"sunglasses\")"
   ]
  },
  {
   "cell_type": "code",
   "execution_count": 189,
   "id": "9980246a",
   "metadata": {},
   "outputs": [],
   "source": [
    "search_icon = driver.find_element_by_xpath(\"/html/body/div/div/div[1]/div[1]/div[2]/div[2]/form/div/button\")"
   ]
  },
  {
   "cell_type": "code",
   "execution_count": 190,
   "id": "fb69a14c",
   "metadata": {},
   "outputs": [],
   "source": [
    "search_icon.click()"
   ]
  },
  {
   "cell_type": "code",
   "execution_count": null,
   "id": "e544bd54",
   "metadata": {},
   "outputs": [],
   "source": []
  },
  {
   "cell_type": "code",
   "execution_count": null,
   "id": "53ef0e14",
   "metadata": {},
   "outputs": [],
   "source": []
  },
  {
   "cell_type": "code",
   "execution_count": 191,
   "id": "2282f144",
   "metadata": {},
   "outputs": [],
   "source": [
    "sunglass = []"
   ]
  },
  {
   "cell_type": "code",
   "execution_count": 192,
   "id": "2ec12200",
   "metadata": {},
   "outputs": [],
   "source": [
    "sunglass_name = driver.find_elements_by_xpath(\"//div[@class='_2WkVRV']\")"
   ]
  },
  {
   "cell_type": "code",
   "execution_count": 193,
   "id": "025af992",
   "metadata": {},
   "outputs": [],
   "source": [
    "for i in sunglass_name:\n",
    "    text = i.text\n",
    "    sunglass.append(text)"
   ]
  },
  {
   "cell_type": "code",
   "execution_count": 194,
   "id": "6cb69316",
   "metadata": {
    "scrolled": true
   },
   "outputs": [
    {
     "data": {
      "text/plain": [
       "40"
      ]
     },
     "execution_count": 194,
     "metadata": {},
     "output_type": "execute_result"
    }
   ],
   "source": [
    "len(sunglass)"
   ]
  },
  {
   "cell_type": "code",
   "execution_count": 195,
   "id": "ea9d94ee",
   "metadata": {
    "scrolled": true
   },
   "outputs": [
    {
     "data": {
      "text/plain": [
       "['GANSTA',\n",
       " 'CRYSTAL CART',\n",
       " 'Fastrack',\n",
       " 'Fastrack',\n",
       " 'SUNBEE',\n",
       " 'PIRASO',\n",
       " 'Lee Topper',\n",
       " 'Ray-Ban',\n",
       " 'PIRASO',\n",
       " 'Elligator',\n",
       " 'DAHAAZIL',\n",
       " 'CRYSTAL CART',\n",
       " 'Fastrack',\n",
       " 'PIRASO',\n",
       " 'SRPM',\n",
       " 'LOUIS KOUROS',\n",
       " 'Fastrack',\n",
       " 'PIRASO',\n",
       " 'SUNBEE',\n",
       " 'LOUIS KOUROS',\n",
       " 'ROZZETTA CRAFT',\n",
       " 'PIRASO',\n",
       " 'Mi',\n",
       " 'Velocity Eyewear',\n",
       " 'DEIXELS',\n",
       " 'kingsunglasses',\n",
       " 'ROZZETTA CRAFT',\n",
       " 'ROZZETTA CRAFT',\n",
       " 'hipe',\n",
       " 'Lee Topper',\n",
       " 'ROZZETTA CRAFT',\n",
       " 'LOUIS KOUROS',\n",
       " 'HIPPON',\n",
       " 'Mi',\n",
       " 'ROZZETTA CRAFT',\n",
       " 'ROYAL SON',\n",
       " 'SRPM',\n",
       " 'PIRASO',\n",
       " 'Fastrack',\n",
       " 'CRYSTAL CART']"
      ]
     },
     "execution_count": 195,
     "metadata": {},
     "output_type": "execute_result"
    }
   ],
   "source": [
    "sunglass"
   ]
  },
  {
   "cell_type": "code",
   "execution_count": null,
   "id": "33c38447",
   "metadata": {},
   "outputs": [],
   "source": []
  },
  {
   "cell_type": "code",
   "execution_count": 222,
   "id": "68600edf",
   "metadata": {},
   "outputs": [],
   "source": [
    "description = []"
   ]
  },
  {
   "cell_type": "code",
   "execution_count": null,
   "id": "81dd7d8f",
   "metadata": {},
   "outputs": [],
   "source": []
  },
  {
   "cell_type": "code",
   "execution_count": 223,
   "id": "14c535e5",
   "metadata": {},
   "outputs": [],
   "source": [
    "disc = driver.find_elements_by_xpath('//a[@class=\"IRpwTa\"]')"
   ]
  },
  {
   "cell_type": "code",
   "execution_count": 224,
   "id": "ab03102e",
   "metadata": {},
   "outputs": [],
   "source": [
    "for i in disc:\n",
    "    text = i.text\n",
    "    description.append(text)"
   ]
  },
  {
   "cell_type": "code",
   "execution_count": 225,
   "id": "65d52702",
   "metadata": {},
   "outputs": [
    {
     "data": {
      "text/plain": [
       "40"
      ]
     },
     "execution_count": 225,
     "metadata": {},
     "output_type": "execute_result"
    }
   ],
   "source": [
    "len(description)"
   ]
  },
  {
   "cell_type": "code",
   "execution_count": 200,
   "id": "22119947",
   "metadata": {
    "scrolled": true
   },
   "outputs": [
    {
     "data": {
      "text/plain": [
       "['UV Protection Aviator Sunglasses (57)',\n",
       " 'Polarized, Gradient, UV Protection, Mirrored Over-sized...',\n",
       " 'UV Protection Wayfarer Sunglasses (Free Size)',\n",
       " 'UV Protection Rectangular Sunglasses (Free Size)',\n",
       " 'UV Protection, Polarized Wayfarer Sunglasses (Free Size...',\n",
       " 'UV Protection Aviator Sunglasses (54)',\n",
       " 'Riding Glasses Wrap-around Sunglasses (Free Size)',\n",
       " 'UV Protection Wayfarer Sunglasses (55)',\n",
       " 'UV Protection Wayfarer Sunglasses (32)',\n",
       " 'UV Protection Round Sunglasses (54)',\n",
       " 'UV Protection, Night Vision, Riding Glasses Wayfarer, W...',\n",
       " 'Polarized, UV Protection Retro Square Sunglasses (Free ...',\n",
       " 'UV Protection Aviator Sunglasses (Free Size)',\n",
       " 'UV Protection Aviator Sunglasses (54)',\n",
       " 'UV Protection Wayfarer Sunglasses (50)',\n",
       " 'UV Protection Aviator Sunglasses (60)',\n",
       " 'UV Protection Shield Sunglasses (Free Size)',\n",
       " 'UV Protection Rectangular Sunglasses (52)',\n",
       " 'UV Protection, Polarized, Mirrored Retro Square Sunglas...',\n",
       " 'UV Protection Aviator Sunglasses (60)',\n",
       " 'UV Protection, Gradient Rectangular Sunglasses (Free Si...',\n",
       " 'UV Protection Aviator Sunglasses (54)',\n",
       " 'Polarized Aviator Sunglasses (Free Size)',\n",
       " 'UV Protection Aviator, Wayfarer Sunglasses (Free Size)',\n",
       " 'UV Protection, Riding Glasses, Mirrored Wayfarer Sungla...',\n",
       " 'Polarized, Riding Glasses Sports, Wrap-around Sunglasse...',\n",
       " 'UV Protection Over-sized Sunglasses (57)',\n",
       " 'Gradient, UV Protection Round Sunglasses (Free Size)',\n",
       " 'UV Protection Rectangular Sunglasses (Free Size)',\n",
       " 'UV Protection, Gradient Retro Square Sunglasses (Free S...',\n",
       " 'UV Protection Aviator Sunglasses (60)',\n",
       " 'UV Protection Wayfarer Sunglasses (55)',\n",
       " 'Polarized Wayfarer Sunglasses (Free Size)',\n",
       " 'UV Protection Retro Square Sunglasses (Free Size)',\n",
       " 'Polarized, UV Protection Round Sunglasses (52)',\n",
       " 'UV Protection Wayfarer Sunglasses (53)',\n",
       " 'UV Protection Aviator Sunglasses (58)',\n",
       " 'UV Protection Wayfarer Sunglasses (Free Size)',\n",
       " 'Polarized, UV Protection, Mirrored, Gradient Rectangula...']"
      ]
     },
     "execution_count": 200,
     "metadata": {},
     "output_type": "execute_result"
    }
   ],
   "source": [
    "description"
   ]
  },
  {
   "cell_type": "code",
   "execution_count": null,
   "id": "5fec3017",
   "metadata": {},
   "outputs": [],
   "source": []
  },
  {
   "cell_type": "code",
   "execution_count": 201,
   "id": "0dad7ccd",
   "metadata": {},
   "outputs": [],
   "source": [
    "price = []"
   ]
  },
  {
   "cell_type": "code",
   "execution_count": 202,
   "id": "ef403857",
   "metadata": {},
   "outputs": [],
   "source": [
    "price_1 =  driver.find_elements_by_xpath('//div[@class=\"_30jeq3\"]')"
   ]
  },
  {
   "cell_type": "code",
   "execution_count": null,
   "id": "7e10e9a5",
   "metadata": {},
   "outputs": [],
   "source": []
  },
  {
   "cell_type": "code",
   "execution_count": 203,
   "id": "7eae7822",
   "metadata": {},
   "outputs": [],
   "source": [
    "for i in price_1:\n",
    "    text = i.text\n",
    "    price.append(text)"
   ]
  },
  {
   "cell_type": "code",
   "execution_count": 204,
   "id": "1792dc8a",
   "metadata": {},
   "outputs": [
    {
     "data": {
      "text/plain": [
       "40"
      ]
     },
     "execution_count": 204,
     "metadata": {},
     "output_type": "execute_result"
    }
   ],
   "source": [
    "len(price)"
   ]
  },
  {
   "cell_type": "code",
   "execution_count": 205,
   "id": "61e9f892",
   "metadata": {
    "scrolled": true
   },
   "outputs": [
    {
     "data": {
      "text/plain": [
       "['₹284',\n",
       " '₹249',\n",
       " '₹647',\n",
       " '₹639',\n",
       " '₹283',\n",
       " '₹249',\n",
       " '₹299',\n",
       " '₹7,109',\n",
       " '₹225',\n",
       " '₹295',\n",
       " '₹219',\n",
       " '₹319',\n",
       " '₹639',\n",
       " '₹224',\n",
       " '₹249',\n",
       " '₹1,491',\n",
       " '₹809',\n",
       " '₹280',\n",
       " '₹259',\n",
       " '₹1,491',\n",
       " '₹399',\n",
       " '₹224',\n",
       " '₹908',\n",
       " '₹898',\n",
       " '₹229',\n",
       " '₹209',\n",
       " '₹499',\n",
       " '₹449',\n",
       " '₹208',\n",
       " '₹219',\n",
       " '₹349',\n",
       " '₹1,349',\n",
       " '₹181',\n",
       " '₹849',\n",
       " '₹499',\n",
       " '₹799',\n",
       " '₹246',\n",
       " '₹349',\n",
       " '₹639',\n",
       " '₹579']"
      ]
     },
     "execution_count": 205,
     "metadata": {},
     "output_type": "execute_result"
    }
   ],
   "source": [
    "price"
   ]
  },
  {
   "cell_type": "code",
   "execution_count": null,
   "id": "28a7d3cb",
   "metadata": {},
   "outputs": [],
   "source": []
  },
  {
   "cell_type": "code",
   "execution_count": 206,
   "id": "7907cadf",
   "metadata": {},
   "outputs": [],
   "source": [
    "next = driver.find_element_by_xpath(\"/html/body/div/div/div[3]/div[1]/div[2]/div[12]/div/div/nav/a[11]/span\")"
   ]
  },
  {
   "cell_type": "code",
   "execution_count": 207,
   "id": "bf081a0b",
   "metadata": {},
   "outputs": [],
   "source": [
    "next.click()"
   ]
  },
  {
   "cell_type": "code",
   "execution_count": null,
   "id": "7cf75cdf",
   "metadata": {
    "scrolled": true
   },
   "outputs": [],
   "source": []
  },
  {
   "cell_type": "code",
   "execution_count": 210,
   "id": "3bc98197",
   "metadata": {},
   "outputs": [],
   "source": [
    "sunglass_name = driver.find_elements_by_xpath(\"//div[@class='_2WkVRV']\")"
   ]
  },
  {
   "cell_type": "code",
   "execution_count": 211,
   "id": "51cfb88c",
   "metadata": {},
   "outputs": [],
   "source": [
    "for i in sunglass_name:\n",
    "    text = i.text\n",
    "    sunglass.append(text)"
   ]
  },
  {
   "cell_type": "code",
   "execution_count": 212,
   "id": "9dc6ec76",
   "metadata": {
    "scrolled": true
   },
   "outputs": [
    {
     "data": {
      "text/plain": [
       "['GANSTA',\n",
       " 'CRYSTAL CART',\n",
       " 'Fastrack',\n",
       " 'Fastrack',\n",
       " 'SUNBEE',\n",
       " 'PIRASO',\n",
       " 'Lee Topper',\n",
       " 'Ray-Ban',\n",
       " 'PIRASO',\n",
       " 'Elligator',\n",
       " 'DAHAAZIL',\n",
       " 'CRYSTAL CART',\n",
       " 'Fastrack',\n",
       " 'PIRASO',\n",
       " 'SRPM',\n",
       " 'LOUIS KOUROS',\n",
       " 'Fastrack',\n",
       " 'PIRASO',\n",
       " 'SUNBEE',\n",
       " 'LOUIS KOUROS',\n",
       " 'ROZZETTA CRAFT',\n",
       " 'PIRASO',\n",
       " 'Mi',\n",
       " 'Velocity Eyewear',\n",
       " 'DEIXELS',\n",
       " 'kingsunglasses',\n",
       " 'ROZZETTA CRAFT',\n",
       " 'ROZZETTA CRAFT',\n",
       " 'hipe',\n",
       " 'Lee Topper',\n",
       " 'ROZZETTA CRAFT',\n",
       " 'LOUIS KOUROS',\n",
       " 'HIPPON',\n",
       " 'Mi',\n",
       " 'ROZZETTA CRAFT',\n",
       " 'ROYAL SON',\n",
       " 'SRPM',\n",
       " 'PIRASO',\n",
       " 'Fastrack',\n",
       " 'CRYSTAL CART',\n",
       " 'Silver Kartz',\n",
       " 'Fastrack',\n",
       " 'Fastrack',\n",
       " 'CART2DEAL',\n",
       " 'kingsunglasses',\n",
       " 'PIRASO',\n",
       " 'Fastrack',\n",
       " 'ROZZETTA CRAFT',\n",
       " 'New Specs',\n",
       " 'kingscape',\n",
       " 'Elligator',\n",
       " 'ROZZETTA CRAFT',\n",
       " 'New Specs',\n",
       " 'Fastrack',\n",
       " 'kingsunglasses',\n",
       " 'VAST',\n",
       " 'AISLIN',\n",
       " 'Poloport',\n",
       " 'New Specs',\n",
       " 'Ray-Ban',\n",
       " 'Lee Topper',\n",
       " 'ROYAL SON',\n",
       " 'AISLIN',\n",
       " 'ROYAL SON',\n",
       " 'maxa',\n",
       " 'Rich Club',\n",
       " 'Fastrack',\n",
       " 'ROYAL SON',\n",
       " 'kingsunglasses',\n",
       " 'Fastrack',\n",
       " 'Singco India',\n",
       " 'ROYAL SON',\n",
       " 'New Specs',\n",
       " 'CRYSTAL CART',\n",
       " 'VINCENT CHASE',\n",
       " 'ROYAL SON',\n",
       " 'PHENOMENAL',\n",
       " 'VINCENT CHASE',\n",
       " 'ROZZETTA CRAFT',\n",
       " 'ROZZETTA CRAFT']"
      ]
     },
     "execution_count": 212,
     "metadata": {},
     "output_type": "execute_result"
    }
   ],
   "source": [
    "sunglass"
   ]
  },
  {
   "cell_type": "code",
   "execution_count": 213,
   "id": "bb333877",
   "metadata": {},
   "outputs": [
    {
     "data": {
      "text/plain": [
       "80"
      ]
     },
     "execution_count": 213,
     "metadata": {},
     "output_type": "execute_result"
    }
   ],
   "source": [
    "len(sunglass)"
   ]
  },
  {
   "cell_type": "code",
   "execution_count": 226,
   "id": "9a67ca7f",
   "metadata": {},
   "outputs": [],
   "source": [
    "disc = driver.find_elements_by_xpath('//a[@class=\"IRpwTa\"]')"
   ]
  },
  {
   "cell_type": "code",
   "execution_count": 227,
   "id": "3848b785",
   "metadata": {},
   "outputs": [],
   "source": [
    "for i in disc:\n",
    "    text = i.text\n",
    "    description.append(text)"
   ]
  },
  {
   "cell_type": "code",
   "execution_count": 228,
   "id": "5d1a9b83",
   "metadata": {
    "scrolled": true
   },
   "outputs": [
    {
     "data": {
      "text/plain": [
       "['UV Protection Wayfarer Sunglasses (Free Size)',\n",
       " 'UV Protection Wayfarer Sunglasses (Free Size)',\n",
       " 'Gradient, UV Protection Wayfarer Sunglasses (Free Size)',\n",
       " 'UV Protection, Riding Glasses, Mirrored Aviator Sunglas...',\n",
       " 'UV Protection Round Sunglasses (54)',\n",
       " 'UV Protection Aviator Sunglasses (Free Size)',\n",
       " 'UV Protection Aviator Sunglasses (58)',\n",
       " 'UV Protection Aviator Sunglasses (62)',\n",
       " 'UV Protection, Mirrored Round Sunglasses (Free Size)',\n",
       " 'UV Protection Rectangular Sunglasses (Free Size)',\n",
       " 'UV Protection Aviator Sunglasses (55)',\n",
       " 'UV Protection Aviator Sunglasses (62)',\n",
       " 'UV Protection Aviator Sunglasses (Free Size)',\n",
       " 'UV Protection Aviator Sunglasses (57)',\n",
       " 'UV Protection Rectangular Sunglasses (55)',\n",
       " 'Night Vision, Riding Glasses, UV Protection Rectangular...',\n",
       " 'UV Protection, Gradient Butterfly, Retro Square Sunglas...',\n",
       " 'UV Protection Wayfarer Sunglasses (Free Size)',\n",
       " 'UV Protection Round Sunglasses (Free Size)',\n",
       " 'Polarized Oval Sunglasses (Free Size)',\n",
       " 'Riding Glasses, Night Vision Wrap-around Sunglasses (Fr...',\n",
       " 'Mirrored Aviator Sunglasses (55)',\n",
       " 'UV Protection, Gradient Round, Cat-eye Sunglasses (60)',\n",
       " 'Polarized, UV Protection Wrap-around Sunglasses (62)',\n",
       " 'UV Protection, Riding Glasses Rectangular, Wayfarer, Ov...',\n",
       " 'UV Protection Round Sunglasses (48)',\n",
       " 'UV Protection Aviator Sunglasses (58)',\n",
       " 'UV Protection, Polarized Aviator Sunglasses (60)',\n",
       " 'UV Protection Round Sunglasses (Free Size)',\n",
       " 'Gradient, UV Protection Wayfarer Sunglasses (Free Size)',\n",
       " 'Riding Glasses, UV Protection, Others Aviator Sunglasse...',\n",
       " 'Polarized, UV Protection, Gradient Over-sized, Butterfl...',\n",
       " 'UV Protection, Mirrored Sports Sunglasses (Free Size)',\n",
       " 'Polarized, UV Protection, Mirrored, Gradient Rectangula...',\n",
       " 'UV Protection Wayfarer Sunglasses (62)',\n",
       " 'Polarized, UV Protection Sports Sunglasses (68)',\n",
       " 'UV Protection Retro Square Sunglasses (Free Size)',\n",
       " 'by Lenskart Polarized, UV Protection Wayfarer Sunglasse...',\n",
       " 'UV Protection Aviator Sunglasses (62)',\n",
       " 'Polarized, Riding Glasses Sports, Wrap-around Sunglasse...',\n",
       " 'UV Protection Wayfarer Sunglasses (Free Size)',\n",
       " 'UV Protection Wayfarer Sunglasses (Free Size)',\n",
       " 'Gradient, UV Protection Wayfarer Sunglasses (Free Size)',\n",
       " 'UV Protection, Riding Glasses, Mirrored Aviator Sunglas...',\n",
       " 'UV Protection Round Sunglasses (54)',\n",
       " 'UV Protection Aviator Sunglasses (Free Size)',\n",
       " 'UV Protection Aviator Sunglasses (58)',\n",
       " 'UV Protection Aviator Sunglasses (62)',\n",
       " 'UV Protection, Mirrored Round Sunglasses (Free Size)',\n",
       " 'UV Protection Rectangular Sunglasses (Free Size)',\n",
       " 'UV Protection Aviator Sunglasses (55)',\n",
       " 'UV Protection Aviator Sunglasses (62)',\n",
       " 'UV Protection Aviator Sunglasses (Free Size)',\n",
       " 'UV Protection Aviator Sunglasses (57)',\n",
       " 'UV Protection Rectangular Sunglasses (55)',\n",
       " 'Night Vision, Riding Glasses, UV Protection Rectangular...',\n",
       " 'UV Protection, Gradient Butterfly, Retro Square Sunglas...',\n",
       " 'UV Protection Wayfarer Sunglasses (Free Size)',\n",
       " 'UV Protection Round Sunglasses (Free Size)',\n",
       " 'Polarized Oval Sunglasses (Free Size)',\n",
       " 'Riding Glasses, Night Vision Wrap-around Sunglasses (Fr...',\n",
       " 'Mirrored Aviator Sunglasses (55)',\n",
       " 'UV Protection, Gradient Round, Cat-eye Sunglasses (60)',\n",
       " 'Polarized, UV Protection Wrap-around Sunglasses (62)',\n",
       " 'UV Protection, Riding Glasses Rectangular, Wayfarer, Ov...',\n",
       " 'UV Protection Round Sunglasses (48)',\n",
       " 'UV Protection Aviator Sunglasses (58)',\n",
       " 'UV Protection, Polarized Aviator Sunglasses (60)',\n",
       " 'UV Protection Round Sunglasses (Free Size)',\n",
       " 'Gradient, UV Protection Wayfarer Sunglasses (Free Size)',\n",
       " 'Riding Glasses, UV Protection, Others Aviator Sunglasse...',\n",
       " 'Polarized, UV Protection, Gradient Over-sized, Butterfl...',\n",
       " 'UV Protection, Mirrored Sports Sunglasses (Free Size)',\n",
       " 'Polarized, UV Protection, Mirrored, Gradient Rectangula...',\n",
       " 'UV Protection Wayfarer Sunglasses (62)',\n",
       " 'Polarized, UV Protection Sports Sunglasses (68)',\n",
       " 'UV Protection Retro Square Sunglasses (Free Size)',\n",
       " 'by Lenskart Polarized, UV Protection Wayfarer Sunglasse...',\n",
       " 'UV Protection Aviator Sunglasses (62)',\n",
       " 'Polarized, Riding Glasses Sports, Wrap-around Sunglasse...']"
      ]
     },
     "execution_count": 228,
     "metadata": {},
     "output_type": "execute_result"
    }
   ],
   "source": [
    "description"
   ]
  },
  {
   "cell_type": "code",
   "execution_count": null,
   "id": "7196e753",
   "metadata": {},
   "outputs": [],
   "source": []
  },
  {
   "cell_type": "code",
   "execution_count": 229,
   "id": "83a35ae2",
   "metadata": {},
   "outputs": [
    {
     "data": {
      "text/plain": [
       "80"
      ]
     },
     "execution_count": 229,
     "metadata": {},
     "output_type": "execute_result"
    }
   ],
   "source": [
    "len(description)"
   ]
  },
  {
   "cell_type": "code",
   "execution_count": 230,
   "id": "e27c93bf",
   "metadata": {},
   "outputs": [],
   "source": [
    "price_1 =  driver.find_elements_by_xpath('//div[@class=\"_30jeq3\"]')"
   ]
  },
  {
   "cell_type": "code",
   "execution_count": 231,
   "id": "f7e36602",
   "metadata": {},
   "outputs": [],
   "source": [
    "for i in price_1:\n",
    "    text = i.text\n",
    "    price.append(text)"
   ]
  },
  {
   "cell_type": "code",
   "execution_count": 232,
   "id": "8a6cbf16",
   "metadata": {
    "scrolled": true
   },
   "outputs": [
    {
     "data": {
      "text/plain": [
       "['₹284',\n",
       " '₹249',\n",
       " '₹647',\n",
       " '₹639',\n",
       " '₹283',\n",
       " '₹249',\n",
       " '₹299',\n",
       " '₹7,109',\n",
       " '₹225',\n",
       " '₹295',\n",
       " '₹219',\n",
       " '₹319',\n",
       " '₹639',\n",
       " '₹224',\n",
       " '₹249',\n",
       " '₹1,491',\n",
       " '₹809',\n",
       " '₹280',\n",
       " '₹259',\n",
       " '₹1,491',\n",
       " '₹399',\n",
       " '₹224',\n",
       " '₹908',\n",
       " '₹898',\n",
       " '₹229',\n",
       " '₹209',\n",
       " '₹499',\n",
       " '₹449',\n",
       " '₹208',\n",
       " '₹219',\n",
       " '₹349',\n",
       " '₹1,349',\n",
       " '₹181',\n",
       " '₹849',\n",
       " '₹499',\n",
       " '₹799',\n",
       " '₹246',\n",
       " '₹349',\n",
       " '₹639',\n",
       " '₹579',\n",
       " '₹288',\n",
       " '₹647',\n",
       " '₹639',\n",
       " '₹1,274',\n",
       " '₹214',\n",
       " '₹349',\n",
       " '₹1,039',\n",
       " '₹649',\n",
       " '₹299',\n",
       " '₹169',\n",
       " '₹333',\n",
       " '₹649',\n",
       " '₹214',\n",
       " '₹575',\n",
       " '₹189',\n",
       " '₹799',\n",
       " '₹498',\n",
       " '₹279',\n",
       " '₹264',\n",
       " '₹6,289',\n",
       " '₹276',\n",
       " '₹399',\n",
       " '₹498',\n",
       " '₹799',\n",
       " '₹189',\n",
       " '₹260',\n",
       " '₹1,099',\n",
       " '₹749',\n",
       " '₹329',\n",
       " '₹639',\n",
       " '₹245',\n",
       " '₹1,299',\n",
       " '₹185',\n",
       " '₹579',\n",
       " '₹659',\n",
       " '₹1,299',\n",
       " '₹361',\n",
       " '₹729',\n",
       " '₹649',\n",
       " '₹499']"
      ]
     },
     "execution_count": 232,
     "metadata": {},
     "output_type": "execute_result"
    }
   ],
   "source": [
    "price"
   ]
  },
  {
   "cell_type": "code",
   "execution_count": 233,
   "id": "93741a19",
   "metadata": {},
   "outputs": [
    {
     "data": {
      "text/plain": [
       "80"
      ]
     },
     "execution_count": 233,
     "metadata": {},
     "output_type": "execute_result"
    }
   ],
   "source": [
    "len(price)"
   ]
  },
  {
   "cell_type": "code",
   "execution_count": 234,
   "id": "0ebfa869",
   "metadata": {},
   "outputs": [],
   "source": [
    "next_2 = driver.find_element_by_xpath(\"/html/body/div/div/div[3]/div[1]/div[2]/div[12]/div/div/nav/a[12]/span\")"
   ]
  },
  {
   "cell_type": "code",
   "execution_count": 235,
   "id": "b2534e58",
   "metadata": {},
   "outputs": [],
   "source": [
    "next_2.click()"
   ]
  },
  {
   "cell_type": "code",
   "execution_count": 236,
   "id": "706afeff",
   "metadata": {},
   "outputs": [],
   "source": [
    "sunglass_name = driver.find_elements_by_xpath(\"//div[@class='_2WkVRV']\")"
   ]
  },
  {
   "cell_type": "code",
   "execution_count": 237,
   "id": "d73a194f",
   "metadata": {},
   "outputs": [],
   "source": [
    "for i in sunglass_name:\n",
    "    text = i.text\n",
    "    sunglass.append(text)"
   ]
  },
  {
   "cell_type": "code",
   "execution_count": 238,
   "id": "065801ab",
   "metadata": {
    "scrolled": true
   },
   "outputs": [
    {
     "data": {
      "text/plain": [
       "['GANSTA',\n",
       " 'CRYSTAL CART',\n",
       " 'Fastrack',\n",
       " 'Fastrack',\n",
       " 'SUNBEE',\n",
       " 'PIRASO',\n",
       " 'Lee Topper',\n",
       " 'Ray-Ban',\n",
       " 'PIRASO',\n",
       " 'Elligator',\n",
       " 'DAHAAZIL',\n",
       " 'CRYSTAL CART',\n",
       " 'Fastrack',\n",
       " 'PIRASO',\n",
       " 'SRPM',\n",
       " 'LOUIS KOUROS',\n",
       " 'Fastrack',\n",
       " 'PIRASO',\n",
       " 'SUNBEE',\n",
       " 'LOUIS KOUROS',\n",
       " 'ROZZETTA CRAFT',\n",
       " 'PIRASO',\n",
       " 'Mi',\n",
       " 'Velocity Eyewear',\n",
       " 'DEIXELS',\n",
       " 'kingsunglasses',\n",
       " 'ROZZETTA CRAFT',\n",
       " 'ROZZETTA CRAFT',\n",
       " 'hipe',\n",
       " 'Lee Topper',\n",
       " 'ROZZETTA CRAFT',\n",
       " 'LOUIS KOUROS',\n",
       " 'HIPPON',\n",
       " 'Mi',\n",
       " 'ROZZETTA CRAFT',\n",
       " 'ROYAL SON',\n",
       " 'SRPM',\n",
       " 'PIRASO',\n",
       " 'Fastrack',\n",
       " 'CRYSTAL CART',\n",
       " 'Silver Kartz',\n",
       " 'Fastrack',\n",
       " 'Fastrack',\n",
       " 'CART2DEAL',\n",
       " 'kingsunglasses',\n",
       " 'PIRASO',\n",
       " 'Fastrack',\n",
       " 'ROZZETTA CRAFT',\n",
       " 'New Specs',\n",
       " 'kingscape',\n",
       " 'Elligator',\n",
       " 'ROZZETTA CRAFT',\n",
       " 'New Specs',\n",
       " 'Fastrack',\n",
       " 'kingsunglasses',\n",
       " 'VAST',\n",
       " 'AISLIN',\n",
       " 'Poloport',\n",
       " 'New Specs',\n",
       " 'Ray-Ban',\n",
       " 'Lee Topper',\n",
       " 'ROYAL SON',\n",
       " 'AISLIN',\n",
       " 'ROYAL SON',\n",
       " 'maxa',\n",
       " 'Rich Club',\n",
       " 'Fastrack',\n",
       " 'ROYAL SON',\n",
       " 'kingsunglasses',\n",
       " 'Fastrack',\n",
       " 'Singco India',\n",
       " 'ROYAL SON',\n",
       " 'New Specs',\n",
       " 'CRYSTAL CART',\n",
       " 'VINCENT CHASE',\n",
       " 'ROYAL SON',\n",
       " 'PHENOMENAL',\n",
       " 'VINCENT CHASE',\n",
       " 'ROZZETTA CRAFT',\n",
       " 'ROZZETTA CRAFT',\n",
       " 'PIRASO',\n",
       " 'VINCENT CHASE',\n",
       " 'PHENOMENAL',\n",
       " 'Ray-Ban',\n",
       " 'VINCENT CHASE',\n",
       " 'Fastrack',\n",
       " 'ROZZETTA CRAFT',\n",
       " 'Rich Club',\n",
       " 'ROYAL SON',\n",
       " 'hipe',\n",
       " 'AISLIN',\n",
       " 'ROYAL SON',\n",
       " 'PHENOMENAL',\n",
       " 'Singco India',\n",
       " 'ROZZETTA CRAFT',\n",
       " 'Roadster',\n",
       " 'ROYAL SON',\n",
       " 'CRYSTAL CART',\n",
       " 'Rich Club',\n",
       " 'Ray-Ban',\n",
       " 'Elligator',\n",
       " 'New Specs',\n",
       " 'Fastrack',\n",
       " 'Ray-Ban',\n",
       " 'United Colors of Benetton',\n",
       " 'United Colors of Benetton',\n",
       " 'elegante',\n",
       " 'GANSTA',\n",
       " 'NuVew',\n",
       " 'Singco India',\n",
       " 'Fastrack',\n",
       " 'ROYAL SON',\n",
       " 'Fastrack',\n",
       " 'NuVew',\n",
       " 'hipe',\n",
       " 'Rich Club',\n",
       " 'PHENOMENAL',\n",
       " 'GANSTA',\n",
       " 'Fastrack',\n",
       " 'Ray-Ban']"
      ]
     },
     "execution_count": 238,
     "metadata": {},
     "output_type": "execute_result"
    }
   ],
   "source": [
    "sunglass"
   ]
  },
  {
   "cell_type": "code",
   "execution_count": 239,
   "id": "197e6b72",
   "metadata": {},
   "outputs": [
    {
     "data": {
      "text/plain": [
       "120"
      ]
     },
     "execution_count": 239,
     "metadata": {},
     "output_type": "execute_result"
    }
   ],
   "source": [
    "len(sunglass)"
   ]
  },
  {
   "cell_type": "code",
   "execution_count": 240,
   "id": "7d4c6b79",
   "metadata": {},
   "outputs": [
    {
     "data": {
      "text/plain": [
       "100"
      ]
     },
     "execution_count": 240,
     "metadata": {},
     "output_type": "execute_result"
    }
   ],
   "source": [
    "len(sunglass [:100])"
   ]
  },
  {
   "cell_type": "code",
   "execution_count": 241,
   "id": "4826a41d",
   "metadata": {},
   "outputs": [],
   "source": [
    "new_sunglass = sunglass [:100]"
   ]
  },
  {
   "cell_type": "code",
   "execution_count": 242,
   "id": "017e7766",
   "metadata": {
    "scrolled": true
   },
   "outputs": [
    {
     "data": {
      "text/html": [
       "<div>\n",
       "<style scoped>\n",
       "    .dataframe tbody tr th:only-of-type {\n",
       "        vertical-align: middle;\n",
       "    }\n",
       "\n",
       "    .dataframe tbody tr th {\n",
       "        vertical-align: top;\n",
       "    }\n",
       "\n",
       "    .dataframe thead th {\n",
       "        text-align: right;\n",
       "    }\n",
       "</style>\n",
       "<table border=\"1\" class=\"dataframe\">\n",
       "  <thead>\n",
       "    <tr style=\"text-align: right;\">\n",
       "      <th></th>\n",
       "      <th>0</th>\n",
       "    </tr>\n",
       "  </thead>\n",
       "  <tbody>\n",
       "    <tr>\n",
       "      <th>0</th>\n",
       "      <td>GANSTA</td>\n",
       "    </tr>\n",
       "    <tr>\n",
       "      <th>1</th>\n",
       "      <td>CRYSTAL CART</td>\n",
       "    </tr>\n",
       "    <tr>\n",
       "      <th>2</th>\n",
       "      <td>Fastrack</td>\n",
       "    </tr>\n",
       "    <tr>\n",
       "      <th>3</th>\n",
       "      <td>Fastrack</td>\n",
       "    </tr>\n",
       "    <tr>\n",
       "      <th>4</th>\n",
       "      <td>SUNBEE</td>\n",
       "    </tr>\n",
       "    <tr>\n",
       "      <th>...</th>\n",
       "      <td>...</td>\n",
       "    </tr>\n",
       "    <tr>\n",
       "      <th>95</th>\n",
       "      <td>Roadster</td>\n",
       "    </tr>\n",
       "    <tr>\n",
       "      <th>96</th>\n",
       "      <td>ROYAL SON</td>\n",
       "    </tr>\n",
       "    <tr>\n",
       "      <th>97</th>\n",
       "      <td>CRYSTAL CART</td>\n",
       "    </tr>\n",
       "    <tr>\n",
       "      <th>98</th>\n",
       "      <td>Rich Club</td>\n",
       "    </tr>\n",
       "    <tr>\n",
       "      <th>99</th>\n",
       "      <td>Ray-Ban</td>\n",
       "    </tr>\n",
       "  </tbody>\n",
       "</table>\n",
       "<p>100 rows × 1 columns</p>\n",
       "</div>"
      ],
      "text/plain": [
       "               0\n",
       "0         GANSTA\n",
       "1   CRYSTAL CART\n",
       "2       Fastrack\n",
       "3       Fastrack\n",
       "4         SUNBEE\n",
       "..           ...\n",
       "95      Roadster\n",
       "96     ROYAL SON\n",
       "97  CRYSTAL CART\n",
       "98     Rich Club\n",
       "99       Ray-Ban\n",
       "\n",
       "[100 rows x 1 columns]"
      ]
     },
     "execution_count": 242,
     "metadata": {},
     "output_type": "execute_result"
    }
   ],
   "source": [
    "pd.DataFrame(new_sunglass)"
   ]
  },
  {
   "cell_type": "code",
   "execution_count": 243,
   "id": "5e2aa8b2",
   "metadata": {},
   "outputs": [],
   "source": [
    "disc = driver.find_elements_by_xpath('//a[@class=\"IRpwTa\"]')"
   ]
  },
  {
   "cell_type": "code",
   "execution_count": 244,
   "id": "a5c50f63",
   "metadata": {},
   "outputs": [],
   "source": [
    "for i in disc:\n",
    "    text = i.text\n",
    "    description.append(text)"
   ]
  },
  {
   "cell_type": "code",
   "execution_count": 245,
   "id": "9cad92e5",
   "metadata": {},
   "outputs": [
    {
     "data": {
      "text/plain": [
       "120"
      ]
     },
     "execution_count": 245,
     "metadata": {},
     "output_type": "execute_result"
    }
   ],
   "source": [
    "len(description)"
   ]
  },
  {
   "cell_type": "code",
   "execution_count": 246,
   "id": "09172839",
   "metadata": {},
   "outputs": [],
   "source": [
    "new_description =  description[:100]"
   ]
  },
  {
   "cell_type": "code",
   "execution_count": 247,
   "id": "2e413617",
   "metadata": {
    "scrolled": true
   },
   "outputs": [
    {
     "data": {
      "text/plain": [
       "100"
      ]
     },
     "execution_count": 247,
     "metadata": {},
     "output_type": "execute_result"
    }
   ],
   "source": [
    "len(new_description)"
   ]
  },
  {
   "cell_type": "code",
   "execution_count": 248,
   "id": "f04047d6",
   "metadata": {},
   "outputs": [
    {
     "data": {
      "text/html": [
       "<div>\n",
       "<style scoped>\n",
       "    .dataframe tbody tr th:only-of-type {\n",
       "        vertical-align: middle;\n",
       "    }\n",
       "\n",
       "    .dataframe tbody tr th {\n",
       "        vertical-align: top;\n",
       "    }\n",
       "\n",
       "    .dataframe thead th {\n",
       "        text-align: right;\n",
       "    }\n",
       "</style>\n",
       "<table border=\"1\" class=\"dataframe\">\n",
       "  <thead>\n",
       "    <tr style=\"text-align: right;\">\n",
       "      <th></th>\n",
       "      <th>0</th>\n",
       "    </tr>\n",
       "  </thead>\n",
       "  <tbody>\n",
       "    <tr>\n",
       "      <th>0</th>\n",
       "      <td>UV Protection Wayfarer Sunglasses (Free Size)</td>\n",
       "    </tr>\n",
       "    <tr>\n",
       "      <th>1</th>\n",
       "      <td>UV Protection Wayfarer Sunglasses (Free Size)</td>\n",
       "    </tr>\n",
       "    <tr>\n",
       "      <th>2</th>\n",
       "      <td>Gradient, UV Protection Wayfarer Sunglasses (F...</td>\n",
       "    </tr>\n",
       "    <tr>\n",
       "      <th>3</th>\n",
       "      <td>UV Protection, Riding Glasses, Mirrored Aviato...</td>\n",
       "    </tr>\n",
       "    <tr>\n",
       "      <th>4</th>\n",
       "      <td>UV Protection Round Sunglasses (54)</td>\n",
       "    </tr>\n",
       "    <tr>\n",
       "      <th>...</th>\n",
       "      <td>...</td>\n",
       "    </tr>\n",
       "    <tr>\n",
       "      <th>95</th>\n",
       "      <td>Others Aviator Sunglasses (Free Size)</td>\n",
       "    </tr>\n",
       "    <tr>\n",
       "      <th>96</th>\n",
       "      <td>UV Protection, Gradient Wayfarer Sunglasses (55)</td>\n",
       "    </tr>\n",
       "    <tr>\n",
       "      <th>97</th>\n",
       "      <td>UV Protection, Gradient Round Sunglasses (Free...</td>\n",
       "    </tr>\n",
       "    <tr>\n",
       "      <th>98</th>\n",
       "      <td>UV Protection, Mirrored, Gradient Round Sungla...</td>\n",
       "    </tr>\n",
       "    <tr>\n",
       "      <th>99</th>\n",
       "      <td>Mirrored Aviator Sunglasses (63)</td>\n",
       "    </tr>\n",
       "  </tbody>\n",
       "</table>\n",
       "<p>100 rows × 1 columns</p>\n",
       "</div>"
      ],
      "text/plain": [
       "                                                    0\n",
       "0       UV Protection Wayfarer Sunglasses (Free Size)\n",
       "1       UV Protection Wayfarer Sunglasses (Free Size)\n",
       "2   Gradient, UV Protection Wayfarer Sunglasses (F...\n",
       "3   UV Protection, Riding Glasses, Mirrored Aviato...\n",
       "4                 UV Protection Round Sunglasses (54)\n",
       "..                                                ...\n",
       "95              Others Aviator Sunglasses (Free Size)\n",
       "96   UV Protection, Gradient Wayfarer Sunglasses (55)\n",
       "97  UV Protection, Gradient Round Sunglasses (Free...\n",
       "98  UV Protection, Mirrored, Gradient Round Sungla...\n",
       "99                   Mirrored Aviator Sunglasses (63)\n",
       "\n",
       "[100 rows x 1 columns]"
      ]
     },
     "execution_count": 248,
     "metadata": {},
     "output_type": "execute_result"
    }
   ],
   "source": [
    "pd.DataFrame(new_description)"
   ]
  },
  {
   "cell_type": "code",
   "execution_count": 249,
   "id": "e81e2e96",
   "metadata": {},
   "outputs": [],
   "source": [
    "price_1 =  driver.find_elements_by_xpath('//div[@class=\"_30jeq3\"]')"
   ]
  },
  {
   "cell_type": "code",
   "execution_count": 250,
   "id": "0f0dd91b",
   "metadata": {},
   "outputs": [],
   "source": [
    "for i in price_1:\n",
    "    text = i.text\n",
    "    price.append(text)"
   ]
  },
  {
   "cell_type": "code",
   "execution_count": 251,
   "id": "6115b7c0",
   "metadata": {},
   "outputs": [
    {
     "data": {
      "text/plain": [
       "120"
      ]
     },
     "execution_count": 251,
     "metadata": {},
     "output_type": "execute_result"
    }
   ],
   "source": [
    "len(price)"
   ]
  },
  {
   "cell_type": "code",
   "execution_count": 253,
   "id": "30e8ba01",
   "metadata": {},
   "outputs": [],
   "source": [
    "new_price = price[:100]"
   ]
  },
  {
   "cell_type": "code",
   "execution_count": 255,
   "id": "687744b2",
   "metadata": {
    "scrolled": true
   },
   "outputs": [
    {
     "data": {
      "text/plain": [
       "100"
      ]
     },
     "execution_count": 255,
     "metadata": {},
     "output_type": "execute_result"
    }
   ],
   "source": [
    "len(new_price)"
   ]
  },
  {
   "cell_type": "code",
   "execution_count": 256,
   "id": "3dae5a5d",
   "metadata": {},
   "outputs": [
    {
     "data": {
      "text/html": [
       "<div>\n",
       "<style scoped>\n",
       "    .dataframe tbody tr th:only-of-type {\n",
       "        vertical-align: middle;\n",
       "    }\n",
       "\n",
       "    .dataframe tbody tr th {\n",
       "        vertical-align: top;\n",
       "    }\n",
       "\n",
       "    .dataframe thead th {\n",
       "        text-align: right;\n",
       "    }\n",
       "</style>\n",
       "<table border=\"1\" class=\"dataframe\">\n",
       "  <thead>\n",
       "    <tr style=\"text-align: right;\">\n",
       "      <th></th>\n",
       "      <th>0</th>\n",
       "    </tr>\n",
       "  </thead>\n",
       "  <tbody>\n",
       "    <tr>\n",
       "      <th>0</th>\n",
       "      <td>₹284</td>\n",
       "    </tr>\n",
       "    <tr>\n",
       "      <th>1</th>\n",
       "      <td>₹249</td>\n",
       "    </tr>\n",
       "    <tr>\n",
       "      <th>2</th>\n",
       "      <td>₹647</td>\n",
       "    </tr>\n",
       "    <tr>\n",
       "      <th>3</th>\n",
       "      <td>₹639</td>\n",
       "    </tr>\n",
       "    <tr>\n",
       "      <th>4</th>\n",
       "      <td>₹283</td>\n",
       "    </tr>\n",
       "    <tr>\n",
       "      <th>...</th>\n",
       "      <td>...</td>\n",
       "    </tr>\n",
       "    <tr>\n",
       "      <th>95</th>\n",
       "      <td>₹649</td>\n",
       "    </tr>\n",
       "    <tr>\n",
       "      <th>96</th>\n",
       "      <td>₹229</td>\n",
       "    </tr>\n",
       "    <tr>\n",
       "      <th>97</th>\n",
       "      <td>₹419</td>\n",
       "    </tr>\n",
       "    <tr>\n",
       "      <th>98</th>\n",
       "      <td>₹223</td>\n",
       "    </tr>\n",
       "    <tr>\n",
       "      <th>99</th>\n",
       "      <td>₹4,489</td>\n",
       "    </tr>\n",
       "  </tbody>\n",
       "</table>\n",
       "<p>100 rows × 1 columns</p>\n",
       "</div>"
      ],
      "text/plain": [
       "         0\n",
       "0     ₹284\n",
       "1     ₹249\n",
       "2     ₹647\n",
       "3     ₹639\n",
       "4     ₹283\n",
       "..     ...\n",
       "95    ₹649\n",
       "96    ₹229\n",
       "97    ₹419\n",
       "98    ₹223\n",
       "99  ₹4,489\n",
       "\n",
       "[100 rows x 1 columns]"
      ]
     },
     "execution_count": 256,
     "metadata": {},
     "output_type": "execute_result"
    }
   ],
   "source": [
    "pd.DataFrame(new_price)"
   ]
  },
  {
   "cell_type": "code",
   "execution_count": null,
   "id": "07a08f50",
   "metadata": {},
   "outputs": [],
   "source": []
  },
  {
   "cell_type": "markdown",
   "id": "70574c6d",
   "metadata": {},
   "source": [
    "# Q5: Scrape 100 reviews data from flipkart.com for iphone11 phone. "
   ]
  },
  {
   "cell_type": "code",
   "execution_count": 11,
   "id": "b746f8ba",
   "metadata": {},
   "outputs": [],
   "source": [
    "import selenium\n",
    "\n",
    "import pandas as pd\n",
    "\n",
    "from selenium import webdriver\n",
    "\n",
    "import warnings\n",
    "\n",
    "warnings.filterwarnings(\"ignore\")\n",
    "\n",
    "import time\n",
    "\n",
    "driver   =  webdriver.Chrome(\"chromedriver.exe\")\n",
    "time.sleep(2)"
   ]
  },
  {
   "cell_type": "code",
   "execution_count": 12,
   "id": "55d58fe1",
   "metadata": {},
   "outputs": [],
   "source": [
    "driver.get(\"https://www.flipkart.com/apple-iphone-11-black-64-gb-includes- earpods-poweradapter/p/itm0f37c2240b217?pid=MOBFKCTSVZAXUHGR&lid=LSTMOBFKCTSVZAXUHGREPBFGI&marketplace\")"
   ]
  },
  {
   "cell_type": "code",
   "execution_count": 15,
   "id": "050a9376",
   "metadata": {},
   "outputs": [],
   "source": [
    "click = driver.find_element_by_xpath(\"/html/body/div[1]/div/div[3]/div[1]/div[2]/div[9]/div/div/div[5]/div/a/div/span\")"
   ]
  },
  {
   "cell_type": "code",
   "execution_count": 16,
   "id": "3ea3e2e6",
   "metadata": {},
   "outputs": [],
   "source": [
    "click.click()"
   ]
  },
  {
   "cell_type": "markdown",
   "id": "130f1de3",
   "metadata": {},
   "source": [
    "### page 1 "
   ]
  },
  {
   "cell_type": "code",
   "execution_count": 29,
   "id": "79e592f8",
   "metadata": {},
   "outputs": [],
   "source": [
    "rating = []"
   ]
  },
  {
   "cell_type": "code",
   "execution_count": 30,
   "id": "7592bb60",
   "metadata": {},
   "outputs": [],
   "source": [
    "rate_1 =  driver.find_elements_by_xpath('//div[@class=\"_3LWZlK _1BLPMq\"]')"
   ]
  },
  {
   "cell_type": "code",
   "execution_count": 31,
   "id": "7d524689",
   "metadata": {},
   "outputs": [],
   "source": [
    "for i in rate_1:\n",
    "    text = i.text\n",
    "    rating.append(text)"
   ]
  },
  {
   "cell_type": "code",
   "execution_count": 32,
   "id": "909d35c7",
   "metadata": {},
   "outputs": [
    {
     "data": {
      "text/plain": [
       "['5', '5', '5', '5', '5', '5', '5', '4', '5', '5']"
      ]
     },
     "execution_count": 32,
     "metadata": {},
     "output_type": "execute_result"
    }
   ],
   "source": [
    "rating"
   ]
  },
  {
   "cell_type": "code",
   "execution_count": 33,
   "id": "e51a610d",
   "metadata": {},
   "outputs": [],
   "source": []
  },
  {
   "cell_type": "code",
   "execution_count": null,
   "id": "9eee8548",
   "metadata": {},
   "outputs": [],
   "source": []
  },
  {
   "cell_type": "code",
   "execution_count": 39,
   "id": "f555c54d",
   "metadata": {},
   "outputs": [],
   "source": [
    "review_summary = []"
   ]
  },
  {
   "cell_type": "code",
   "execution_count": 40,
   "id": "deadc90d",
   "metadata": {},
   "outputs": [],
   "source": [
    "summary = driver.find_elements_by_xpath('//p[@class=\"_2-N8zT\"]')"
   ]
  },
  {
   "cell_type": "code",
   "execution_count": 41,
   "id": "af137eba",
   "metadata": {},
   "outputs": [],
   "source": [
    "for i in summary:\n",
    "    text = i.text\n",
    "    review_summary.append(text)"
   ]
  },
  {
   "cell_type": "code",
   "execution_count": 42,
   "id": "ebc62ef9",
   "metadata": {},
   "outputs": [
    {
     "data": {
      "text/plain": [
       "['Brilliant',\n",
       " 'Simply awesome',\n",
       " 'Best in the market!',\n",
       " 'Perfect product!',\n",
       " 'Fabulous!',\n",
       " 'Worth every penny',\n",
       " 'Great product',\n",
       " 'Good choice',\n",
       " 'Worth every penny',\n",
       " 'Highly recommended']"
      ]
     },
     "execution_count": 42,
     "metadata": {},
     "output_type": "execute_result"
    }
   ],
   "source": [
    "review_summary"
   ]
  },
  {
   "cell_type": "code",
   "execution_count": null,
   "id": "a3deaa52",
   "metadata": {},
   "outputs": [],
   "source": []
  },
  {
   "cell_type": "code",
   "execution_count": 52,
   "id": "43de4940",
   "metadata": {},
   "outputs": [],
   "source": [
    "full_review = []"
   ]
  },
  {
   "cell_type": "code",
   "execution_count": 53,
   "id": "882381f5",
   "metadata": {},
   "outputs": [],
   "source": [
    "review = driver.find_elements_by_xpath('//div[@class=\"t-ZTKy\"]')"
   ]
  },
  {
   "cell_type": "code",
   "execution_count": 54,
   "id": "614b3838",
   "metadata": {},
   "outputs": [],
   "source": [
    "for i in review:\n",
    "    text = i.text\n",
    "    full_review.append(text.replace(\"\\n\",\"\"))"
   ]
  },
  {
   "cell_type": "code",
   "execution_count": 55,
   "id": "1356026a",
   "metadata": {
    "scrolled": true
   },
   "outputs": [
    {
     "data": {
      "text/plain": [
       "['The Best Phone for the MoneyThe iPhone 11 offers superb cameras, a more durable design and excellent battery life for an affordable price.Compelling ultra-wide cameraNew Night mode is excellentLong battery life',\n",
       " 'Really satisfied with the Product I received... It’s totally genuine and the packaging was also really good so if ur planning to buy just go for it.',\n",
       " 'Great iPhone very snappy experience as apple kind. Upgraded from iPhone 7.Pros-Camera top class- Battery top performed-Chipset no need to say as apple kind-Security as you expect from apple- Display super bright industry leading colouraccuracy and super responsive-Build quality as expect from apple sturdypremium durable beautiful stylish.-Os most stable os in smartphone industryCons-No 5G-Display is not based on OLED technology-Charger headphones and 1 apple stic...READ MORE',\n",
       " 'Amazing phone with great cameras and better battery which gives you the best performance. I just love the camera .',\n",
       " 'This is my first iOS phone. I am very happy with this product. Very much satisfied with this. I love this phone.',\n",
       " 'Previously I was using one plus 3t it was a great phoneAnd then I decided to upgrade I am stuck between Samsung s10 plus or iPhone 11I have seen the specs and everything were good except the display it’s somewhere between 720-1080 and it’s not even an amoled it’s an LCD displayBut I decided to go with iPhone because I have never used an IOS device I have Been an android user from the past 9 years I ordered IPhone 11 (128gb) product redMy experience after using 3 weeks1. The delivery ...READ MORE',\n",
       " 'Amazing Powerful and Durable Gadget.I’m am very happy with the camera picture quality, Amazing face id unlocked in dark room, Strong battery with perfect screen size as you can carry easily in pocket. This is my third iPhone.I shifted from android Samsung Note series to iPhone because of the strong build quality and peace of mind for next 3-4 years.Don’t think to much just go for it and I suggest you to go for minimum 128gb variant or more 256gb.I’ve attached my puppy pics and no fi...READ MORE',\n",
       " 'So far it’s been an AMAZING experience coming back to iOS after nearly a decade but it’s not as versatile as android though phone is sturdy dropped it accidentally a couple of times and nothing happened fortunately camera is awesome',\n",
       " 'i11 is worthy to buy, too much happy with the product. Thank u flipkart I received the item on time..loved it..',\n",
       " 'What a camera .....just awesome ..you can feel this iPhone just awesome . Good for gaming also ...try pubg in hd it’s just wow']"
      ]
     },
     "execution_count": 55,
     "metadata": {},
     "output_type": "execute_result"
    }
   ],
   "source": [
    "full_review"
   ]
  },
  {
   "cell_type": "code",
   "execution_count": null,
   "id": "33c9c427",
   "metadata": {},
   "outputs": [],
   "source": []
  },
  {
   "cell_type": "code",
   "execution_count": null,
   "id": "4f4631a1",
   "metadata": {},
   "outputs": [],
   "source": []
  },
  {
   "cell_type": "code",
   "execution_count": 58,
   "id": "7ccb70b6",
   "metadata": {},
   "outputs": [],
   "source": [
    "next  = driver.find_element_by_xpath(\"/html/body/div[1]/div/div[3]/div/div/div[2]/div[13]/div/div/nav/a[11]/span\")"
   ]
  },
  {
   "cell_type": "code",
   "execution_count": 59,
   "id": "c95dcd24",
   "metadata": {},
   "outputs": [],
   "source": [
    "next.click()"
   ]
  },
  {
   "cell_type": "markdown",
   "id": "cbfad667",
   "metadata": {},
   "source": [
    "## page 2"
   ]
  },
  {
   "cell_type": "code",
   "execution_count": 60,
   "id": "3f077852",
   "metadata": {},
   "outputs": [],
   "source": [
    "rate =  driver.find_elements_by_xpath('//div[@class=\"_3LWZlK _1BLPMq\"]')"
   ]
  },
  {
   "cell_type": "code",
   "execution_count": 63,
   "id": "50d11c56",
   "metadata": {},
   "outputs": [],
   "source": [
    "for i in rate:\n",
    "    text = i.text\n",
    "    rating.append(text)"
   ]
  },
  {
   "cell_type": "code",
   "execution_count": 64,
   "id": "95cd19c3",
   "metadata": {
    "scrolled": true
   },
   "outputs": [
    {
     "data": {
      "text/plain": [
       "['5',\n",
       " '5',\n",
       " '5',\n",
       " '5',\n",
       " '5',\n",
       " '5',\n",
       " '5',\n",
       " '4',\n",
       " '5',\n",
       " '5',\n",
       " '5',\n",
       " '5',\n",
       " '5',\n",
       " '5',\n",
       " '5',\n",
       " '5',\n",
       " '5',\n",
       " '5',\n",
       " '5',\n",
       " '5']"
      ]
     },
     "execution_count": 64,
     "metadata": {},
     "output_type": "execute_result"
    }
   ],
   "source": [
    "rating"
   ]
  },
  {
   "cell_type": "code",
   "execution_count": 65,
   "id": "5347c6f8",
   "metadata": {},
   "outputs": [],
   "source": [
    "summary = driver.find_elements_by_xpath('//p[@class=\"_2-N8zT\"]')"
   ]
  },
  {
   "cell_type": "code",
   "execution_count": 66,
   "id": "f16f7ac4",
   "metadata": {},
   "outputs": [],
   "source": [
    "for i in summary:\n",
    "    text = i.text\n",
    "    review_summary.append(text)"
   ]
  },
  {
   "cell_type": "code",
   "execution_count": 69,
   "id": "20d1f9b8",
   "metadata": {},
   "outputs": [
    {
     "data": {
      "text/plain": [
       "['Brilliant',\n",
       " 'Simply awesome',\n",
       " 'Best in the market!',\n",
       " 'Perfect product!',\n",
       " 'Fabulous!',\n",
       " 'Worth every penny',\n",
       " 'Great product',\n",
       " 'Good choice',\n",
       " 'Worth every penny',\n",
       " 'Highly recommended',\n",
       " 'Highly recommended',\n",
       " 'Perfect product!',\n",
       " 'Perfect product!',\n",
       " 'Worth every penny',\n",
       " 'Highly recommended',\n",
       " 'Perfect product!',\n",
       " 'Worth every penny',\n",
       " 'Simply awesome',\n",
       " 'Classy product',\n",
       " 'Terrific']"
      ]
     },
     "execution_count": 69,
     "metadata": {},
     "output_type": "execute_result"
    }
   ],
   "source": [
    "review_summary"
   ]
  },
  {
   "cell_type": "code",
   "execution_count": 70,
   "id": "a5b1cc5b",
   "metadata": {},
   "outputs": [],
   "source": [
    "review = driver.find_elements_by_xpath('//div[@class=\"t-ZTKy\"]')"
   ]
  },
  {
   "cell_type": "code",
   "execution_count": 71,
   "id": "a9292b6c",
   "metadata": {},
   "outputs": [],
   "source": [
    "for i in review:\n",
    "    text = i.text\n",
    "    full_review.append(text.replace(\"\\n\",\"\"))"
   ]
  },
  {
   "cell_type": "code",
   "execution_count": 72,
   "id": "414d4059",
   "metadata": {
    "scrolled": true
   },
   "outputs": [
    {
     "data": {
      "text/plain": [
       "['The Best Phone for the MoneyThe iPhone 11 offers superb cameras, a more durable design and excellent battery life for an affordable price.Compelling ultra-wide cameraNew Night mode is excellentLong battery life',\n",
       " 'Really satisfied with the Product I received... It’s totally genuine and the packaging was also really good so if ur planning to buy just go for it.',\n",
       " 'Great iPhone very snappy experience as apple kind. Upgraded from iPhone 7.Pros-Camera top class- Battery top performed-Chipset no need to say as apple kind-Security as you expect from apple- Display super bright industry leading colouraccuracy and super responsive-Build quality as expect from apple sturdypremium durable beautiful stylish.-Os most stable os in smartphone industryCons-No 5G-Display is not based on OLED technology-Charger headphones and 1 apple stic...READ MORE',\n",
       " 'Amazing phone with great cameras and better battery which gives you the best performance. I just love the camera .',\n",
       " 'This is my first iOS phone. I am very happy with this product. Very much satisfied with this. I love this phone.',\n",
       " 'Previously I was using one plus 3t it was a great phoneAnd then I decided to upgrade I am stuck between Samsung s10 plus or iPhone 11I have seen the specs and everything were good except the display it’s somewhere between 720-1080 and it’s not even an amoled it’s an LCD displayBut I decided to go with iPhone because I have never used an IOS device I have Been an android user from the past 9 years I ordered IPhone 11 (128gb) product redMy experience after using 3 weeks1. The delivery ...READ MORE',\n",
       " 'Amazing Powerful and Durable Gadget.I’m am very happy with the camera picture quality, Amazing face id unlocked in dark room, Strong battery with perfect screen size as you can carry easily in pocket. This is my third iPhone.I shifted from android Samsung Note series to iPhone because of the strong build quality and peace of mind for next 3-4 years.Don’t think to much just go for it and I suggest you to go for minimum 128gb variant or more 256gb.I’ve attached my puppy pics and no fi...READ MORE',\n",
       " 'So far it’s been an AMAZING experience coming back to iOS after nearly a decade but it’s not as versatile as android though phone is sturdy dropped it accidentally a couple of times and nothing happened fortunately camera is awesome',\n",
       " 'i11 is worthy to buy, too much happy with the product. Thank u flipkart I received the item on time..loved it..',\n",
       " 'What a camera .....just awesome ..you can feel this iPhone just awesome . Good for gaming also ...try pubg in hd it’s just wow',\n",
       " 'iphone 11 is a very good phone to buy only if you can compromise for the display. The display on this is device is pretty good but you can get other options with better displays in this price segment.If you can survive with an HD+ LCD panel with thicker bezels and a notch up top then this is a very good phone for you.Cameras are awesome, battery backup excellent, great performance and a decent premium look. Good job Apple !',\n",
       " 'It’s a must buy who is looking for an upgrade from previous generation of iPhones. If you are using XR then still you can hold on for sometime and upgrade to 2020 model else this phone is a must buy . Camera quality is amazing and wide angle is something to count upon. Performance wise it’s amazing and feels premium while holding in hand. So a big YES for this device. Go for 128 GB variant as the 4K videos will occupy lots of space and the storage can get over very quickly. Try to buy it with...READ MORE',\n",
       " 'Value for money❤️❤️Its awesome mobile phone in the world ...Display was very good and bright ..Trust me freinds you r never regret after Buying..Just go for it....I love this phone and i switch to iphone x to 11',\n",
       " 'Smooth like butter, camera like fantabulous, sound is crystal clear & its red color is damn attractive, i am just loving it. Must buy if you love photography.Lucky to get it in sale, thank you Flipkart.',\n",
       " \"It's my first time to use iOS phone and I am loving my upgradation 😍😍 I love the color, I love the assebility of the phone....I need to learn more about its functionality, but as far as I have seen, it's quite easy and it has a lot of functions to work on, specially if you are a content writer or a blogger you get a lot of content creation platforms and they are really amazing.This phone not only for good quality photography but a lot of other task too.😍💯\",\n",
       " \"Iphone is just awesome.. battery backup is very very nice.. continuously for 10 hours we can use it.camera is just awesome.. display is just fab.i love it alot..i had to wait 15 days for it as i pre ordered it..overalll it's worth the price..these all images are clicked by my iPhone..and i love it.\",\n",
       " 'Best budget Iphone till date ❤️ go for it guys without second thought. Let me explain you guys about Camera, Display, battery, and performance.Camera: at this price range there is no comparison of camera, you’ll love the picture quality as well as video quality. I am a Vlogger I wanted an iPhone with 4k video by front camera and I got this phone and I am more than happy 😃Battery: I use this phone roughly as I am active social media person and I have a youtube channel. so the battery ba...READ MORE',\n",
       " 'Excellent camera, good performance, no lag. The lcd display is also good.. but difference come when we watch movie in prime and Netflix, the colours are not vibrant.. as we see in amoled display.. and the charger in box is of 5 watts.. takes more than 3 hours to charge from 0 to 100.. so guys be prepare to buy 18 watts charger . Finally I am an android user, it was my first Iapple phone, I promise u guys the iOS is so smooth.. overall the phone is damn good.... close eyes to buy it.. thanks t...READ MORE',\n",
       " 'Totally in love with this ❤ the camera quality is amazing just love it 😘😘😘 itsss dammnnnnnn amazing... Must buy iPhone 11 this is my best experience ever ☀👌👌🧡🧡🧡🧡🧡 thanku apple ❤',\n",
       " 'Really worth of money. i just love it. It is the best phone ever.']"
      ]
     },
     "execution_count": 72,
     "metadata": {},
     "output_type": "execute_result"
    }
   ],
   "source": [
    "full_review"
   ]
  },
  {
   "cell_type": "code",
   "execution_count": null,
   "id": "f69c0208",
   "metadata": {},
   "outputs": [],
   "source": []
  },
  {
   "cell_type": "code",
   "execution_count": null,
   "id": "d563ebf8",
   "metadata": {},
   "outputs": [],
   "source": []
  },
  {
   "cell_type": "markdown",
   "id": "5dcd804e",
   "metadata": {},
   "source": [
    "## page 3 "
   ]
  },
  {
   "cell_type": "code",
   "execution_count": 80,
   "id": "24050980",
   "metadata": {},
   "outputs": [],
   "source": [
    "next  = driver.find_element_by_xpath(\"/html/body/div[1]/div/div[3]/div/div/div[2]/div[13]/div/div/nav/a[12]/span\")"
   ]
  },
  {
   "cell_type": "code",
   "execution_count": 81,
   "id": "e1602240",
   "metadata": {},
   "outputs": [],
   "source": [
    "next.click()"
   ]
  },
  {
   "cell_type": "code",
   "execution_count": 73,
   "id": "9776d6c7",
   "metadata": {},
   "outputs": [],
   "source": [
    "rate =  driver.find_elements_by_xpath('//div[@class=\"_3LWZlK _1BLPMq\"]')"
   ]
  },
  {
   "cell_type": "code",
   "execution_count": 74,
   "id": "bddd3adb",
   "metadata": {},
   "outputs": [],
   "source": [
    "for i in rate:\n",
    "    text = i.text\n",
    "    rating.append(text)"
   ]
  },
  {
   "cell_type": "code",
   "execution_count": 75,
   "id": "76f1e1ca",
   "metadata": {
    "scrolled": true
   },
   "outputs": [
    {
     "data": {
      "text/plain": [
       "['5',\n",
       " '5',\n",
       " '5',\n",
       " '5',\n",
       " '5',\n",
       " '5',\n",
       " '5',\n",
       " '4',\n",
       " '5',\n",
       " '5',\n",
       " '5',\n",
       " '5',\n",
       " '5',\n",
       " '5',\n",
       " '5',\n",
       " '5',\n",
       " '5',\n",
       " '5',\n",
       " '5',\n",
       " '5',\n",
       " '5',\n",
       " '5',\n",
       " '5',\n",
       " '5',\n",
       " '5',\n",
       " '5',\n",
       " '5',\n",
       " '5',\n",
       " '5',\n",
       " '5']"
      ]
     },
     "execution_count": 75,
     "metadata": {},
     "output_type": "execute_result"
    }
   ],
   "source": [
    "rating"
   ]
  },
  {
   "cell_type": "code",
   "execution_count": 82,
   "id": "0c389e4b",
   "metadata": {},
   "outputs": [],
   "source": [
    "summary = driver.find_elements_by_xpath('//p[@class=\"_2-N8zT\"]')"
   ]
  },
  {
   "cell_type": "code",
   "execution_count": 83,
   "id": "1bf07ad4",
   "metadata": {},
   "outputs": [],
   "source": [
    "for i in summary:\n",
    "    text = i.text\n",
    "    review_summary.append(text)"
   ]
  },
  {
   "cell_type": "code",
   "execution_count": 84,
   "id": "946c7f14",
   "metadata": {
    "scrolled": true
   },
   "outputs": [
    {
     "data": {
      "text/plain": [
       "['Brilliant',\n",
       " 'Simply awesome',\n",
       " 'Best in the market!',\n",
       " 'Perfect product!',\n",
       " 'Fabulous!',\n",
       " 'Worth every penny',\n",
       " 'Great product',\n",
       " 'Good choice',\n",
       " 'Worth every penny',\n",
       " 'Highly recommended',\n",
       " 'Highly recommended',\n",
       " 'Perfect product!',\n",
       " 'Perfect product!',\n",
       " 'Worth every penny',\n",
       " 'Highly recommended',\n",
       " 'Perfect product!',\n",
       " 'Worth every penny',\n",
       " 'Simply awesome',\n",
       " 'Classy product',\n",
       " 'Terrific',\n",
       " 'Worth every penny',\n",
       " 'Wonderful',\n",
       " 'Perfect product!',\n",
       " 'Nice product',\n",
       " 'Good choice',\n",
       " 'Brilliant',\n",
       " 'Classy product',\n",
       " 'Perfect product!',\n",
       " 'Must buy!',\n",
       " 'Great product']"
      ]
     },
     "execution_count": 84,
     "metadata": {},
     "output_type": "execute_result"
    }
   ],
   "source": [
    "review_summary"
   ]
  },
  {
   "cell_type": "code",
   "execution_count": 85,
   "id": "6b645307",
   "metadata": {},
   "outputs": [],
   "source": [
    "review = driver.find_elements_by_xpath('//div[@class=\"t-ZTKy\"]')"
   ]
  },
  {
   "cell_type": "code",
   "execution_count": 86,
   "id": "9abcb208",
   "metadata": {},
   "outputs": [],
   "source": [
    "for i in review:\n",
    "    text = i.text\n",
    "    full_review.append(text.replace(\"\\n\",\"\"))"
   ]
  },
  {
   "cell_type": "code",
   "execution_count": 87,
   "id": "640ee114",
   "metadata": {
    "scrolled": true
   },
   "outputs": [
    {
     "data": {
      "text/plain": [
       "['The Best Phone for the MoneyThe iPhone 11 offers superb cameras, a more durable design and excellent battery life for an affordable price.Compelling ultra-wide cameraNew Night mode is excellentLong battery life',\n",
       " 'Really satisfied with the Product I received... It’s totally genuine and the packaging was also really good so if ur planning to buy just go for it.',\n",
       " 'Great iPhone very snappy experience as apple kind. Upgraded from iPhone 7.Pros-Camera top class- Battery top performed-Chipset no need to say as apple kind-Security as you expect from apple- Display super bright industry leading colouraccuracy and super responsive-Build quality as expect from apple sturdypremium durable beautiful stylish.-Os most stable os in smartphone industryCons-No 5G-Display is not based on OLED technology-Charger headphones and 1 apple stic...READ MORE',\n",
       " 'Amazing phone with great cameras and better battery which gives you the best performance. I just love the camera .',\n",
       " 'This is my first iOS phone. I am very happy with this product. Very much satisfied with this. I love this phone.',\n",
       " 'Previously I was using one plus 3t it was a great phoneAnd then I decided to upgrade I am stuck between Samsung s10 plus or iPhone 11I have seen the specs and everything were good except the display it’s somewhere between 720-1080 and it’s not even an amoled it’s an LCD displayBut I decided to go with iPhone because I have never used an IOS device I have Been an android user from the past 9 years I ordered IPhone 11 (128gb) product redMy experience after using 3 weeks1. The delivery ...READ MORE',\n",
       " 'Amazing Powerful and Durable Gadget.I’m am very happy with the camera picture quality, Amazing face id unlocked in dark room, Strong battery with perfect screen size as you can carry easily in pocket. This is my third iPhone.I shifted from android Samsung Note series to iPhone because of the strong build quality and peace of mind for next 3-4 years.Don’t think to much just go for it and I suggest you to go for minimum 128gb variant or more 256gb.I’ve attached my puppy pics and no fi...READ MORE',\n",
       " 'So far it’s been an AMAZING experience coming back to iOS after nearly a decade but it’s not as versatile as android though phone is sturdy dropped it accidentally a couple of times and nothing happened fortunately camera is awesome',\n",
       " 'i11 is worthy to buy, too much happy with the product. Thank u flipkart I received the item on time..loved it..',\n",
       " 'What a camera .....just awesome ..you can feel this iPhone just awesome . Good for gaming also ...try pubg in hd it’s just wow',\n",
       " 'iphone 11 is a very good phone to buy only if you can compromise for the display. The display on this is device is pretty good but you can get other options with better displays in this price segment.If you can survive with an HD+ LCD panel with thicker bezels and a notch up top then this is a very good phone for you.Cameras are awesome, battery backup excellent, great performance and a decent premium look. Good job Apple !',\n",
       " 'It’s a must buy who is looking for an upgrade from previous generation of iPhones. If you are using XR then still you can hold on for sometime and upgrade to 2020 model else this phone is a must buy . Camera quality is amazing and wide angle is something to count upon. Performance wise it’s amazing and feels premium while holding in hand. So a big YES for this device. Go for 128 GB variant as the 4K videos will occupy lots of space and the storage can get over very quickly. Try to buy it with...READ MORE',\n",
       " 'Value for money❤️❤️Its awesome mobile phone in the world ...Display was very good and bright ..Trust me freinds you r never regret after Buying..Just go for it....I love this phone and i switch to iphone x to 11',\n",
       " 'Smooth like butter, camera like fantabulous, sound is crystal clear & its red color is damn attractive, i am just loving it. Must buy if you love photography.Lucky to get it in sale, thank you Flipkart.',\n",
       " \"It's my first time to use iOS phone and I am loving my upgradation 😍😍 I love the color, I love the assebility of the phone....I need to learn more about its functionality, but as far as I have seen, it's quite easy and it has a lot of functions to work on, specially if you are a content writer or a blogger you get a lot of content creation platforms and they are really amazing.This phone not only for good quality photography but a lot of other task too.😍💯\",\n",
       " \"Iphone is just awesome.. battery backup is very very nice.. continuously for 10 hours we can use it.camera is just awesome.. display is just fab.i love it alot..i had to wait 15 days for it as i pre ordered it..overalll it's worth the price..these all images are clicked by my iPhone..and i love it.\",\n",
       " 'Best budget Iphone till date ❤️ go for it guys without second thought. Let me explain you guys about Camera, Display, battery, and performance.Camera: at this price range there is no comparison of camera, you’ll love the picture quality as well as video quality. I am a Vlogger I wanted an iPhone with 4k video by front camera and I got this phone and I am more than happy 😃Battery: I use this phone roughly as I am active social media person and I have a youtube channel. so the battery ba...READ MORE',\n",
       " 'Excellent camera, good performance, no lag. The lcd display is also good.. but difference come when we watch movie in prime and Netflix, the colours are not vibrant.. as we see in amoled display.. and the charger in box is of 5 watts.. takes more than 3 hours to charge from 0 to 100.. so guys be prepare to buy 18 watts charger . Finally I am an android user, it was my first Iapple phone, I promise u guys the iOS is so smooth.. overall the phone is damn good.... close eyes to buy it.. thanks t...READ MORE',\n",
       " 'Totally in love with this ❤ the camera quality is amazing just love it 😘😘😘 itsss dammnnnnnn amazing... Must buy iPhone 11 this is my best experience ever ☀👌👌🧡🧡🧡🧡🧡 thanku apple ❤',\n",
       " 'Really worth of money. i just love it. It is the best phone ever.',\n",
       " 'It’s been almost a month since I have been using this phone. I upgraded from an iPhone 8. The main issue with my 8 was battery and this phone is just awesome when it comes to battery. It lasts a day and a half for me with my regular use , internet connected always with 4gCan’t move forward without saying this. Battery of this phone is a life saver when I am traveling or at work when I don’t get the option to chargeCamera is superb. Front cam selfies and back cam photos are just awesome....READ MORE',\n",
       " 'This is my first ever I phone. Before this I was using my google nexus 5. But moving from android to iOS is a great experience. It’s worth at this price. I will highly recommend it if you want to move to iOS. The best part of this phone is it’s camera and it’s battery life. This two things have won my heart. I loved it. Happy to have it in my hand. Still exploring its features. And can’t forget to mention Flipkart service. Very prompt service and fast delivery.',\n",
       " 'It is just awesome mobile for this price from Apple,After 10 days reviewBattery enough for 1 day even 24*7 Internet will be on and mostly internet usageCamera is just awesome cool , android 64 MP is equal to this just 12 MPA13 Bionic chip will give more high performance without hangingAudio stereo speakers will give Dolby atoms sound with crystal clearVideo recording is like cinematic shots of every sec can be a 4K 60fps. Just awesome this phoneiPhone 11 loved one',\n",
       " 'Awesome Phone. Slightly high price but worth. Better than iPhone XR.Camera is superb and wide angle camera is very clear.12MP selfie camera is also very good.A13 Chip gives a very good and smooth performance.',\n",
       " 'Looking so good 👍 😍 super 👌 stylish 😎 phoneClean box 📦 good 👍 delivery 👌 fast deliveryOriginal box Original iphone 📱 👌 😍😍😍',\n",
       " 'I have migrated from OP 7pro... and trust me, iPhone 11 is totally worth it.. following are the reasons:-1)there is ABSOLUTELY NO ISSUE WITH THE DISPLAY... its crisp, sharp and I found it to be much much better than OP7 pro. Netflix, Prime video all run crisply... you won’t miss a thing. True Tone works flawlessly...the display brightness is perfect. OP have not calibrated their screens properly.2) iPhone 11 series have really good cameras... others have spoken in depth about them.3) bat...READ MORE',\n",
       " 'Superb Product !!!A big and worthy upgrade from mi 3S to iphone 11 .Totally loved it !',\n",
       " 'Battery backup is extraordinary, camera is decent & performance offered by A13 bionic is awsome. The display is good in practical usage like the visibility of display is very good in direct sun light compare to pro models. Iam extremely satisfied for the money I spent.',\n",
       " 'It’s an amazing product from apple and the camera is simply superb. Phone is faster.Night shot is simply superb and detailing and colour differentiation from camera is an added advantageThis review I have written from iPhone 11 only and I am glad to say outside.Cons wise if we see HD+ display only, no battery percentage indicator as in older iPhone 8.No assistive touch control button in itNo oleophobic coating on back panel glass and finger prints are visible but since I bought mint gr...READ MORE',\n",
       " \"Again back to apple iphone after a gap of 2-3 years. It's pleasure to use iOS and the quality product by Apple. Iphone 11 still works like a beast in 2021 also. It really capable of doing day to day usage as well as hard core gaming. Battery is awesome. I'm really too much satisfied with it. Apart fto the very gorgious IPS LCD (AMOLED will be better) everything is mind boggling. Iphone💕.\"]"
      ]
     },
     "execution_count": 87,
     "metadata": {},
     "output_type": "execute_result"
    }
   ],
   "source": [
    "full_review"
   ]
  },
  {
   "cell_type": "code",
   "execution_count": null,
   "id": "1e2c9ad0",
   "metadata": {},
   "outputs": [],
   "source": []
  },
  {
   "cell_type": "markdown",
   "id": "b43e8d0c",
   "metadata": {},
   "source": [
    "## page 4"
   ]
  },
  {
   "cell_type": "code",
   "execution_count": 102,
   "id": "276110b2",
   "metadata": {},
   "outputs": [],
   "source": [
    "next  = driver.find_element_by_xpath(\"/html/body/div[1]/div/div[3]/div/div/div[2]/div[13]/div/div/nav/a[12]/span\")"
   ]
  },
  {
   "cell_type": "code",
   "execution_count": 103,
   "id": "0c9475b6",
   "metadata": {},
   "outputs": [],
   "source": [
    "next.click()"
   ]
  },
  {
   "cell_type": "code",
   "execution_count": null,
   "id": "40b8699a",
   "metadata": {},
   "outputs": [],
   "source": []
  },
  {
   "cell_type": "code",
   "execution_count": null,
   "id": "c006266d",
   "metadata": {},
   "outputs": [],
   "source": []
  },
  {
   "cell_type": "markdown",
   "id": "e56ba7c5",
   "metadata": {},
   "source": [
    "# Q7: Go to the link - https://www.myntra.com/shoes\n",
    "# Set Price filter to “Rs. 7149 to Rs. 14099 ” , Color filter to “Black”, as shown inthe below image"
   ]
  },
  {
   "cell_type": "code",
   "execution_count": 1,
   "id": "0da02d47",
   "metadata": {},
   "outputs": [],
   "source": [
    "import selenium                             \n",
    "import pandas as pd                          \n",
    "from selenium import webdriver               \n",
    "import warnings                            \n",
    "warnings.filterwarnings(\"ignore\")\n",
    "import time "
   ]
  },
  {
   "cell_type": "code",
   "execution_count": 2,
   "id": "628f2bf9",
   "metadata": {},
   "outputs": [],
   "source": [
    "driver=webdriver.Chrome(\"chromedriver.exe\")\n",
    "time.sleep(2)"
   ]
  },
  {
   "cell_type": "code",
   "execution_count": 3,
   "id": "05f76661",
   "metadata": {},
   "outputs": [],
   "source": [
    "driver.get(\"https://www.myntra.com/shoes\")"
   ]
  },
  {
   "cell_type": "code",
   "execution_count": 4,
   "id": "38b956c5",
   "metadata": {},
   "outputs": [],
   "source": [
    "price_filter=driver.find_element_by_xpath(\"/html/body/div[2]/div/div[1]/main/div[3]/div[1]/section/div/div[5]/ul/li[2]/label/div\")\n",
    "price_filter.click()"
   ]
  },
  {
   "cell_type": "code",
   "execution_count": 5,
   "id": "074aed0e",
   "metadata": {},
   "outputs": [],
   "source": [
    "color_filter=driver.find_element_by_xpath(\"/html/body/div[2]/div/div[1]/main/div[3]/div[1]/section/div/div[6]/ul/li[1]/label/div\")\n",
    "color_filter.click()"
   ]
  },
  {
   "cell_type": "code",
   "execution_count": 9,
   "id": "c0e7f621",
   "metadata": {},
   "outputs": [],
   "source": [
    "Brands=[]"
   ]
  },
  {
   "cell_type": "code",
   "execution_count": 10,
   "id": "765c44f1",
   "metadata": {
    "scrolled": true
   },
   "outputs": [
    {
     "data": {
      "text/plain": [
       "[<selenium.webdriver.remote.webelement.WebElement (session=\"614637fbc53517043d49f63febd544f4\", element=\"77b216d8-6132-4e27-9436-96d563e61bed\")>,\n",
       " <selenium.webdriver.remote.webelement.WebElement (session=\"614637fbc53517043d49f63febd544f4\", element=\"8a9b4062-25d0-4c40-98b8-db405b6cff1a\")>,\n",
       " <selenium.webdriver.remote.webelement.WebElement (session=\"614637fbc53517043d49f63febd544f4\", element=\"9f0338fc-62c3-4aa9-a759-778c1118e339\")>,\n",
       " <selenium.webdriver.remote.webelement.WebElement (session=\"614637fbc53517043d49f63febd544f4\", element=\"70990655-2013-476e-a3e1-12715f26f8d2\")>,\n",
       " <selenium.webdriver.remote.webelement.WebElement (session=\"614637fbc53517043d49f63febd544f4\", element=\"683413de-271a-46e6-b2d6-2f61759c8121\")>,\n",
       " <selenium.webdriver.remote.webelement.WebElement (session=\"614637fbc53517043d49f63febd544f4\", element=\"0af9b3e6-a75e-42c5-8e76-89f07e35e776\")>,\n",
       " <selenium.webdriver.remote.webelement.WebElement (session=\"614637fbc53517043d49f63febd544f4\", element=\"ccf24efb-09de-4025-aa01-23288bb023b3\")>,\n",
       " <selenium.webdriver.remote.webelement.WebElement (session=\"614637fbc53517043d49f63febd544f4\", element=\"84ddebac-d97a-4369-b00d-1581ac1db214\")>,\n",
       " <selenium.webdriver.remote.webelement.WebElement (session=\"614637fbc53517043d49f63febd544f4\", element=\"7b203920-7115-48e6-acc8-1f77a037d114\")>,\n",
       " <selenium.webdriver.remote.webelement.WebElement (session=\"614637fbc53517043d49f63febd544f4\", element=\"ef310262-5e64-4b86-a064-f96ed6799f9a\")>,\n",
       " <selenium.webdriver.remote.webelement.WebElement (session=\"614637fbc53517043d49f63febd544f4\", element=\"a2e7d546-33a3-4894-85e4-432e1706573d\")>,\n",
       " <selenium.webdriver.remote.webelement.WebElement (session=\"614637fbc53517043d49f63febd544f4\", element=\"79b01adb-df43-45e7-b5bc-1fc444e77076\")>,\n",
       " <selenium.webdriver.remote.webelement.WebElement (session=\"614637fbc53517043d49f63febd544f4\", element=\"1b4d37a9-55a2-4f5a-a536-c9faa7abc2f1\")>,\n",
       " <selenium.webdriver.remote.webelement.WebElement (session=\"614637fbc53517043d49f63febd544f4\", element=\"ebe53956-f31e-4f42-91c2-0a581a20f492\")>,\n",
       " <selenium.webdriver.remote.webelement.WebElement (session=\"614637fbc53517043d49f63febd544f4\", element=\"450e3423-5b96-427f-a060-d3a53a453c12\")>,\n",
       " <selenium.webdriver.remote.webelement.WebElement (session=\"614637fbc53517043d49f63febd544f4\", element=\"19a66e86-b140-4eb7-9856-79b93eb3e5d0\")>,\n",
       " <selenium.webdriver.remote.webelement.WebElement (session=\"614637fbc53517043d49f63febd544f4\", element=\"34ebb527-8006-4241-bfff-4a28222d2363\")>,\n",
       " <selenium.webdriver.remote.webelement.WebElement (session=\"614637fbc53517043d49f63febd544f4\", element=\"ed662722-6386-4f17-814a-23e78b88ab03\")>,\n",
       " <selenium.webdriver.remote.webelement.WebElement (session=\"614637fbc53517043d49f63febd544f4\", element=\"96db6087-4ac9-48b1-8671-3698ed717ca9\")>,\n",
       " <selenium.webdriver.remote.webelement.WebElement (session=\"614637fbc53517043d49f63febd544f4\", element=\"ff9844f3-6881-4edd-9899-b1596e6d2d93\")>,\n",
       " <selenium.webdriver.remote.webelement.WebElement (session=\"614637fbc53517043d49f63febd544f4\", element=\"e203dbc9-6fef-40da-bb6e-d2c35b90772f\")>,\n",
       " <selenium.webdriver.remote.webelement.WebElement (session=\"614637fbc53517043d49f63febd544f4\", element=\"cc770876-7c01-4d71-8de2-bf41c37f61f5\")>,\n",
       " <selenium.webdriver.remote.webelement.WebElement (session=\"614637fbc53517043d49f63febd544f4\", element=\"932e3e75-f511-4cb7-9a19-bbddd519f63b\")>,\n",
       " <selenium.webdriver.remote.webelement.WebElement (session=\"614637fbc53517043d49f63febd544f4\", element=\"09f9e7e7-51c8-42c3-ae96-6b7b606a19ba\")>,\n",
       " <selenium.webdriver.remote.webelement.WebElement (session=\"614637fbc53517043d49f63febd544f4\", element=\"b52331fa-4778-405f-ad61-074e91f027e1\")>,\n",
       " <selenium.webdriver.remote.webelement.WebElement (session=\"614637fbc53517043d49f63febd544f4\", element=\"441c53f2-4d95-4b0d-9b4c-5021faf3a744\")>,\n",
       " <selenium.webdriver.remote.webelement.WebElement (session=\"614637fbc53517043d49f63febd544f4\", element=\"9a2b9925-9219-41b3-905c-fcb9e42692f4\")>,\n",
       " <selenium.webdriver.remote.webelement.WebElement (session=\"614637fbc53517043d49f63febd544f4\", element=\"2aca026d-c95a-4074-ab93-41fc25918e6e\")>,\n",
       " <selenium.webdriver.remote.webelement.WebElement (session=\"614637fbc53517043d49f63febd544f4\", element=\"99e1bd10-4780-424e-887b-35d0ed0723bc\")>,\n",
       " <selenium.webdriver.remote.webelement.WebElement (session=\"614637fbc53517043d49f63febd544f4\", element=\"c557f763-9d08-434b-bd40-b6d06d003749\")>,\n",
       " <selenium.webdriver.remote.webelement.WebElement (session=\"614637fbc53517043d49f63febd544f4\", element=\"3d14d68f-deb5-4e4f-8eec-c06481752ff5\")>,\n",
       " <selenium.webdriver.remote.webelement.WebElement (session=\"614637fbc53517043d49f63febd544f4\", element=\"c8b234c0-e2cf-446b-b124-e653a502190e\")>,\n",
       " <selenium.webdriver.remote.webelement.WebElement (session=\"614637fbc53517043d49f63febd544f4\", element=\"fae2c253-9f80-42b8-81a7-6e0f7b4b7bd9\")>,\n",
       " <selenium.webdriver.remote.webelement.WebElement (session=\"614637fbc53517043d49f63febd544f4\", element=\"e140a038-6b55-40eb-ad30-3e1ddbc9cd7a\")>,\n",
       " <selenium.webdriver.remote.webelement.WebElement (session=\"614637fbc53517043d49f63febd544f4\", element=\"ae5a2d3f-a26c-4077-92b3-9f9554396ddb\")>,\n",
       " <selenium.webdriver.remote.webelement.WebElement (session=\"614637fbc53517043d49f63febd544f4\", element=\"46351b41-5585-424c-b0b1-4db3e8988670\")>,\n",
       " <selenium.webdriver.remote.webelement.WebElement (session=\"614637fbc53517043d49f63febd544f4\", element=\"94af7970-44fa-4eac-b2ac-c9cf2ba47f98\")>,\n",
       " <selenium.webdriver.remote.webelement.WebElement (session=\"614637fbc53517043d49f63febd544f4\", element=\"4914b660-9c01-4e2c-994b-7069fae5aa65\")>,\n",
       " <selenium.webdriver.remote.webelement.WebElement (session=\"614637fbc53517043d49f63febd544f4\", element=\"092cd7b4-fb28-419b-94e7-11eb19c96f43\")>,\n",
       " <selenium.webdriver.remote.webelement.WebElement (session=\"614637fbc53517043d49f63febd544f4\", element=\"b945bd7a-19a7-4fa5-90ee-26f27be97a15\")>,\n",
       " <selenium.webdriver.remote.webelement.WebElement (session=\"614637fbc53517043d49f63febd544f4\", element=\"41ca1979-1082-4d3f-8f9f-489fc80b1343\")>,\n",
       " <selenium.webdriver.remote.webelement.WebElement (session=\"614637fbc53517043d49f63febd544f4\", element=\"5b7560c0-3398-4725-bf19-16416f1fcd2f\")>,\n",
       " <selenium.webdriver.remote.webelement.WebElement (session=\"614637fbc53517043d49f63febd544f4\", element=\"dddb8e8d-f871-4a44-8c22-3a411cb875a9\")>,\n",
       " <selenium.webdriver.remote.webelement.WebElement (session=\"614637fbc53517043d49f63febd544f4\", element=\"9ca1dd2b-9ccb-4a3e-9a42-935dd32cd86f\")>,\n",
       " <selenium.webdriver.remote.webelement.WebElement (session=\"614637fbc53517043d49f63febd544f4\", element=\"fe5394ee-97fb-47f0-a095-ef6cd8b5e94a\")>,\n",
       " <selenium.webdriver.remote.webelement.WebElement (session=\"614637fbc53517043d49f63febd544f4\", element=\"73a5beee-ad70-42b6-9007-718f9bf3c991\")>,\n",
       " <selenium.webdriver.remote.webelement.WebElement (session=\"614637fbc53517043d49f63febd544f4\", element=\"bfc06024-30ad-412a-85ea-9a1f32184537\")>,\n",
       " <selenium.webdriver.remote.webelement.WebElement (session=\"614637fbc53517043d49f63febd544f4\", element=\"b13dcf7b-6fb1-4956-98ce-3b82b4e846b5\")>,\n",
       " <selenium.webdriver.remote.webelement.WebElement (session=\"614637fbc53517043d49f63febd544f4\", element=\"e9682420-656a-4e52-b7c0-c3148f32caaa\")>,\n",
       " <selenium.webdriver.remote.webelement.WebElement (session=\"614637fbc53517043d49f63febd544f4\", element=\"36501aa6-2825-47d1-b7f0-98099ec85de4\")>]"
      ]
     },
     "execution_count": 10,
     "metadata": {},
     "output_type": "execute_result"
    }
   ],
   "source": [
    "Brand_tags=driver.find_elements_by_xpath(\"//h3[@class='product-brand']\")\n",
    "Brand_tags[0:99]"
   ]
  },
  {
   "cell_type": "code",
   "execution_count": 11,
   "id": "934e686a",
   "metadata": {
    "scrolled": true
   },
   "outputs": [
    {
     "data": {
      "text/plain": [
       "['Skechers',\n",
       " 'ALDO',\n",
       " 'Nike',\n",
       " 'UNDER ARMOUR',\n",
       " 'Nike',\n",
       " 'ADIDAS Originals',\n",
       " 'ALDO',\n",
       " 'ALDO',\n",
       " 'Nike',\n",
       " 'Skechers',\n",
       " 'Puma',\n",
       " 'DAVINCHI',\n",
       " 'PUMA Motorsport',\n",
       " 'ALDO',\n",
       " 'UNDER ARMOUR',\n",
       " 'Skechers',\n",
       " 'ADIDAS Originals',\n",
       " 'Puma',\n",
       " 'Nike',\n",
       " 'UNDER ARMOUR',\n",
       " 'Puma',\n",
       " 'UNDER ARMOUR',\n",
       " 'UNDER ARMOUR',\n",
       " 'Puma',\n",
       " 'Nike',\n",
       " 'Puma',\n",
       " 'Puma',\n",
       " 'Puma',\n",
       " 'Tommy Hilfiger',\n",
       " 'Puma',\n",
       " 'Reebok',\n",
       " 'UNDER ARMOUR',\n",
       " 'UNDER ARMOUR',\n",
       " 'PUMA Motorsport',\n",
       " 'Reebok',\n",
       " 'Puma',\n",
       " 'Tommy Hilfiger',\n",
       " 'Puma',\n",
       " 'Puma',\n",
       " 'ADIDAS',\n",
       " 'Louis Philippe',\n",
       " 'Bugatti',\n",
       " 'Hush Puppies',\n",
       " 'Hush Puppies',\n",
       " 'DAVINCHI',\n",
       " 'Puma',\n",
       " 'Bugatti',\n",
       " 'DEL MONDO',\n",
       " 'Louis Philippe',\n",
       " 'ASICS']"
      ]
     },
     "execution_count": 11,
     "metadata": {},
     "output_type": "execute_result"
    }
   ],
   "source": [
    "for i in Brand_tags:\n",
    "    text=i.text\n",
    "    Brands.append(text)\n",
    "Brands[0:99]"
   ]
  },
  {
   "cell_type": "code",
   "execution_count": 12,
   "id": "af0905ac",
   "metadata": {},
   "outputs": [],
   "source": [
    "Description=[]"
   ]
  },
  {
   "cell_type": "code",
   "execution_count": 13,
   "id": "126e7547",
   "metadata": {
    "scrolled": true
   },
   "outputs": [
    {
     "data": {
      "text/plain": [
       "[<selenium.webdriver.remote.webelement.WebElement (session=\"614637fbc53517043d49f63febd544f4\", element=\"5cc67268-505b-4212-a7d9-705595350ef9\")>,\n",
       " <selenium.webdriver.remote.webelement.WebElement (session=\"614637fbc53517043d49f63febd544f4\", element=\"146efb51-6cd7-45f7-a8c2-09b4412b30b0\")>,\n",
       " <selenium.webdriver.remote.webelement.WebElement (session=\"614637fbc53517043d49f63febd544f4\", element=\"1b0827d7-b43d-41d1-8c21-b986a110154c\")>,\n",
       " <selenium.webdriver.remote.webelement.WebElement (session=\"614637fbc53517043d49f63febd544f4\", element=\"f2ffabd5-8c01-4aa4-afbb-a8bc1a5bb3d4\")>,\n",
       " <selenium.webdriver.remote.webelement.WebElement (session=\"614637fbc53517043d49f63febd544f4\", element=\"fa4e75c5-aa79-48fa-b816-2dc0d2eb062c\")>,\n",
       " <selenium.webdriver.remote.webelement.WebElement (session=\"614637fbc53517043d49f63febd544f4\", element=\"528ce1cc-6a2b-4d49-a79d-02668c90e3ff\")>,\n",
       " <selenium.webdriver.remote.webelement.WebElement (session=\"614637fbc53517043d49f63febd544f4\", element=\"c285e00d-d677-4296-8ce6-3601f93a203e\")>,\n",
       " <selenium.webdriver.remote.webelement.WebElement (session=\"614637fbc53517043d49f63febd544f4\", element=\"0f112bbd-9e3d-4766-95b7-9fdbdc68dc84\")>,\n",
       " <selenium.webdriver.remote.webelement.WebElement (session=\"614637fbc53517043d49f63febd544f4\", element=\"9ecd7c8c-9d24-4aa8-9bcb-461173502ba4\")>,\n",
       " <selenium.webdriver.remote.webelement.WebElement (session=\"614637fbc53517043d49f63febd544f4\", element=\"720ed33d-4e18-4d89-a8f0-cc95d6f9a180\")>,\n",
       " <selenium.webdriver.remote.webelement.WebElement (session=\"614637fbc53517043d49f63febd544f4\", element=\"20af1e9a-b4fd-4b89-b13d-30d439e5e442\")>,\n",
       " <selenium.webdriver.remote.webelement.WebElement (session=\"614637fbc53517043d49f63febd544f4\", element=\"e6f30f42-0e9f-47c1-ba1d-64f95ac6b594\")>,\n",
       " <selenium.webdriver.remote.webelement.WebElement (session=\"614637fbc53517043d49f63febd544f4\", element=\"d4f78266-ddaf-451f-846e-95bd4a74f66a\")>,\n",
       " <selenium.webdriver.remote.webelement.WebElement (session=\"614637fbc53517043d49f63febd544f4\", element=\"daf4ee51-ed94-46e0-a0ff-40f71d9656e0\")>,\n",
       " <selenium.webdriver.remote.webelement.WebElement (session=\"614637fbc53517043d49f63febd544f4\", element=\"a685483f-67c9-4a7c-9f83-ba883a41af3b\")>,\n",
       " <selenium.webdriver.remote.webelement.WebElement (session=\"614637fbc53517043d49f63febd544f4\", element=\"1be73437-61e1-46d6-bca2-35cfb2681a2b\")>,\n",
       " <selenium.webdriver.remote.webelement.WebElement (session=\"614637fbc53517043d49f63febd544f4\", element=\"62972846-eaf8-43a0-8e9e-5fc8a5b73c1b\")>,\n",
       " <selenium.webdriver.remote.webelement.WebElement (session=\"614637fbc53517043d49f63febd544f4\", element=\"23c56d35-26d7-4310-a88e-40a2e54db92f\")>,\n",
       " <selenium.webdriver.remote.webelement.WebElement (session=\"614637fbc53517043d49f63febd544f4\", element=\"9d8cd04a-9c59-4ff8-a3cd-8c47f9afe3dc\")>,\n",
       " <selenium.webdriver.remote.webelement.WebElement (session=\"614637fbc53517043d49f63febd544f4\", element=\"41aaef81-134a-4e41-9a3d-7280f8626700\")>,\n",
       " <selenium.webdriver.remote.webelement.WebElement (session=\"614637fbc53517043d49f63febd544f4\", element=\"3bcb70dc-c38e-4e18-ba18-c43504493ed1\")>,\n",
       " <selenium.webdriver.remote.webelement.WebElement (session=\"614637fbc53517043d49f63febd544f4\", element=\"78157ba2-e0e0-42d8-b626-6c3da7d0c8a0\")>,\n",
       " <selenium.webdriver.remote.webelement.WebElement (session=\"614637fbc53517043d49f63febd544f4\", element=\"f00178ec-5b68-4979-8f6b-6a79b93807e4\")>,\n",
       " <selenium.webdriver.remote.webelement.WebElement (session=\"614637fbc53517043d49f63febd544f4\", element=\"4ed16249-a968-4abc-a05c-3a8371eedf3b\")>,\n",
       " <selenium.webdriver.remote.webelement.WebElement (session=\"614637fbc53517043d49f63febd544f4\", element=\"41562295-700b-468f-bf71-0b048ee0a17c\")>,\n",
       " <selenium.webdriver.remote.webelement.WebElement (session=\"614637fbc53517043d49f63febd544f4\", element=\"2474005c-c5b7-49ee-b93b-cf250df36c8f\")>,\n",
       " <selenium.webdriver.remote.webelement.WebElement (session=\"614637fbc53517043d49f63febd544f4\", element=\"3c3abdc5-877d-4f3d-8619-c6e8531dc9cf\")>,\n",
       " <selenium.webdriver.remote.webelement.WebElement (session=\"614637fbc53517043d49f63febd544f4\", element=\"30366bb0-ed69-4407-8cf5-381516d3562f\")>,\n",
       " <selenium.webdriver.remote.webelement.WebElement (session=\"614637fbc53517043d49f63febd544f4\", element=\"5e009bc1-ffe9-4ddc-84a0-47ee85e867f6\")>,\n",
       " <selenium.webdriver.remote.webelement.WebElement (session=\"614637fbc53517043d49f63febd544f4\", element=\"25140915-ff37-40a8-a8e3-b886cf31d7c8\")>,\n",
       " <selenium.webdriver.remote.webelement.WebElement (session=\"614637fbc53517043d49f63febd544f4\", element=\"6f2a4365-3596-471a-9013-b41fadb69ad2\")>,\n",
       " <selenium.webdriver.remote.webelement.WebElement (session=\"614637fbc53517043d49f63febd544f4\", element=\"08ca3896-1093-472c-b82b-89e9e13d07c4\")>,\n",
       " <selenium.webdriver.remote.webelement.WebElement (session=\"614637fbc53517043d49f63febd544f4\", element=\"4c3611fa-0f5a-46fd-aa33-2e4f6a4557d6\")>,\n",
       " <selenium.webdriver.remote.webelement.WebElement (session=\"614637fbc53517043d49f63febd544f4\", element=\"aad8b93c-1c1c-4a2d-85d0-b5aea53072dd\")>,\n",
       " <selenium.webdriver.remote.webelement.WebElement (session=\"614637fbc53517043d49f63febd544f4\", element=\"7e56b565-e374-4892-a921-d79304f6693a\")>,\n",
       " <selenium.webdriver.remote.webelement.WebElement (session=\"614637fbc53517043d49f63febd544f4\", element=\"71c58d3e-1f33-4cfd-8af6-1022eed1f804\")>,\n",
       " <selenium.webdriver.remote.webelement.WebElement (session=\"614637fbc53517043d49f63febd544f4\", element=\"bdf50e5b-07cd-4578-aab0-2cd01de22ef2\")>,\n",
       " <selenium.webdriver.remote.webelement.WebElement (session=\"614637fbc53517043d49f63febd544f4\", element=\"d7255d84-55df-4d88-bf5d-a7df40100206\")>,\n",
       " <selenium.webdriver.remote.webelement.WebElement (session=\"614637fbc53517043d49f63febd544f4\", element=\"7c8c966a-5b29-41d2-b1f8-bb06f7ebaf7f\")>,\n",
       " <selenium.webdriver.remote.webelement.WebElement (session=\"614637fbc53517043d49f63febd544f4\", element=\"f1264990-e95d-4083-9a07-080db71f8196\")>,\n",
       " <selenium.webdriver.remote.webelement.WebElement (session=\"614637fbc53517043d49f63febd544f4\", element=\"35fbe64f-4428-48a8-b5da-092c8faf732e\")>,\n",
       " <selenium.webdriver.remote.webelement.WebElement (session=\"614637fbc53517043d49f63febd544f4\", element=\"9b7bfcbe-2ac1-4f12-bf3b-b048e6671dfe\")>,\n",
       " <selenium.webdriver.remote.webelement.WebElement (session=\"614637fbc53517043d49f63febd544f4\", element=\"6f84282a-9818-4301-aa5e-f4110d28207f\")>,\n",
       " <selenium.webdriver.remote.webelement.WebElement (session=\"614637fbc53517043d49f63febd544f4\", element=\"a0afa183-828c-409e-b63e-7ac8b44e9ad7\")>,\n",
       " <selenium.webdriver.remote.webelement.WebElement (session=\"614637fbc53517043d49f63febd544f4\", element=\"61b647dc-26cc-4d24-affc-9e7de6446c5d\")>,\n",
       " <selenium.webdriver.remote.webelement.WebElement (session=\"614637fbc53517043d49f63febd544f4\", element=\"2ca197c6-ba59-4bf0-a5c7-a038d96faab4\")>,\n",
       " <selenium.webdriver.remote.webelement.WebElement (session=\"614637fbc53517043d49f63febd544f4\", element=\"5310d4f4-371b-46b7-add8-531e48c5b295\")>,\n",
       " <selenium.webdriver.remote.webelement.WebElement (session=\"614637fbc53517043d49f63febd544f4\", element=\"91798422-6568-468a-82a8-eea131594ff6\")>,\n",
       " <selenium.webdriver.remote.webelement.WebElement (session=\"614637fbc53517043d49f63febd544f4\", element=\"bcc4497a-fa19-4fd6-8ff3-ed39272cf1e0\")>,\n",
       " <selenium.webdriver.remote.webelement.WebElement (session=\"614637fbc53517043d49f63febd544f4\", element=\"2d6a7583-1373-4d2a-8b1d-d5dd139ba72f\")>]"
      ]
     },
     "execution_count": 13,
     "metadata": {},
     "output_type": "execute_result"
    }
   ],
   "source": [
    "description_tags=driver.find_elements_by_xpath(\"//h4[@class='product-product']\")\n",
    "description_tags[0:99]"
   ]
  },
  {
   "cell_type": "code",
   "execution_count": 14,
   "id": "3bdca4da",
   "metadata": {
    "scrolled": true
   },
   "outputs": [
    {
     "data": {
      "text/plain": [
       "['Men Max Cushioning Running',\n",
       " 'Men Sneakers',\n",
       " 'Men React Miler2 Running Shoes',\n",
       " 'Men Charged Rouge 3 Run Shoes',\n",
       " 'Women React MR 3 Running Shoes',\n",
       " 'Men Niteball II Sneakers',\n",
       " 'Men Woven Design Sneakers',\n",
       " 'Men Leather Driving Shoes',\n",
       " 'Men AIR MAX EXCEE Sneakers',\n",
       " 'Men MAX CUSHIONING ELITE-LUCID',\n",
       " 'Electrify Nitro Running Shoes',\n",
       " 'Men Textured Formal Leather Loafers',\n",
       " 'Unisex Ferrari IONSpeed',\n",
       " 'Men Leather Loafers',\n",
       " 'Project Rock Training shoes',\n",
       " 'Men Sky Vault Walking Shoes',\n",
       " 'Men Solid Ozweego Sneakers',\n",
       " 'Mirage Sport Hacked Sneakers',\n",
       " 'Men Air Max Dawn Sneakers',\n",
       " 'Men UA Charged Vantage 2 Run',\n",
       " 'Men Jamming 2.0 Running Shoes',\n",
       " 'Men Charged Breeze Running',\n",
       " 'Women Breeze Running Shoes',\n",
       " 'Men Voyage Nitro Running Shoes',\n",
       " 'Men AIR MAX PRE-DAY Sneakers',\n",
       " 'Eternity Nitro Running Shoes',\n",
       " 'Unisex Leather Trainers',\n",
       " 'Men D Nitro WTR Running Shoes',\n",
       " 'Men Leather Sneakers',\n",
       " 'Men M Nitro Running Shoess',\n",
       " 'Men Zig Dynamica 2.0 Running',\n",
       " 'Women Charged Vantage 2 Run',\n",
       " 'Men UA TriBase Reign4 Training',\n",
       " 'Men ZenonSpeed Sneakers',\n",
       " 'Men Zig Dynamica 3.0 Running',\n",
       " 'Men Velocity Nitro Running',\n",
       " 'Men Textured Loafers',\n",
       " 'Men Golf Shoes',\n",
       " 'Men Voyage Nitro Running Shoes',\n",
       " 'Men Dropset Training Shoes',\n",
       " 'Men Solid Leather Formal Loafers',\n",
       " 'Men Black Walking Shoes',\n",
       " 'Men Solid Leather Formal Slip-Ons',\n",
       " 'Men Solid Leather Formal Derbys',\n",
       " 'Men Solid Leather Formal Loafers',\n",
       " 'Men KING Top Football Shoes',\n",
       " 'Men Textured Leather High-Top Flat Boots',\n",
       " 'Men Leather Sneakers',\n",
       " 'Men Textured Leather Loafers',\n",
       " 'Men Running Shoes']"
      ]
     },
     "execution_count": 14,
     "metadata": {},
     "output_type": "execute_result"
    }
   ],
   "source": [
    "for i in description_tags:\n",
    "    text=i.text\n",
    "    Description.append(text)\n",
    "Description[0:99]"
   ]
  },
  {
   "cell_type": "code",
   "execution_count": 15,
   "id": "0613c1f7",
   "metadata": {},
   "outputs": [],
   "source": [
    "Price=[]"
   ]
  },
  {
   "cell_type": "code",
   "execution_count": 16,
   "id": "7af51234",
   "metadata": {
    "scrolled": true
   },
   "outputs": [
    {
     "data": {
      "text/plain": [
       "[<selenium.webdriver.remote.webelement.WebElement (session=\"614637fbc53517043d49f63febd544f4\", element=\"caadeb06-a67d-45cf-a2f1-a01942eea0e1\")>,\n",
       " <selenium.webdriver.remote.webelement.WebElement (session=\"614637fbc53517043d49f63febd544f4\", element=\"e0cb702b-79d1-4f1b-be31-c845acfe03a8\")>,\n",
       " <selenium.webdriver.remote.webelement.WebElement (session=\"614637fbc53517043d49f63febd544f4\", element=\"f0ccfb47-2a58-426c-8baf-e15d7924f326\")>,\n",
       " <selenium.webdriver.remote.webelement.WebElement (session=\"614637fbc53517043d49f63febd544f4\", element=\"f59691f1-a06b-4a1c-aef9-3bf258e1eca2\")>,\n",
       " <selenium.webdriver.remote.webelement.WebElement (session=\"614637fbc53517043d49f63febd544f4\", element=\"9feb436f-aa7e-4097-b303-840cac001c17\")>,\n",
       " <selenium.webdriver.remote.webelement.WebElement (session=\"614637fbc53517043d49f63febd544f4\", element=\"55b534be-c33c-4475-b8c5-186ca5b8c3ec\")>,\n",
       " <selenium.webdriver.remote.webelement.WebElement (session=\"614637fbc53517043d49f63febd544f4\", element=\"f10e4a58-7c21-4ea9-adbe-b5772fd137fd\")>,\n",
       " <selenium.webdriver.remote.webelement.WebElement (session=\"614637fbc53517043d49f63febd544f4\", element=\"98dc6273-4138-4c06-95aa-86f81376bccb\")>,\n",
       " <selenium.webdriver.remote.webelement.WebElement (session=\"614637fbc53517043d49f63febd544f4\", element=\"2f7f973c-21eb-4d60-a33a-7aa172342d88\")>,\n",
       " <selenium.webdriver.remote.webelement.WebElement (session=\"614637fbc53517043d49f63febd544f4\", element=\"0b08285f-4fa7-42fe-a457-9169f05658fa\")>,\n",
       " <selenium.webdriver.remote.webelement.WebElement (session=\"614637fbc53517043d49f63febd544f4\", element=\"fb701a97-9564-4626-b9a4-68abfbea2034\")>,\n",
       " <selenium.webdriver.remote.webelement.WebElement (session=\"614637fbc53517043d49f63febd544f4\", element=\"c6b49273-1e4a-4f46-a989-afdcba28516e\")>,\n",
       " <selenium.webdriver.remote.webelement.WebElement (session=\"614637fbc53517043d49f63febd544f4\", element=\"7795c09b-b670-4a3d-8d70-a388efb44492\")>,\n",
       " <selenium.webdriver.remote.webelement.WebElement (session=\"614637fbc53517043d49f63febd544f4\", element=\"1b60f744-27f8-42f2-86dc-36a8bc483b09\")>,\n",
       " <selenium.webdriver.remote.webelement.WebElement (session=\"614637fbc53517043d49f63febd544f4\", element=\"9d81c37d-b67c-425b-8392-dc56d1d049a8\")>,\n",
       " <selenium.webdriver.remote.webelement.WebElement (session=\"614637fbc53517043d49f63febd544f4\", element=\"fc9fd7f9-f4e8-487e-bddd-e3d36d2cfcf4\")>,\n",
       " <selenium.webdriver.remote.webelement.WebElement (session=\"614637fbc53517043d49f63febd544f4\", element=\"74de4da9-0cc7-4b04-841e-df32fdf2b76c\")>,\n",
       " <selenium.webdriver.remote.webelement.WebElement (session=\"614637fbc53517043d49f63febd544f4\", element=\"e5d68b69-b21e-45a9-90a3-5ced8790e354\")>,\n",
       " <selenium.webdriver.remote.webelement.WebElement (session=\"614637fbc53517043d49f63febd544f4\", element=\"d42c9f5e-958b-4bcb-82e0-9a286fcccbe1\")>,\n",
       " <selenium.webdriver.remote.webelement.WebElement (session=\"614637fbc53517043d49f63febd544f4\", element=\"acd155a3-f444-4ea9-9977-750f45cc848f\")>,\n",
       " <selenium.webdriver.remote.webelement.WebElement (session=\"614637fbc53517043d49f63febd544f4\", element=\"a1c232d1-9880-4477-aafc-5dc4becb83bc\")>,\n",
       " <selenium.webdriver.remote.webelement.WebElement (session=\"614637fbc53517043d49f63febd544f4\", element=\"a0b6d079-5252-4034-8a92-b178f1dd89c5\")>,\n",
       " <selenium.webdriver.remote.webelement.WebElement (session=\"614637fbc53517043d49f63febd544f4\", element=\"3b142f93-d57d-44d8-b71e-0d54800b289e\")>,\n",
       " <selenium.webdriver.remote.webelement.WebElement (session=\"614637fbc53517043d49f63febd544f4\", element=\"c1e386ba-9819-4afd-98c2-24b85ab3f71b\")>,\n",
       " <selenium.webdriver.remote.webelement.WebElement (session=\"614637fbc53517043d49f63febd544f4\", element=\"d2c4a3e6-fa2e-4faf-8280-fdfbb2db40c3\")>,\n",
       " <selenium.webdriver.remote.webelement.WebElement (session=\"614637fbc53517043d49f63febd544f4\", element=\"002a6384-5898-4293-b47f-470d5bc5f1bb\")>,\n",
       " <selenium.webdriver.remote.webelement.WebElement (session=\"614637fbc53517043d49f63febd544f4\", element=\"cd852af3-38b7-4703-a9a9-285c0c501f4b\")>,\n",
       " <selenium.webdriver.remote.webelement.WebElement (session=\"614637fbc53517043d49f63febd544f4\", element=\"846c6259-bb04-4cfc-b9d7-1eb9fc173414\")>,\n",
       " <selenium.webdriver.remote.webelement.WebElement (session=\"614637fbc53517043d49f63febd544f4\", element=\"85df2162-97a1-435d-880b-e6defab64937\")>,\n",
       " <selenium.webdriver.remote.webelement.WebElement (session=\"614637fbc53517043d49f63febd544f4\", element=\"34624780-9738-4ee5-bb3e-14ddf5bbe38d\")>,\n",
       " <selenium.webdriver.remote.webelement.WebElement (session=\"614637fbc53517043d49f63febd544f4\", element=\"57fa29c8-24f2-459e-8ff2-8a6836bb78cf\")>,\n",
       " <selenium.webdriver.remote.webelement.WebElement (session=\"614637fbc53517043d49f63febd544f4\", element=\"cdd034ce-e83f-4c3d-bf73-53beb6ed83d1\")>,\n",
       " <selenium.webdriver.remote.webelement.WebElement (session=\"614637fbc53517043d49f63febd544f4\", element=\"f3b9bfaf-948d-44fb-b89a-63144e5cee9a\")>,\n",
       " <selenium.webdriver.remote.webelement.WebElement (session=\"614637fbc53517043d49f63febd544f4\", element=\"33b8f658-8dbc-45a4-946c-63823bbf266d\")>,\n",
       " <selenium.webdriver.remote.webelement.WebElement (session=\"614637fbc53517043d49f63febd544f4\", element=\"1ce21291-8112-4031-b49d-3cdde5383768\")>,\n",
       " <selenium.webdriver.remote.webelement.WebElement (session=\"614637fbc53517043d49f63febd544f4\", element=\"4a18e728-de3c-4cda-8abc-c7e9efe11d3c\")>,\n",
       " <selenium.webdriver.remote.webelement.WebElement (session=\"614637fbc53517043d49f63febd544f4\", element=\"d7bf0f12-b8e4-498e-833c-30beb66c01e9\")>,\n",
       " <selenium.webdriver.remote.webelement.WebElement (session=\"614637fbc53517043d49f63febd544f4\", element=\"2050d922-d2ca-4b86-815b-2063c5ddd621\")>,\n",
       " <selenium.webdriver.remote.webelement.WebElement (session=\"614637fbc53517043d49f63febd544f4\", element=\"cb1c5c99-0075-4d2a-9a3f-01ce518dc939\")>,\n",
       " <selenium.webdriver.remote.webelement.WebElement (session=\"614637fbc53517043d49f63febd544f4\", element=\"c888b112-9bdc-4266-814f-d982bea6b858\")>,\n",
       " <selenium.webdriver.remote.webelement.WebElement (session=\"614637fbc53517043d49f63febd544f4\", element=\"b79830da-8a3a-40b9-8fff-dedfa44f2e57\")>,\n",
       " <selenium.webdriver.remote.webelement.WebElement (session=\"614637fbc53517043d49f63febd544f4\", element=\"a5ea2447-574b-4f5a-9073-6d8d584ac37f\")>,\n",
       " <selenium.webdriver.remote.webelement.WebElement (session=\"614637fbc53517043d49f63febd544f4\", element=\"222c93d9-041e-4b34-a2ba-b4ce83b1efe1\")>,\n",
       " <selenium.webdriver.remote.webelement.WebElement (session=\"614637fbc53517043d49f63febd544f4\", element=\"2c462548-a575-457e-a257-b24af362faa3\")>,\n",
       " <selenium.webdriver.remote.webelement.WebElement (session=\"614637fbc53517043d49f63febd544f4\", element=\"b5e6d17b-579c-4d2b-abf1-91c579257368\")>,\n",
       " <selenium.webdriver.remote.webelement.WebElement (session=\"614637fbc53517043d49f63febd544f4\", element=\"12082722-19d0-4a73-a10e-69e64fc2e175\")>,\n",
       " <selenium.webdriver.remote.webelement.WebElement (session=\"614637fbc53517043d49f63febd544f4\", element=\"9576f360-605f-4d95-8923-6b83bf45c96e\")>,\n",
       " <selenium.webdriver.remote.webelement.WebElement (session=\"614637fbc53517043d49f63febd544f4\", element=\"516e7958-fc17-4a8a-800c-1b11d6c79eab\")>,\n",
       " <selenium.webdriver.remote.webelement.WebElement (session=\"614637fbc53517043d49f63febd544f4\", element=\"0abf6dd1-9d3b-4d3b-955f-45149aafe4d4\")>,\n",
       " <selenium.webdriver.remote.webelement.WebElement (session=\"614637fbc53517043d49f63febd544f4\", element=\"f974112e-5ec0-4044-8903-351f93125359\")>]"
      ]
     },
     "execution_count": 16,
     "metadata": {},
     "output_type": "execute_result"
    }
   ],
   "source": [
    "price_tags=driver.find_elements_by_xpath(\"//div[@class='product-price']\")\n",
    "price_tags[0:99]"
   ]
  },
  {
   "cell_type": "code",
   "execution_count": 17,
   "id": "0010bd20",
   "metadata": {
    "scrolled": true
   },
   "outputs": [
    {
     "data": {
      "text/plain": [
       "['Rs. 7199Rs. 8999(20% OFF)',\n",
       " 'Rs. 9999',\n",
       " 'Rs. 11495',\n",
       " 'Rs. 7999',\n",
       " 'Rs. 8920Rs. 10495(15% OFF)',\n",
       " 'Rs. 9349Rs. 10999(15% OFF)',\n",
       " 'Rs. 13999',\n",
       " 'Rs. 12999',\n",
       " 'Rs. 7995',\n",
       " 'Rs. 7599Rs. 9499(20% OFF)',\n",
       " 'Rs. 8499Rs. 9999(15% OFF)',\n",
       " 'Rs. 8990',\n",
       " 'Rs. 7199Rs. 8999(20% OFF)',\n",
       " 'Rs. 12999',\n",
       " 'Rs. 9999',\n",
       " 'Rs. 7199Rs. 8999(20% OFF)',\n",
       " 'Rs. 9349Rs. 10999(15% OFF)',\n",
       " 'Rs. 7199Rs. 8999(20% OFF)',\n",
       " 'Rs. 9295',\n",
       " 'Rs. 7999',\n",
       " 'Rs. 9749Rs. 12999(25% OFF)',\n",
       " 'Rs. 8999',\n",
       " 'Rs. 8999',\n",
       " 'Rs. 8799Rs. 10999(20% OFF)',\n",
       " 'Rs. 13995',\n",
       " 'Rs. 10399Rs. 12999(20% OFF)',\n",
       " 'Rs. 7999Rs. 9999(20% OFF)',\n",
       " 'Rs. 12799Rs. 15999(20% OFF)',\n",
       " 'Rs. 7309Rs. 8599(15% OFF)',\n",
       " 'Rs. 10399Rs. 12999(20% OFF)',\n",
       " 'Rs. 7999',\n",
       " 'Rs. 7999',\n",
       " 'Rs. 11999',\n",
       " 'Rs. 7649Rs. 8999(15% OFF)',\n",
       " 'Rs. 7999',\n",
       " 'Rs. 9599Rs. 11999(20% OFF)',\n",
       " 'Rs. 8999',\n",
       " 'Rs. 7649Rs. 8999(15% OFF)',\n",
       " 'Rs. 8799Rs. 10999(20% OFF)',\n",
       " 'Rs. 12999',\n",
       " 'Rs. 9999',\n",
       " 'Rs. 8999',\n",
       " 'Rs. 7649Rs. 8999(15% OFF)',\n",
       " 'Rs. 9999',\n",
       " 'Rs. 8490',\n",
       " 'Rs. 9599Rs. 11999(20% OFF)',\n",
       " 'Rs. 8399Rs. 11999(30% OFF)',\n",
       " 'Rs. 7890',\n",
       " 'Rs. 9999',\n",
       " 'Rs. 7999']"
      ]
     },
     "execution_count": 17,
     "metadata": {},
     "output_type": "execute_result"
    }
   ],
   "source": [
    "for i in price_tags:\n",
    "    text=i.text\n",
    "    Price.append(text)\n",
    "Price[0:99]"
   ]
  },
  {
   "cell_type": "code",
   "execution_count": 18,
   "id": "8751b337",
   "metadata": {},
   "outputs": [],
   "source": [
    "driver.close()"
   ]
  },
  {
   "cell_type": "markdown",
   "id": "2dceee9d",
   "metadata": {},
   "source": [
    "# Q6: Scrape data for first 100 sneakers you find when you visit flipkart.com andsearch for “sneakers” in the\n",
    "# search field.\n",
    " # You have to scrape 4 attributes of each sneaker:\n",
    " # 1. Brand\n",
    "# 2. Product Description\n",
    "# 3. Price"
   ]
  },
  {
   "cell_type": "code",
   "execution_count": 19,
   "id": "db4f8399",
   "metadata": {},
   "outputs": [],
   "source": [
    "import selenium                              \n",
    "import pandas as pd                          \n",
    "from selenium import webdriver              \n",
    "import warnings                              \n",
    "warnings.filterwarnings(\"ignore\")\n",
    "import time"
   ]
  },
  {
   "cell_type": "code",
   "execution_count": 20,
   "id": "b1735665",
   "metadata": {},
   "outputs": [],
   "source": [
    "driver=webdriver.Chrome(\"chromedriver.exe\")\n",
    "time.sleep(2)"
   ]
  },
  {
   "cell_type": "code",
   "execution_count": 21,
   "id": "92ad4098",
   "metadata": {},
   "outputs": [],
   "source": [
    "driver.get(\"https://www.flipkart.com/\")"
   ]
  },
  {
   "cell_type": "code",
   "execution_count": 22,
   "id": "39a24270",
   "metadata": {},
   "outputs": [],
   "source": [
    "search_field_sneakers=driver.find_element_by_class_name(\"_3704LK\") #search bar\n",
    "search_field_sneakers.send_keys(\"sneakers\")"
   ]
  },
  {
   "cell_type": "code",
   "execution_count": 24,
   "id": "4f1220cb",
   "metadata": {},
   "outputs": [],
   "source": [
    "search_button=driver.find_element_by_class_name(\"L0Z3Pu\")\n",
    "search_button.click()"
   ]
  },
  {
   "cell_type": "code",
   "execution_count": 25,
   "id": "c1aca0b0",
   "metadata": {},
   "outputs": [],
   "source": [
    "Brands=[]"
   ]
  },
  {
   "cell_type": "code",
   "execution_count": 26,
   "id": "24c871f1",
   "metadata": {
    "scrolled": true
   },
   "outputs": [
    {
     "data": {
      "text/plain": [
       "[<selenium.webdriver.remote.webelement.WebElement (session=\"68a58144268279b1d4dba3a908c567a5\", element=\"c4f4b267-c7bf-4bd1-9590-469acb4527a2\")>,\n",
       " <selenium.webdriver.remote.webelement.WebElement (session=\"68a58144268279b1d4dba3a908c567a5\", element=\"b4546190-b6f0-4c88-b377-249220730cf5\")>,\n",
       " <selenium.webdriver.remote.webelement.WebElement (session=\"68a58144268279b1d4dba3a908c567a5\", element=\"f642ddbf-2252-4e41-8757-874c28a62d4d\")>,\n",
       " <selenium.webdriver.remote.webelement.WebElement (session=\"68a58144268279b1d4dba3a908c567a5\", element=\"45f52083-be47-4929-b15a-08f369939c9e\")>,\n",
       " <selenium.webdriver.remote.webelement.WebElement (session=\"68a58144268279b1d4dba3a908c567a5\", element=\"d2d5f6fe-a93d-45ea-86a7-3d592dbdb219\")>,\n",
       " <selenium.webdriver.remote.webelement.WebElement (session=\"68a58144268279b1d4dba3a908c567a5\", element=\"88f094b7-7d3c-43e6-ae36-17ceaf41f66c\")>,\n",
       " <selenium.webdriver.remote.webelement.WebElement (session=\"68a58144268279b1d4dba3a908c567a5\", element=\"8ab2cdf9-d3ea-46b2-ac5d-ef58cbea22bd\")>,\n",
       " <selenium.webdriver.remote.webelement.WebElement (session=\"68a58144268279b1d4dba3a908c567a5\", element=\"b5a191b3-0fb2-4fb0-b5a6-ea70cade976f\")>,\n",
       " <selenium.webdriver.remote.webelement.WebElement (session=\"68a58144268279b1d4dba3a908c567a5\", element=\"e920bb10-b9a2-41d5-96af-f9b7864835b6\")>,\n",
       " <selenium.webdriver.remote.webelement.WebElement (session=\"68a58144268279b1d4dba3a908c567a5\", element=\"a62c1897-c9f3-42c1-b783-05ab20aec51a\")>,\n",
       " <selenium.webdriver.remote.webelement.WebElement (session=\"68a58144268279b1d4dba3a908c567a5\", element=\"53c85daa-16e1-4711-b60b-330f2eaedeea\")>,\n",
       " <selenium.webdriver.remote.webelement.WebElement (session=\"68a58144268279b1d4dba3a908c567a5\", element=\"7530394d-f47b-4881-9611-e23f404018d7\")>,\n",
       " <selenium.webdriver.remote.webelement.WebElement (session=\"68a58144268279b1d4dba3a908c567a5\", element=\"24d64ca4-ab20-46cb-ab94-52a5558debff\")>,\n",
       " <selenium.webdriver.remote.webelement.WebElement (session=\"68a58144268279b1d4dba3a908c567a5\", element=\"48e504a5-03ec-4b30-bce7-30ac0457721e\")>,\n",
       " <selenium.webdriver.remote.webelement.WebElement (session=\"68a58144268279b1d4dba3a908c567a5\", element=\"39cc0a8e-ea1f-44d4-97af-9015aa58518d\")>,\n",
       " <selenium.webdriver.remote.webelement.WebElement (session=\"68a58144268279b1d4dba3a908c567a5\", element=\"e9e5bb7d-6da4-4dc6-874c-e48d5336d346\")>,\n",
       " <selenium.webdriver.remote.webelement.WebElement (session=\"68a58144268279b1d4dba3a908c567a5\", element=\"666f8e6a-2531-4f61-96a1-2c095faad7a9\")>,\n",
       " <selenium.webdriver.remote.webelement.WebElement (session=\"68a58144268279b1d4dba3a908c567a5\", element=\"6bb7657b-d327-4a2b-b248-ec3dd7919c15\")>,\n",
       " <selenium.webdriver.remote.webelement.WebElement (session=\"68a58144268279b1d4dba3a908c567a5\", element=\"ab8d130c-63cb-476d-adbb-50aeaff0ec9d\")>,\n",
       " <selenium.webdriver.remote.webelement.WebElement (session=\"68a58144268279b1d4dba3a908c567a5\", element=\"eb20c21a-9be4-4315-b29d-07f66392507d\")>,\n",
       " <selenium.webdriver.remote.webelement.WebElement (session=\"68a58144268279b1d4dba3a908c567a5\", element=\"301603d3-a2da-4f4a-84fa-05982280cdff\")>,\n",
       " <selenium.webdriver.remote.webelement.WebElement (session=\"68a58144268279b1d4dba3a908c567a5\", element=\"a31ee394-45ed-4d05-a23b-647c792c9244\")>,\n",
       " <selenium.webdriver.remote.webelement.WebElement (session=\"68a58144268279b1d4dba3a908c567a5\", element=\"a3b1d3a1-694a-4015-8a07-de7ddd77ca08\")>,\n",
       " <selenium.webdriver.remote.webelement.WebElement (session=\"68a58144268279b1d4dba3a908c567a5\", element=\"cc0ab33f-feb4-46a6-8f90-ea5fe5310365\")>,\n",
       " <selenium.webdriver.remote.webelement.WebElement (session=\"68a58144268279b1d4dba3a908c567a5\", element=\"e7f8ac61-06a0-4786-a34d-89a9663cd9bf\")>,\n",
       " <selenium.webdriver.remote.webelement.WebElement (session=\"68a58144268279b1d4dba3a908c567a5\", element=\"47e2e571-3218-4c67-bd43-9fd47467f7fd\")>,\n",
       " <selenium.webdriver.remote.webelement.WebElement (session=\"68a58144268279b1d4dba3a908c567a5\", element=\"992a016f-3d00-445e-81d0-e73a6e7f1fc6\")>,\n",
       " <selenium.webdriver.remote.webelement.WebElement (session=\"68a58144268279b1d4dba3a908c567a5\", element=\"729c0871-c562-4a61-9cb6-18c2746034af\")>,\n",
       " <selenium.webdriver.remote.webelement.WebElement (session=\"68a58144268279b1d4dba3a908c567a5\", element=\"7f22b67b-69a6-4d0c-aca4-f41fbb2cf00c\")>,\n",
       " <selenium.webdriver.remote.webelement.WebElement (session=\"68a58144268279b1d4dba3a908c567a5\", element=\"51fcf6a1-854c-4077-be73-8e78b0ece6bd\")>,\n",
       " <selenium.webdriver.remote.webelement.WebElement (session=\"68a58144268279b1d4dba3a908c567a5\", element=\"0a4f945c-83d4-4602-98d4-0a6685b129a0\")>,\n",
       " <selenium.webdriver.remote.webelement.WebElement (session=\"68a58144268279b1d4dba3a908c567a5\", element=\"914907d8-2326-4908-a848-9b6d9a0bfafb\")>,\n",
       " <selenium.webdriver.remote.webelement.WebElement (session=\"68a58144268279b1d4dba3a908c567a5\", element=\"44054e42-1948-418c-b491-57a3cb7f3af9\")>,\n",
       " <selenium.webdriver.remote.webelement.WebElement (session=\"68a58144268279b1d4dba3a908c567a5\", element=\"71866088-803e-4fb8-b3ce-eb6a215505cf\")>,\n",
       " <selenium.webdriver.remote.webelement.WebElement (session=\"68a58144268279b1d4dba3a908c567a5\", element=\"f27a94d0-4c01-435e-b9fb-ca56025326f7\")>,\n",
       " <selenium.webdriver.remote.webelement.WebElement (session=\"68a58144268279b1d4dba3a908c567a5\", element=\"64bfea47-b0dc-4473-9a99-b469f9fab62e\")>,\n",
       " <selenium.webdriver.remote.webelement.WebElement (session=\"68a58144268279b1d4dba3a908c567a5\", element=\"bc4f5a12-650a-40f4-aecf-e3566e5e66f9\")>,\n",
       " <selenium.webdriver.remote.webelement.WebElement (session=\"68a58144268279b1d4dba3a908c567a5\", element=\"29974137-5600-4e15-9a7b-4c95d27d5b78\")>,\n",
       " <selenium.webdriver.remote.webelement.WebElement (session=\"68a58144268279b1d4dba3a908c567a5\", element=\"9c313852-d024-458a-ae13-d061e34cfe4a\")>,\n",
       " <selenium.webdriver.remote.webelement.WebElement (session=\"68a58144268279b1d4dba3a908c567a5\", element=\"4be35bab-17ff-41ec-8408-28a906b0d8e0\")>]"
      ]
     },
     "execution_count": 26,
     "metadata": {},
     "output_type": "execute_result"
    }
   ],
   "source": [
    "Brand_tags=driver.find_elements_by_xpath(\"//div[@class='_2WkVRV']\") # locating web element of title.\n",
    "Brand_tags[0:99] "
   ]
  },
  {
   "cell_type": "code",
   "execution_count": 27,
   "id": "d4b49825",
   "metadata": {
    "scrolled": true
   },
   "outputs": [
    {
     "data": {
      "text/plain": [
       "['Shoes Icon',\n",
       " 'Scull Wings',\n",
       " 'URBANBOX',\n",
       " 'BRUTON',\n",
       " 'BIRDE',\n",
       " 'HRX by Hrithik Roshan',\n",
       " 'NIKE',\n",
       " 'RED TAPE',\n",
       " 'Magnolia',\n",
       " 'KWIK FIT',\n",
       " 'Chevit',\n",
       " 'rushk',\n",
       " 'BRUTON',\n",
       " 'BRUTON',\n",
       " 'ASTEROID',\n",
       " 'RED TAPE',\n",
       " 'aadi',\n",
       " 'Labbin',\n",
       " 'Kzaara',\n",
       " 'RapidBox',\n",
       " 'Echor',\n",
       " 'MAFLO',\n",
       " 'SCATCHITE',\n",
       " 'Robbie jones',\n",
       " 'ASTEROID',\n",
       " 'SPARX',\n",
       " 'Layasa',\n",
       " 'Navtrend',\n",
       " 'Chevit',\n",
       " 'EMPTILE',\n",
       " 'ONECENTRE',\n",
       " 'Bacan',\n",
       " 'CLYMB',\n",
       " 'BRUTON',\n",
       " 'corsac',\n",
       " 'RED TAPE',\n",
       " 'Kraasa',\n",
       " 'Ktiz',\n",
       " 'World Wear Footwear',\n",
       " 'RED TAPE']"
      ]
     },
     "execution_count": 27,
     "metadata": {},
     "output_type": "execute_result"
    }
   ],
   "source": [
    "for i in Brand_tags:           \n",
    "    Brand=i.text                \n",
    "    Brands.append(Brand)        \n",
    "Brands[0:99]            "
   ]
  },
  {
   "cell_type": "code",
   "execution_count": 28,
   "id": "371443c3",
   "metadata": {},
   "outputs": [],
   "source": [
    "Product_Description=[]\n"
   ]
  },
  {
   "cell_type": "code",
   "execution_count": 29,
   "id": "326981a9",
   "metadata": {
    "scrolled": true
   },
   "outputs": [
    {
     "data": {
      "text/plain": [
       "[<selenium.webdriver.remote.webelement.WebElement (session=\"68a58144268279b1d4dba3a908c567a5\", element=\"c3410818-faa7-4a82-b70c-133234e721c4\")>,\n",
       " <selenium.webdriver.remote.webelement.WebElement (session=\"68a58144268279b1d4dba3a908c567a5\", element=\"c834e6a5-8b5f-45d6-b027-11cd3cd04e44\")>,\n",
       " <selenium.webdriver.remote.webelement.WebElement (session=\"68a58144268279b1d4dba3a908c567a5\", element=\"3b1c13ce-d269-4216-ad07-33c23d15a22e\")>,\n",
       " <selenium.webdriver.remote.webelement.WebElement (session=\"68a58144268279b1d4dba3a908c567a5\", element=\"2d2274ea-2816-4236-9bc5-a0fefa0b8278\")>,\n",
       " <selenium.webdriver.remote.webelement.WebElement (session=\"68a58144268279b1d4dba3a908c567a5\", element=\"f4ad8bbe-db89-4b3c-83b9-28722993fd55\")>,\n",
       " <selenium.webdriver.remote.webelement.WebElement (session=\"68a58144268279b1d4dba3a908c567a5\", element=\"152005a8-d2d8-4891-b527-60ce25b404ac\")>,\n",
       " <selenium.webdriver.remote.webelement.WebElement (session=\"68a58144268279b1d4dba3a908c567a5\", element=\"b09dbbc3-7fc0-40f6-b77c-13e04a7d0ce7\")>,\n",
       " <selenium.webdriver.remote.webelement.WebElement (session=\"68a58144268279b1d4dba3a908c567a5\", element=\"36a880d5-bb28-4f3f-8d1e-40e86706693a\")>,\n",
       " <selenium.webdriver.remote.webelement.WebElement (session=\"68a58144268279b1d4dba3a908c567a5\", element=\"634b2c2a-3a73-4da2-9110-8a139c780663\")>,\n",
       " <selenium.webdriver.remote.webelement.WebElement (session=\"68a58144268279b1d4dba3a908c567a5\", element=\"06d72edb-5ceb-4f01-a855-7f307b0ec38a\")>,\n",
       " <selenium.webdriver.remote.webelement.WebElement (session=\"68a58144268279b1d4dba3a908c567a5\", element=\"5fea2739-0356-470b-bebf-4690173a46f0\")>,\n",
       " <selenium.webdriver.remote.webelement.WebElement (session=\"68a58144268279b1d4dba3a908c567a5\", element=\"38d575fd-ea6a-4f82-8c18-28707ff4cd18\")>,\n",
       " <selenium.webdriver.remote.webelement.WebElement (session=\"68a58144268279b1d4dba3a908c567a5\", element=\"4d21139a-2597-41af-9b72-060c4ba80089\")>,\n",
       " <selenium.webdriver.remote.webelement.WebElement (session=\"68a58144268279b1d4dba3a908c567a5\", element=\"9731f890-d012-4cd2-8cdd-6d9cd155ba9a\")>,\n",
       " <selenium.webdriver.remote.webelement.WebElement (session=\"68a58144268279b1d4dba3a908c567a5\", element=\"a874c9aa-65d9-4224-8a0b-fa3b8b0cc133\")>,\n",
       " <selenium.webdriver.remote.webelement.WebElement (session=\"68a58144268279b1d4dba3a908c567a5\", element=\"3b1ae7e0-3499-410e-a7cb-bea2b58d5e28\")>,\n",
       " <selenium.webdriver.remote.webelement.WebElement (session=\"68a58144268279b1d4dba3a908c567a5\", element=\"f943c707-9b06-4fe5-9168-975193ab49d9\")>,\n",
       " <selenium.webdriver.remote.webelement.WebElement (session=\"68a58144268279b1d4dba3a908c567a5\", element=\"900c1cf9-7399-487b-9d21-a194ca421e3e\")>,\n",
       " <selenium.webdriver.remote.webelement.WebElement (session=\"68a58144268279b1d4dba3a908c567a5\", element=\"6b192cd9-dadf-40d9-b8b0-b32bd7b9a9d3\")>,\n",
       " <selenium.webdriver.remote.webelement.WebElement (session=\"68a58144268279b1d4dba3a908c567a5\", element=\"422e8a5b-bcfc-4104-988f-918e2ed69ca8\")>,\n",
       " <selenium.webdriver.remote.webelement.WebElement (session=\"68a58144268279b1d4dba3a908c567a5\", element=\"7d68b565-ce9e-44e2-8e2b-d8dd764a96b5\")>,\n",
       " <selenium.webdriver.remote.webelement.WebElement (session=\"68a58144268279b1d4dba3a908c567a5\", element=\"b9611422-82fd-418b-9b65-20cad3206aef\")>,\n",
       " <selenium.webdriver.remote.webelement.WebElement (session=\"68a58144268279b1d4dba3a908c567a5\", element=\"12903b83-9af0-4d5c-ad64-68d86898f8f0\")>,\n",
       " <selenium.webdriver.remote.webelement.WebElement (session=\"68a58144268279b1d4dba3a908c567a5\", element=\"41603b17-b54a-439b-94c5-846982054d73\")>,\n",
       " <selenium.webdriver.remote.webelement.WebElement (session=\"68a58144268279b1d4dba3a908c567a5\", element=\"72774ea9-af8a-40a4-89d3-0e48a0c768fd\")>,\n",
       " <selenium.webdriver.remote.webelement.WebElement (session=\"68a58144268279b1d4dba3a908c567a5\", element=\"76ee4ca7-63b0-4a10-b9da-79dc9b5c8530\")>,\n",
       " <selenium.webdriver.remote.webelement.WebElement (session=\"68a58144268279b1d4dba3a908c567a5\", element=\"0b9d27bb-b41d-4ec4-a90e-357212220128\")>,\n",
       " <selenium.webdriver.remote.webelement.WebElement (session=\"68a58144268279b1d4dba3a908c567a5\", element=\"464bcd9b-f308-4edf-bbf2-79df7baaad83\")>,\n",
       " <selenium.webdriver.remote.webelement.WebElement (session=\"68a58144268279b1d4dba3a908c567a5\", element=\"0c1be633-7529-4ab8-a744-0170813849e2\")>,\n",
       " <selenium.webdriver.remote.webelement.WebElement (session=\"68a58144268279b1d4dba3a908c567a5\", element=\"a90f8eba-fc3a-4cc7-8ea1-406fa14cdadb\")>,\n",
       " <selenium.webdriver.remote.webelement.WebElement (session=\"68a58144268279b1d4dba3a908c567a5\", element=\"67136013-38fe-468c-b0f4-c2b0221f48c0\")>,\n",
       " <selenium.webdriver.remote.webelement.WebElement (session=\"68a58144268279b1d4dba3a908c567a5\", element=\"8fce4c83-14e9-4adf-bae6-726106f3ad77\")>,\n",
       " <selenium.webdriver.remote.webelement.WebElement (session=\"68a58144268279b1d4dba3a908c567a5\", element=\"b6867273-b082-4c55-8d59-61f1b666f782\")>,\n",
       " <selenium.webdriver.remote.webelement.WebElement (session=\"68a58144268279b1d4dba3a908c567a5\", element=\"cc5e0429-abc5-465f-a51a-08bebb40e377\")>,\n",
       " <selenium.webdriver.remote.webelement.WebElement (session=\"68a58144268279b1d4dba3a908c567a5\", element=\"6770c4d4-6417-4a3b-bab7-9d9f3becd9d2\")>,\n",
       " <selenium.webdriver.remote.webelement.WebElement (session=\"68a58144268279b1d4dba3a908c567a5\", element=\"7e191ddc-7d96-40f3-ba27-263e7dc3fc49\")>,\n",
       " <selenium.webdriver.remote.webelement.WebElement (session=\"68a58144268279b1d4dba3a908c567a5\", element=\"91dbcf3d-473a-4f2e-bcb9-e176e4dc7ab1\")>,\n",
       " <selenium.webdriver.remote.webelement.WebElement (session=\"68a58144268279b1d4dba3a908c567a5\", element=\"3cc0c3e2-ad22-408d-8b05-5189bd708d4e\")>,\n",
       " <selenium.webdriver.remote.webelement.WebElement (session=\"68a58144268279b1d4dba3a908c567a5\", element=\"3a7bdc3e-383b-4349-afb9-f27845d667fe\")>,\n",
       " <selenium.webdriver.remote.webelement.WebElement (session=\"68a58144268279b1d4dba3a908c567a5\", element=\"4da1c3f6-9a07-4b16-8a3f-7c5b02b492cd\")>]"
      ]
     },
     "execution_count": 29,
     "metadata": {},
     "output_type": "execute_result"
    }
   ],
   "source": [
    "Product_Description_tags=driver.find_elements_by_class_name(\"IRpwTa\")\n",
    "Product_Description_tags[0:99]"
   ]
  },
  {
   "cell_type": "code",
   "execution_count": 30,
   "id": "7d8489e7",
   "metadata": {
    "scrolled": true
   },
   "outputs": [
    {
     "data": {
      "text/plain": [
       "['Stylish White Casual Sneakers | White Party Wear Sneake...',\n",
       " 'White sneakers for men shoes for men casual shoes for m...',\n",
       " 'Sneakers Sneakers For Men',\n",
       " 'Modern Trendy Sneakers Shoes Sneakers For Men',\n",
       " 'Stylish Comfortable Lightweight, Breathable Walking Sho...',\n",
       " 'Sneakers For Men',\n",
       " 'Ebernon Low Sneakers For Men',\n",
       " 'Sneakers For Men',\n",
       " 'Sneakers For Men',\n",
       " 'Kwik FIT casual sneaker shoes and partywear shoes Casua...',\n",
       " 'Chevit Combo Pack of 5 Casual Sneakers With Canvas Shoe...',\n",
       " 'Sneakers For Men',\n",
       " 'Lattest Sneakers Shoe Sneakers For Men',\n",
       " 'Sneaker Sneakers For Men',\n",
       " 'Original Luxury Branded Black Fancy Casual Walking Part...',\n",
       " 'Sneakers For Men',\n",
       " 'Sneakers For Men',\n",
       " 'Sneakers For Men',\n",
       " 'Sneakers For Men',\n",
       " 'Sneakers For Men',\n",
       " \"Men's Sneakers Fashion Lightweight Running Shoes Tennis...\",\n",
       " 'Sneakers For Men',\n",
       " 'Sneakers Sneakers For Men',\n",
       " 'Sneakers For Men',\n",
       " \"Original Luxury Branded Fashionable Men's Casual Walkin...\",\n",
       " 'Men White Sneakers Sneakers For Men',\n",
       " 'Sneakers For Men',\n",
       " 'Sneakers For Men',\n",
       " '494 Perfect Sports Shoes for Running Training Hikking &...',\n",
       " 'all white heartbeat casual shoe Sneakers For Men',\n",
       " 'STR2 Sneakers For Men',\n",
       " 'Sneakers For Men',\n",
       " 'Sneakers For Men',\n",
       " 'Lightweight Pack Of 1 Trendy Sneakers Sneakers For Men',\n",
       " 'STYLISH MENS BLACK TRENDY SNEAKER FOR MENS Sneakers For...',\n",
       " 'Sneakers For Men',\n",
       " 'Series 7 Sneakers For Men',\n",
       " 'Sneakers For Men',\n",
       " '5011-Latest Collection Stylish & Trendy Casual Sneakers...',\n",
       " 'Sneakers For Men']"
      ]
     },
     "execution_count": 30,
     "metadata": {},
     "output_type": "execute_result"
    }
   ],
   "source": [
    "for i in Product_Description_tags:\n",
    "    text=i.text\n",
    "    Product_Description.append(text)\n",
    "Product_Description"
   ]
  },
  {
   "cell_type": "code",
   "execution_count": 31,
   "id": "bfd4a52b",
   "metadata": {},
   "outputs": [],
   "source": [
    "Price=[]"
   ]
  },
  {
   "cell_type": "code",
   "execution_count": 32,
   "id": "a84763fd",
   "metadata": {
    "scrolled": true
   },
   "outputs": [
    {
     "data": {
      "text/plain": [
       "[<selenium.webdriver.remote.webelement.WebElement (session=\"68a58144268279b1d4dba3a908c567a5\", element=\"724c7fc8-4605-455e-a52f-1ce69322e59e\")>,\n",
       " <selenium.webdriver.remote.webelement.WebElement (session=\"68a58144268279b1d4dba3a908c567a5\", element=\"dd241a7c-a96a-49c9-910c-2d09d32963f3\")>,\n",
       " <selenium.webdriver.remote.webelement.WebElement (session=\"68a58144268279b1d4dba3a908c567a5\", element=\"7ac70b05-fa1a-4af2-ad40-ef63867e4922\")>,\n",
       " <selenium.webdriver.remote.webelement.WebElement (session=\"68a58144268279b1d4dba3a908c567a5\", element=\"4ca6267a-2e3c-41c9-8acc-6047f106bffc\")>,\n",
       " <selenium.webdriver.remote.webelement.WebElement (session=\"68a58144268279b1d4dba3a908c567a5\", element=\"85b8139d-bb92-4895-8708-f6520961ad82\")>,\n",
       " <selenium.webdriver.remote.webelement.WebElement (session=\"68a58144268279b1d4dba3a908c567a5\", element=\"87657e10-2eb9-49f1-90c8-650267ba3658\")>,\n",
       " <selenium.webdriver.remote.webelement.WebElement (session=\"68a58144268279b1d4dba3a908c567a5\", element=\"0b54bb2b-fce8-48c0-be5e-3f5967831624\")>,\n",
       " <selenium.webdriver.remote.webelement.WebElement (session=\"68a58144268279b1d4dba3a908c567a5\", element=\"561689f1-1e20-4bdb-a5bc-68d2bfb03faf\")>,\n",
       " <selenium.webdriver.remote.webelement.WebElement (session=\"68a58144268279b1d4dba3a908c567a5\", element=\"e3faada2-7ec2-4ebf-b2a4-b01fa1043d58\")>,\n",
       " <selenium.webdriver.remote.webelement.WebElement (session=\"68a58144268279b1d4dba3a908c567a5\", element=\"a281fdd8-0f56-4d06-9619-222245b99c44\")>,\n",
       " <selenium.webdriver.remote.webelement.WebElement (session=\"68a58144268279b1d4dba3a908c567a5\", element=\"e3f9bbf7-ad04-4cdb-8a0e-f86ab6d73a82\")>,\n",
       " <selenium.webdriver.remote.webelement.WebElement (session=\"68a58144268279b1d4dba3a908c567a5\", element=\"724e7778-720c-4edd-83fa-fe50beaffe66\")>,\n",
       " <selenium.webdriver.remote.webelement.WebElement (session=\"68a58144268279b1d4dba3a908c567a5\", element=\"17c6b6cc-10e6-4ecd-af8b-6a357ebddd7a\")>,\n",
       " <selenium.webdriver.remote.webelement.WebElement (session=\"68a58144268279b1d4dba3a908c567a5\", element=\"3bf7e8e0-a8c9-4924-97e6-4eb29ecf5bd8\")>,\n",
       " <selenium.webdriver.remote.webelement.WebElement (session=\"68a58144268279b1d4dba3a908c567a5\", element=\"6bfd4632-37ac-4b01-a52a-c9b8c4d6822e\")>,\n",
       " <selenium.webdriver.remote.webelement.WebElement (session=\"68a58144268279b1d4dba3a908c567a5\", element=\"fe6d5370-6266-4fea-a910-f40371c15290\")>,\n",
       " <selenium.webdriver.remote.webelement.WebElement (session=\"68a58144268279b1d4dba3a908c567a5\", element=\"487c0ac8-4458-4ce9-a6ca-5fc5db97cce5\")>,\n",
       " <selenium.webdriver.remote.webelement.WebElement (session=\"68a58144268279b1d4dba3a908c567a5\", element=\"d9703c76-60eb-4d95-a747-5525bbd1c7c8\")>,\n",
       " <selenium.webdriver.remote.webelement.WebElement (session=\"68a58144268279b1d4dba3a908c567a5\", element=\"61586d39-9923-4665-a79d-881eb670f385\")>,\n",
       " <selenium.webdriver.remote.webelement.WebElement (session=\"68a58144268279b1d4dba3a908c567a5\", element=\"b70fe563-c4bc-4266-a50b-555643e9438c\")>,\n",
       " <selenium.webdriver.remote.webelement.WebElement (session=\"68a58144268279b1d4dba3a908c567a5\", element=\"e3990f98-9865-46c4-a99f-f63a12fd806a\")>,\n",
       " <selenium.webdriver.remote.webelement.WebElement (session=\"68a58144268279b1d4dba3a908c567a5\", element=\"8ea1a7e4-1991-4857-af21-d76e75f589c6\")>,\n",
       " <selenium.webdriver.remote.webelement.WebElement (session=\"68a58144268279b1d4dba3a908c567a5\", element=\"9b0449ec-f1a0-4de8-9835-17c375979211\")>,\n",
       " <selenium.webdriver.remote.webelement.WebElement (session=\"68a58144268279b1d4dba3a908c567a5\", element=\"d1809e97-d430-43b3-8499-258c2308f63b\")>,\n",
       " <selenium.webdriver.remote.webelement.WebElement (session=\"68a58144268279b1d4dba3a908c567a5\", element=\"d652afc9-5da5-40e9-8c43-ccb22146e506\")>,\n",
       " <selenium.webdriver.remote.webelement.WebElement (session=\"68a58144268279b1d4dba3a908c567a5\", element=\"9e09b09a-6948-4f8c-9354-5be4f35872bf\")>,\n",
       " <selenium.webdriver.remote.webelement.WebElement (session=\"68a58144268279b1d4dba3a908c567a5\", element=\"52db519e-bc96-42e5-9b38-e2ccd052254d\")>,\n",
       " <selenium.webdriver.remote.webelement.WebElement (session=\"68a58144268279b1d4dba3a908c567a5\", element=\"50f82d3d-9a17-4a09-a4db-68881bdd387b\")>,\n",
       " <selenium.webdriver.remote.webelement.WebElement (session=\"68a58144268279b1d4dba3a908c567a5\", element=\"9a76fd8d-8da5-4504-8c1c-0f248497d764\")>,\n",
       " <selenium.webdriver.remote.webelement.WebElement (session=\"68a58144268279b1d4dba3a908c567a5\", element=\"ab46377a-c219-481e-a0b7-df48c9553f0b\")>,\n",
       " <selenium.webdriver.remote.webelement.WebElement (session=\"68a58144268279b1d4dba3a908c567a5\", element=\"7d3ff086-5ac1-469a-a619-a3181db39527\")>,\n",
       " <selenium.webdriver.remote.webelement.WebElement (session=\"68a58144268279b1d4dba3a908c567a5\", element=\"a89490c2-2d5f-499a-9658-e9e2ec0df315\")>,\n",
       " <selenium.webdriver.remote.webelement.WebElement (session=\"68a58144268279b1d4dba3a908c567a5\", element=\"1a39c5cc-9ee4-46a0-ae89-fc886498d0a2\")>,\n",
       " <selenium.webdriver.remote.webelement.WebElement (session=\"68a58144268279b1d4dba3a908c567a5\", element=\"d77a7dbd-7a9c-42bf-8ab9-a5e88d22cef7\")>,\n",
       " <selenium.webdriver.remote.webelement.WebElement (session=\"68a58144268279b1d4dba3a908c567a5\", element=\"ddcc30ef-909e-488b-9f6e-1f6f242c0b41\")>,\n",
       " <selenium.webdriver.remote.webelement.WebElement (session=\"68a58144268279b1d4dba3a908c567a5\", element=\"2a35f9ca-ce75-4120-8850-11b8e91948c8\")>,\n",
       " <selenium.webdriver.remote.webelement.WebElement (session=\"68a58144268279b1d4dba3a908c567a5\", element=\"e9867be9-7a67-4149-957a-ac412ec782b6\")>,\n",
       " <selenium.webdriver.remote.webelement.WebElement (session=\"68a58144268279b1d4dba3a908c567a5\", element=\"1bf484c0-5eeb-4990-a5e8-8170c48e6672\")>,\n",
       " <selenium.webdriver.remote.webelement.WebElement (session=\"68a58144268279b1d4dba3a908c567a5\", element=\"00bdad73-8838-4a7c-a28a-36b184bd2451\")>,\n",
       " <selenium.webdriver.remote.webelement.WebElement (session=\"68a58144268279b1d4dba3a908c567a5\", element=\"a97bfcfe-cbc9-4455-aa85-d497e33b58cb\")>]"
      ]
     },
     "execution_count": 32,
     "metadata": {},
     "output_type": "execute_result"
    }
   ],
   "source": [
    "Price_tags=driver.find_elements_by_xpath(\"//div[@class='_30jeq3']\")\n",
    "Price_tags[0:99]"
   ]
  },
  {
   "cell_type": "code",
   "execution_count": 33,
   "id": "c46be57d",
   "metadata": {
    "scrolled": true
   },
   "outputs": [
    {
     "data": {
      "text/plain": [
       "['₹388',\n",
       " '₹399',\n",
       " '₹158',\n",
       " '₹245',\n",
       " '₹269',\n",
       " '₹692',\n",
       " '₹4,291',\n",
       " '₹1,124',\n",
       " '₹351',\n",
       " '₹349',\n",
       " '₹561',\n",
       " '₹249',\n",
       " '₹249',\n",
       " '₹249',\n",
       " '₹449',\n",
       " '₹998',\n",
       " '₹297',\n",
       " '₹419',\n",
       " '₹249',\n",
       " '₹600',\n",
       " '₹489',\n",
       " '₹374',\n",
       " '₹348',\n",
       " '₹424',\n",
       " '₹449',\n",
       " '₹706',\n",
       " '₹399',\n",
       " '₹400',\n",
       " '₹219',\n",
       " '₹327',\n",
       " '₹250',\n",
       " '₹424',\n",
       " '₹599',\n",
       " '₹158',\n",
       " '₹449',\n",
       " '₹1,398',\n",
       " '₹405',\n",
       " '₹376',\n",
       " '₹199',\n",
       " '₹1,298']"
      ]
     },
     "execution_count": 33,
     "metadata": {},
     "output_type": "execute_result"
    }
   ],
   "source": [
    "for i in Price_tags:\n",
    "    text=i.text\n",
    "    Price.append(text)\n",
    "Price[0:99]"
   ]
  },
  {
   "cell_type": "code",
   "execution_count": 34,
   "id": "5853822f",
   "metadata": {},
   "outputs": [],
   "source": [
    "discount=[]"
   ]
  },
  {
   "cell_type": "code",
   "execution_count": 35,
   "id": "6620eaf6",
   "metadata": {
    "scrolled": true
   },
   "outputs": [
    {
     "data": {
      "text/plain": [
       "[<selenium.webdriver.remote.webelement.WebElement (session=\"68a58144268279b1d4dba3a908c567a5\", element=\"83d5a4ad-48d4-4312-b242-0d5f0656d3fe\")>,\n",
       " <selenium.webdriver.remote.webelement.WebElement (session=\"68a58144268279b1d4dba3a908c567a5\", element=\"44895d5e-06f6-4f84-889b-5e730fd4d395\")>,\n",
       " <selenium.webdriver.remote.webelement.WebElement (session=\"68a58144268279b1d4dba3a908c567a5\", element=\"4fbdc5b6-3b1e-47a7-b677-27fbee7104d2\")>,\n",
       " <selenium.webdriver.remote.webelement.WebElement (session=\"68a58144268279b1d4dba3a908c567a5\", element=\"dd16bede-fdf8-4a22-94aa-070c8c933854\")>,\n",
       " <selenium.webdriver.remote.webelement.WebElement (session=\"68a58144268279b1d4dba3a908c567a5\", element=\"cd829124-8f6d-458e-aec1-8c57816436cd\")>,\n",
       " <selenium.webdriver.remote.webelement.WebElement (session=\"68a58144268279b1d4dba3a908c567a5\", element=\"e8366dc7-b35d-431b-b430-bd9b9fa9d1c5\")>,\n",
       " <selenium.webdriver.remote.webelement.WebElement (session=\"68a58144268279b1d4dba3a908c567a5\", element=\"ab1ef894-63dc-400c-813e-b7a47658a5bf\")>,\n",
       " <selenium.webdriver.remote.webelement.WebElement (session=\"68a58144268279b1d4dba3a908c567a5\", element=\"f55a81b4-b290-4094-b133-e23df97d3ac0\")>,\n",
       " <selenium.webdriver.remote.webelement.WebElement (session=\"68a58144268279b1d4dba3a908c567a5\", element=\"1912dd15-a56c-44ba-bd56-a141f3ceb518\")>,\n",
       " <selenium.webdriver.remote.webelement.WebElement (session=\"68a58144268279b1d4dba3a908c567a5\", element=\"a646bbe4-2217-482a-bec8-291e5a0134cc\")>,\n",
       " <selenium.webdriver.remote.webelement.WebElement (session=\"68a58144268279b1d4dba3a908c567a5\", element=\"96657d50-e0e2-437b-b5ae-20ce6f4411a6\")>,\n",
       " <selenium.webdriver.remote.webelement.WebElement (session=\"68a58144268279b1d4dba3a908c567a5\", element=\"e3e1f360-244d-468c-897e-7a030753d290\")>,\n",
       " <selenium.webdriver.remote.webelement.WebElement (session=\"68a58144268279b1d4dba3a908c567a5\", element=\"26ae6e47-b5b7-4dce-bd46-38bfc455114b\")>,\n",
       " <selenium.webdriver.remote.webelement.WebElement (session=\"68a58144268279b1d4dba3a908c567a5\", element=\"b58640bb-47aa-4b7a-850d-ef70cabe1d10\")>,\n",
       " <selenium.webdriver.remote.webelement.WebElement (session=\"68a58144268279b1d4dba3a908c567a5\", element=\"f6ccdc26-f295-49b5-a903-5afe5353dcd1\")>,\n",
       " <selenium.webdriver.remote.webelement.WebElement (session=\"68a58144268279b1d4dba3a908c567a5\", element=\"0ecf2630-2708-45ff-b223-d914658b0b5e\")>,\n",
       " <selenium.webdriver.remote.webelement.WebElement (session=\"68a58144268279b1d4dba3a908c567a5\", element=\"1d126d65-4101-4e82-a779-6a33928b802a\")>,\n",
       " <selenium.webdriver.remote.webelement.WebElement (session=\"68a58144268279b1d4dba3a908c567a5\", element=\"a5cd2267-f4b4-47f0-8be5-8729d3f7e86e\")>,\n",
       " <selenium.webdriver.remote.webelement.WebElement (session=\"68a58144268279b1d4dba3a908c567a5\", element=\"d138fde5-8314-427e-8719-a74bceb59ef8\")>,\n",
       " <selenium.webdriver.remote.webelement.WebElement (session=\"68a58144268279b1d4dba3a908c567a5\", element=\"4ba10316-1a7f-48d5-a704-dbdd5ec625e5\")>,\n",
       " <selenium.webdriver.remote.webelement.WebElement (session=\"68a58144268279b1d4dba3a908c567a5\", element=\"a61d228c-35ab-4ac4-a698-dee3a40deb24\")>,\n",
       " <selenium.webdriver.remote.webelement.WebElement (session=\"68a58144268279b1d4dba3a908c567a5\", element=\"a681d51f-1107-408e-9a5d-67ae8ca1ea96\")>,\n",
       " <selenium.webdriver.remote.webelement.WebElement (session=\"68a58144268279b1d4dba3a908c567a5\", element=\"9edf22c3-c608-42fa-8959-f0ab16870526\")>,\n",
       " <selenium.webdriver.remote.webelement.WebElement (session=\"68a58144268279b1d4dba3a908c567a5\", element=\"397076d6-3943-4b0c-91f3-5bfbfe3f387e\")>,\n",
       " <selenium.webdriver.remote.webelement.WebElement (session=\"68a58144268279b1d4dba3a908c567a5\", element=\"cef05968-ff82-412a-8f20-1330d5863423\")>,\n",
       " <selenium.webdriver.remote.webelement.WebElement (session=\"68a58144268279b1d4dba3a908c567a5\", element=\"e1e683d6-5095-4860-b86e-c99090bd8831\")>,\n",
       " <selenium.webdriver.remote.webelement.WebElement (session=\"68a58144268279b1d4dba3a908c567a5\", element=\"7d0f4dcd-f597-41d4-90ce-e0011d319abe\")>,\n",
       " <selenium.webdriver.remote.webelement.WebElement (session=\"68a58144268279b1d4dba3a908c567a5\", element=\"7cbff4e1-3b09-4f83-bd25-5fdc88bad657\")>,\n",
       " <selenium.webdriver.remote.webelement.WebElement (session=\"68a58144268279b1d4dba3a908c567a5\", element=\"2846a066-bff7-4caa-bd1d-974878469a8e\")>,\n",
       " <selenium.webdriver.remote.webelement.WebElement (session=\"68a58144268279b1d4dba3a908c567a5\", element=\"f1b288d7-8efd-4d02-8d2a-d4899f4bf35c\")>,\n",
       " <selenium.webdriver.remote.webelement.WebElement (session=\"68a58144268279b1d4dba3a908c567a5\", element=\"3a961ee2-9d2c-47b4-a1f4-af4cfbd165a4\")>,\n",
       " <selenium.webdriver.remote.webelement.WebElement (session=\"68a58144268279b1d4dba3a908c567a5\", element=\"2c6fad8d-6a9b-4e67-8720-bc54f06a77fe\")>,\n",
       " <selenium.webdriver.remote.webelement.WebElement (session=\"68a58144268279b1d4dba3a908c567a5\", element=\"e0dbc042-a4e6-463a-8df2-1482eea13631\")>,\n",
       " <selenium.webdriver.remote.webelement.WebElement (session=\"68a58144268279b1d4dba3a908c567a5\", element=\"28fcb34d-64ab-42f6-b7bf-eecacc049594\")>,\n",
       " <selenium.webdriver.remote.webelement.WebElement (session=\"68a58144268279b1d4dba3a908c567a5\", element=\"491185b4-493c-4cae-ad04-869fd8bd189b\")>,\n",
       " <selenium.webdriver.remote.webelement.WebElement (session=\"68a58144268279b1d4dba3a908c567a5\", element=\"ac75c7fb-fe45-4566-a0eb-5ff12c8df8a5\")>,\n",
       " <selenium.webdriver.remote.webelement.WebElement (session=\"68a58144268279b1d4dba3a908c567a5\", element=\"5a36c6ca-6111-41f8-ade5-625f41d03178\")>,\n",
       " <selenium.webdriver.remote.webelement.WebElement (session=\"68a58144268279b1d4dba3a908c567a5\", element=\"c311b2ca-555a-40b4-95fd-0bc5390a5b55\")>,\n",
       " <selenium.webdriver.remote.webelement.WebElement (session=\"68a58144268279b1d4dba3a908c567a5\", element=\"b94d9321-79a9-4d60-ade0-b034a884994f\")>,\n",
       " <selenium.webdriver.remote.webelement.WebElement (session=\"68a58144268279b1d4dba3a908c567a5\", element=\"7c758bee-bfd3-47a0-93c6-bc74f3ebf001\")>]"
      ]
     },
     "execution_count": 35,
     "metadata": {},
     "output_type": "execute_result"
    }
   ],
   "source": [
    "discount_tags=driver.find_elements_by_xpath(\"//div[@class='_3Ay6Sb']/span\")\n",
    "discount_tags[0:99]"
   ]
  },
  {
   "cell_type": "code",
   "execution_count": 36,
   "id": "b5fe7d24",
   "metadata": {
    "scrolled": true
   },
   "outputs": [
    {
     "data": {
      "text/plain": [
       "['61% off',\n",
       " '73% off',\n",
       " '84% off',\n",
       " '81% off',\n",
       " '73% off',\n",
       " '80% off',\n",
       " '10% off',\n",
       " '76% off',\n",
       " '64% off',\n",
       " '82% off',\n",
       " '77% off',\n",
       " '84% off',\n",
       " '80% off',\n",
       " '80% off',\n",
       " '55% off',\n",
       " '76% off',\n",
       " '70% off',\n",
       " '58% off',\n",
       " '75% off',\n",
       " '39% off',\n",
       " '51% off',\n",
       " '71% off',\n",
       " '65% off',\n",
       " '57% off',\n",
       " '77% off',\n",
       " '21% off',\n",
       " '60% off',\n",
       " '79% off',\n",
       " '78% off',\n",
       " '67% off',\n",
       " '60% off',\n",
       " '57% off',\n",
       " '60% off',\n",
       " '73% off',\n",
       " '70% off',\n",
       " '75% off',\n",
       " '59% off',\n",
       " '62% off',\n",
       " '60% off',\n",
       " '75% off']"
      ]
     },
     "execution_count": 36,
     "metadata": {},
     "output_type": "execute_result"
    }
   ],
   "source": [
    "for i in discount_tags:\n",
    "    text=i.text\n",
    "    discount.append(text)\n",
    "discount[0:99]"
   ]
  },
  {
   "cell_type": "code",
   "execution_count": 37,
   "id": "75be4044",
   "metadata": {},
   "outputs": [],
   "source": [
    "driver.close()"
   ]
  },
  {
   "cell_type": "code",
   "execution_count": null,
   "id": "75bcf51d",
   "metadata": {},
   "outputs": [],
   "source": []
  }
 ],
 "metadata": {
  "kernelspec": {
   "display_name": "Python 3 (ipykernel)",
   "language": "python",
   "name": "python3"
  },
  "language_info": {
   "codemirror_mode": {
    "name": "ipython",
    "version": 3
   },
   "file_extension": ".py",
   "mimetype": "text/x-python",
   "name": "python",
   "nbconvert_exporter": "python",
   "pygments_lexer": "ipython3",
   "version": "3.9.7"
  }
 },
 "nbformat": 4,
 "nbformat_minor": 5
}
